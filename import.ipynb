{
  "nbformat": 4,
  "nbformat_minor": 0,
  "metadata": {
    "colab": {
      "name": "import.ipynb",
      "provenance": [],
      "include_colab_link": true
    },
    "kernelspec": {
      "name": "python3",
      "display_name": "Python 3"
    },
    "language_info": {
      "name": "python"
    }
  },
  "cells": [
    {
      "cell_type": "markdown",
      "metadata": {
        "id": "view-in-github",
        "colab_type": "text"
      },
      "source": [
        "<a href=\"https://colab.research.google.com/github/Junse0/class2021Fall/blob/main/import.ipynb\" target=\"_parent\"><img src=\"https://colab.research.google.com/assets/colab-badge.svg\" alt=\"Open In Colab\"/></a>"
      ]
    },
    {
      "cell_type": "code",
      "metadata": {
        "id": "Fm4fJPsOKD7M"
      },
      "source": [
        "# import numpy \n",
        "# n=numpy.random.randn(100)\n",
        "# print(n)"
      ],
      "execution_count": 24,
      "outputs": []
    },
    {
      "cell_type": "code",
      "metadata": {
        "id": "JXicrkYOzPRo"
      },
      "source": [
        "import numpy as np\n",
        "n = np.random.randn(10000)"
      ],
      "execution_count": 25,
      "outputs": []
    },
    {
      "cell_type": "code",
      "metadata": {
        "id": "oKT4vn4MwyLA",
        "colab": {
          "base_uri": "https://localhost:8080/",
          "height": 583
        },
        "outputId": "bf2dfb8d-e005-40e0-c009-fae72d60b8ef"
      },
      "source": [
        "import matplotlib\n",
        "matplotlib.pyplot.hist(n, bins=50)"
      ],
      "execution_count": 26,
      "outputs": [
        {
          "output_type": "execute_result",
          "data": {
            "text/plain": [
              "(array([  1.,   1.,   1.,   2.,   7.,   4.,   6.,  10.,  19.,  28.,  53.,\n",
              "         46.,  72.,  90., 124., 150., 209., 227., 293., 355., 389., 457.,\n",
              "        482., 505., 520., 579., 571., 593., 527., 527., 476., 457., 397.,\n",
              "        341., 282., 259., 216., 184., 142., 121.,  85.,  68.,  42.,  30.,\n",
              "         23.,  11.,  11.,   3.,   1.,   3.]),\n",
              " array([-3.84047878, -3.69650524, -3.5525317 , -3.40855816, -3.26458463,\n",
              "        -3.12061109, -2.97663755, -2.83266402, -2.68869048, -2.54471694,\n",
              "        -2.4007434 , -2.25676987, -2.11279633, -1.96882279, -1.82484925,\n",
              "        -1.68087572, -1.53690218, -1.39292864, -1.24895511, -1.10498157,\n",
              "        -0.96100803, -0.81703449, -0.67306096, -0.52908742, -0.38511388,\n",
              "        -0.24114034, -0.09716681,  0.04680673,  0.19078027,  0.33475381,\n",
              "         0.47872734,  0.62270088,  0.76667442,  0.91064795,  1.05462149,\n",
              "         1.19859503,  1.34256857,  1.4865421 ,  1.63051564,  1.77448918,\n",
              "         1.91846272,  2.06243625,  2.20640979,  2.35038333,  2.49435686,\n",
              "         2.6383304 ,  2.78230394,  2.92627748,  3.07025101,  3.21422455,\n",
              "         3.35819809]),\n",
              " <a list of 50 Patch objects>)"
            ]
          },
          "metadata": {},
          "execution_count": 26
        },
        {
          "output_type": "display_data",
          "data": {
            "image/png": "[encoded data removed]",
            "text/plain": [
              "<Figure size 432x288 with 1 Axes>"
            ]
          },
          "metadata": {
            "needs_background": "light"
          }
        }
      ]
    },
    {
      "cell_type": "code",
      "metadata": {
        "colab": {
          "base_uri": "https://localhost:8080/",
          "height": 377
        },
        "id": "zQJ4LnbA-Hvz",
        "outputId": "17879bf3-28ea-4f60-dff4-cc19b8085faa"
      },
      "source": [
        "import matplotlib.pyplot\n",
        "matplotlib.pyplot.hist(n)\n",
        "\n",
        "# 오류!\n",
        "#import matplotlib.pyplot\n",
        "#pyplot.hist(n)"
      ],
      "execution_count": 27,
      "outputs": [
        {
          "output_type": "execute_result",
          "data": {
            "text/plain": [
              "(array([  12.,   67.,  385., 1234., 2353., 2797., 1953.,  922.,  248.,\n",
              "          29.]),\n",
              " array([-3.84047878, -3.12061109, -2.4007434 , -1.68087572, -0.96100803,\n",
              "        -0.24114034,  0.47872734,  1.19859503,  1.91846272,  2.6383304 ,\n",
              "         3.35819809]),\n",
              " <a list of 10 Patch objects>)"
            ]
          },
          "metadata": {},
          "execution_count": 27
        },
        {
          "output_type": "display_data",
          "data": {
            "image/png": "[encoded data removed]",
            "text/plain": [
              "<Figure size 432x288 with 1 Axes>"
            ]
          },
          "metadata": {
            "needs_background": "light"
          }
        }
      ]
    },
    {
      "cell_type": "code",
      "metadata": {
        "id": "AWU6awi53c07",
        "colab": {
          "base_uri": "https://localhost:8080/",
          "height": 377
        },
        "outputId": "db9573a7-c26d-41f2-8777-61641c35e2bf"
      },
      "source": [
        "import matplotlib.pyplot as plt\n",
        "plt.hist(n)"
      ],
      "execution_count": 28,
      "outputs": [
        {
          "output_type": "execute_result",
          "data": {
            "text/plain": [
              "(array([  12.,   67.,  385., 1234., 2353., 2797., 1953.,  922.,  248.,\n",
              "          29.]),\n",
              " array([-3.84047878, -3.12061109, -2.4007434 , -1.68087572, -0.96100803,\n",
              "        -0.24114034,  0.47872734,  1.19859503,  1.91846272,  2.6383304 ,\n",
              "         3.35819809]),\n",
              " <a list of 10 Patch objects>)"
            ]
          },
          "metadata": {},
          "execution_count": 28
        },
        {
          "output_type": "display_data",
          "data": {
            "image/png": "[encoded data removed]",
            "text/plain": [
              "<Figure size 432x288 with 1 Axes>"
            ]
          },
          "metadata": {
            "needs_background": "light"
          }
        }
      ]
    },
    {
      "cell_type": "code",
      "metadata": {
        "colab": {
          "base_uri": "https://localhost:8080/",
          "height": 377
        },
        "id": "moIjn3Kv-Hqy",
        "outputId": "ebb966c5-ea4b-4617-8042-41472501b9b7"
      },
      "source": [
        "from matplotlib import pyplot\n",
        "pyplot.hist(n)"
      ],
      "execution_count": 29,
      "outputs": [
        {
          "output_type": "execute_result",
          "data": {
            "text/plain": [
              "(array([  12.,   67.,  385., 1234., 2353., 2797., 1953.,  922.,  248.,\n",
              "          29.]),\n",
              " array([-3.84047878, -3.12061109, -2.4007434 , -1.68087572, -0.96100803,\n",
              "        -0.24114034,  0.47872734,  1.19859503,  1.91846272,  2.6383304 ,\n",
              "         3.35819809]),\n",
              " <a list of 10 Patch objects>)"
            ]
          },
          "metadata": {},
          "execution_count": 29
        },
        {
          "output_type": "display_data",
          "data": {
            "image/png": "[encoded data removed]",
            "text/plain": [
              "<Figure size 432x288 with 1 Axes>"
            ]
          },
          "metadata": {
            "needs_background": "light"
          }
        }
      ]
    },
    {
      "cell_type": "code",
      "metadata": {
        "colab": {
          "base_uri": "https://localhost:8080/",
          "height": 377
        },
        "id": "ORo259i7_Uqi",
        "outputId": "520557c0-c751-4f84-e230-dc763b87beb9"
      },
      "source": [
        "from matplotlib.pyplot import hist\n",
        "hist(n)"
      ],
      "execution_count": 30,
      "outputs": [
        {
          "output_type": "execute_result",
          "data": {
            "text/plain": [
              "(array([  12.,   67.,  385., 1234., 2353., 2797., 1953.,  922.,  248.,\n",
              "          29.]),\n",
              " array([-3.84047878, -3.12061109, -2.4007434 , -1.68087572, -0.96100803,\n",
              "        -0.24114034,  0.47872734,  1.19859503,  1.91846272,  2.6383304 ,\n",
              "         3.35819809]),\n",
              " <a list of 10 Patch objects>)"
            ]
          },
          "metadata": {},
          "execution_count": 30
        },
        {
          "output_type": "display_data",
          "data": {
            "image/png": "[encoded data removed]",
            "text/plain": [
              "<Figure size 432x288 with 1 Axes>"
            ]
          },
          "metadata": {
            "needs_background": "light"
          }
        }
      ]
    }
  ]
}