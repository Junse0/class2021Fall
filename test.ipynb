{
  "nbformat": 4,
  "nbformat_minor": 0,
  "metadata": {
    "colab": {
      "name": "test.ipynb",
      "provenance": [],
      "authorship_tag": "ABX9TyPtRmiNlpjvWUhjy/XVSosC",
      "include_colab_link": true
    },
    "kernelspec": {
      "name": "python3",
      "display_name": "Python 3"
    },
    "language_info": {
      "name": "python"
    }
  },
  "cells": [
    {
      "cell_type": "markdown",
      "metadata": {
        "id": "view-in-github",
        "colab_type": "text"
      },
      "source": [
        "<a href=\"https://colab.research.google.com/github/Junse0/class2021Fall/blob/main/test.ipynb\" target=\"_parent\"><img src=\"https://colab.research.google.com/assets/colab-badge.svg\" alt=\"Open In Colab\"/></a>"
      ]
    },
    {
      "cell_type": "markdown",
      "source": [
        "(지금 사용하는 것이)Jupyter Notebook(이라는 환경임)"
      ],
      "metadata": {
        "id": "n-qyBCx1Gu1M"
      }
    },
    {
      "cell_type": "markdown",
      "source": [
        "제일 처음 해 보는 코딩입니다.\n",
        "\n",
        "제일 **처음** 해 보는 코딩입니다.\n",
        "\n",
        "제일 *처음* 해 보는 코딩입니다."
      ],
      "metadata": {
        "id": "7O_ec0dJHL_c"
      }
    },
    {
      "cell_type": "markdown",
      "metadata": {
        "id": "oFPI-Qx_8Rc3"
      },
      "source": [
        "모든 코딩은 '변수 (variables)', '제어문 (syntax)', '함수'로 이루어짐"
      ]
    },
    {
      "cell_type": "code",
      "metadata": {
        "colab": {
          "base_uri": "https://localhost:8080/"
        },
        "id": "n8-EC4WR9CBn",
        "outputId": "f69937f8-4421-41c2-b5a6-57e454417a49"
      },
      "source": [
        "# 변수(variables)(int,float,str,list,dict)\n",
        "a = 1                                                                           # '=' 은 변수(왼쪽)에 해당 값(오른쪽)을 할당한다는 뜻 (같다는 뜻이 아님)\n",
        "b = 1.1\n",
        "c = 'hello'                                                                     # 글자도 변수에 넣을 수 있음 # 텍스트(string)을 표현 할 때는 '' 안에 표현\n",
        "d = [1, 'abc', 2.1]                                                             # 리스트(여러가지를 한꺼번에 넣는것)(다른 종류가 있어도 됨 int, str,float...)\n",
        "e = {\"apple\": \"red fruit\", \"banana\": \"yellow furit\"}                            # 중괄호\n",
        "\n",
        "print(a) \n",
        "print(b)\n",
        "\n",
        "print(type(a))                                                                  # <class 'int'> 정수\n",
        "print(type(b))                                                                  # <class 'str'> 문자\n",
        "print(type(c))                                                                  # <class 'float'> 소수점이 포함된 숫자\n",
        "print(type(d))                                                                  # <class 'list'>\n",
        "print(type(e))                                                                  # <class 'dict'>\n",
        "\n",
        "# access할 때는 []사용\n",
        "print(c[0])                                                                     # 'hellow'의 0번째 h를 출력\n",
        "print(c[0:2])                                                                   # 'hellow\"의 0에서 1까지 he 출력\n",
        "print(d[0])                                                                     # '1'\n",
        "print(d[1])                                                                     # 'abc'\n",
        "print(d[1][1])                                                                  # 'b' (리스트의 1번째의 1번째 출력)\n",
        "print(e)\n",
        "# print(e[0]) # error(dict는 표제어를 넣어 access해야 함)\n",
        "print(e[\"apple\"])"
      ],
      "execution_count": 7,
      "outputs": [
        {
          "output_type": "stream",
          "name": "stdout",
          "text": [
            "1\n",
            "1.1\n",
            "<class 'int'>\n",
            "<class 'float'>\n",
            "<class 'str'>\n",
            "<class 'list'>\n",
            "<class 'dict'>\n",
            "h\n",
            "he\n",
            "1\n",
            "abc\n",
            "b\n",
            "{'apple': 'red fruit', 'banana': 'yellow furit'}\n",
            "red fruit\n",
            "red fruit\n"
          ]
        }
      ]
    },
    {
      "cell_type": "markdown",
      "source": [
        "변수는 문자여야 함\n",
        "\n",
        "1 = 4 (error)\n",
        "\n",
        "a123 = 4 (가능)"
      ],
      "metadata": {
        "id": "1N7oYaOVPdqZ"
      }
    }
  ]
}