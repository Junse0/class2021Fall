{
  "nbformat": 4,
  "nbformat_minor": 0,
  "metadata": {
    "colab": {
      "name": "test.ipynb",
      "provenance": [],
      "authorship_tag": "ABX9TyOmFARVJtVHqJVKXLmndUyu",
      "include_colab_link": true
    },
    "kernelspec": {
      "name": "python3",
      "display_name": "Python 3"
    },
    "language_info": {
      "name": "python"
    }
  },
  "cells": [
    {
      "cell_type": "markdown",
      "metadata": {
        "id": "view-in-github",
        "colab_type": "text"
      },
      "source": [
        "<a href=\"https://colab.research.google.com/github/Junse0/class2021Fall/blob/main/test.ipynb\" target=\"_parent\"><img src=\"https://colab.research.google.com/assets/colab-badge.svg\" alt=\"Open In Colab\"/></a>"
      ]
    },
    {
      "cell_type": "markdown",
      "source": [
        "(지금 사용하는 것이)Jupyter Notebook(이라는 환경임)"
      ],
      "metadata": {
        "id": "n-qyBCx1Gu1M"
      }
    },
    {
      "cell_type": "markdown",
      "source": [
        "제일 처음 해 보는 코딩입니다.\n",
        "\n",
        "제일 **처음** 해 보는 코딩입니다.\n",
        "\n",
        "제일 *처음* 해 보는 코딩입니다."
      ],
      "metadata": {
        "id": "7O_ec0dJHL_c"
      }
    },
    {
      "cell_type": "markdown",
      "metadata": {
        "id": "oFPI-Qx_8Rc3"
      },
      "source": [
        "모든 코딩은 '변수 (variables)', '제어문 (syntax)', '함수'로 이루어짐"
      ]
    },
    {
      "cell_type": "code",
      "metadata": {
        "colab": {
          "base_uri": "https://localhost:8080/"
        },
        "id": "n8-EC4WR9CBn",
        "outputId": "b5bdbd57-788f-4230-c434-418784d64e7e"
      },
      "source": [
        "a = 1                                                                           # 변수(variables) # '=' 은 변수에 해당 값을 할당한다는 뜻(같다는 뜻이 아님)\n",
        "b = 1.1\n",
        "c = 'hello'                                                                     # 글자도 변수에 넣을 수 있음 # 텍스트(string)을 표현 할 때는 '' 안에 표현\n",
        "d = [1, 'abc', 2.1]                                                             # 리스트(여러가지를 한꺼번에 넣는것)(다른 종류가 있어도 됨 int, str,float...)\n",
        "e = {\"apple\": \"red fruit\", \"banana\": \"yellow furit\"}\n",
        "\n",
        "print(a) \n",
        "print(b)\n",
        "\n",
        "print(type(a))                                                                  # <class 'int'> 정수\n",
        "print(type(b))                                                                  # <class 'str'> 문자\n",
        "print(type(c))                                                                  # <class 'float'> 소수점이 포함된 숫자\n",
        "print(type(d))                                                                  # <class 'list'>\n",
        " \n",
        "print(e[\"apple\"])"
      ],
      "execution_count": 2,
      "outputs": [
        {
          "output_type": "stream",
          "name": "stdout",
          "text": [
            "1\n",
            "1.1\n",
            "<class 'int'>\n",
            "<class 'float'>\n",
            "<class 'str'>\n",
            "<class 'list'>\n",
            "red fruit\n"
          ]
        }
      ]
    }
  ]
}