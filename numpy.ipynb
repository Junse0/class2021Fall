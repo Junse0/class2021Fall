{
  "nbformat": 4,
  "nbformat_minor": 0,
  "metadata": {
    "kernelspec": {
      "display_name": "Python 3",
      "language": "python",
      "name": "python3"
    },
    "language_info": {
      "codemirror_mode": {
        "name": "ipython",
        "version": 3
      },
      "file_extension": ".py",
      "mimetype": "text/x-python",
      "name": "python",
      "nbconvert_exporter": "python",
      "pygments_lexer": "ipython3",
      "version": "3.7.1"
    },
    "colab": {
      "name": "numpy.ipynb",
      "provenance": [],
      "include_colab_link": true
    }
  },
  "cells": [
    {
      "cell_type": "markdown",
      "metadata": {
        "id": "view-in-github",
        "colab_type": "text"
      },
      "source": [
        "<a href=\"https://colab.research.google.com/github/Junse0/class2021Fall/blob/main/numpy.ipynb\" target=\"_parent\"><img src=\"https://colab.research.google.com/assets/colab-badge.svg\" alt=\"Open In Colab\"/></a>"
      ]
    },
    {
      "cell_type": "markdown",
      "metadata": {
        "id": "JcCdLoe_4bY7"
      },
      "source": [
        "### create nd arrays (≈matrices)"
      ]
    },
    {
      "cell_type": "markdown",
      "metadata": {
        "id": "3wUORQVsPRDl"
      },
      "source": [
        "n dimensional(3차원, 4차원 5차원...)\n",
        "행렬=2d(n x m)\n",
        "벡터=1d\n",
        "2 by 3 by 4 by 5(행 2개, 열 3개, 층 4개, 5개) 4d"
      ]
    },
    {
      "cell_type": "code",
      "metadata": {
        "id": "5ap7xyofShBB"
      },
      "source": [
        "import numpy as np"
      ],
      "execution_count": 2,
      "outputs": []
    },
    {
      "cell_type": "code",
      "metadata": {
        "id": "2rqpSPZCShBC",
        "colab": {
          "base_uri": "https://localhost:8080/"
        },
        "outputId": "c0759621-ff0a-4369-f12a-c410b1631604"
      },
      "source": [
        "# [[1,2,3],[4,5,6]] 2d/ \n",
        "# [1,2,3] 1d\n",
        "\n",
        "# x=np.array([[[1,2,3],[4,5,6]],[[8,9,0],[9,9,9]]])\n",
        "\n",
        "x = np.array([1,2,3])\n",
        "print(x)\n",
        "print(type(x))\n",
        "print(x.shape)"
      ],
      "execution_count": 3,
      "outputs": [
        {
          "output_type": "stream",
          "name": "stdout",
          "text": [
            "[1 2 3]\n",
            "<class 'numpy.ndarray'>\n",
            "(3,)\n"
          ]
        }
      ]
    },
    {
      "cell_type": "code",
      "metadata": {
        "id": "EjC88C75ShBC",
        "colab": {
          "base_uri": "https://localhost:8080/"
        },
        "outputId": "b9db7816-b373-47ca-e213-c560cd998ab3"
      },
      "source": [
        "x = np.arange(0,10,2) #a의 range(range:0-10)\n",
        "print(x)\n",
        "print(type(x))\n",
        "print(x.shape)"
      ],
      "execution_count": 4,
      "outputs": [
        {
          "output_type": "stream",
          "name": "stdout",
          "text": [
            "[0 2 4 6 8]\n",
            "<class 'numpy.ndarray'>\n",
            "(5,)\n"
          ]
        }
      ]
    },
    {
      "cell_type": "code",
      "metadata": {
        "id": "-MwkCEjTShBC",
        "colab": {
          "base_uri": "https://localhost:8080/"
        },
        "outputId": "20a0298e-7185-4af1-85ee-c1cce5b6b798"
      },
      "source": [
        "x = np.linspace(0,10,6) #등간격으로(10을 포함)\n",
        "print(x)\n",
        "print(type(x))\n",
        "print(x.shape)"
      ],
      "execution_count": 5,
      "outputs": [
        {
          "output_type": "stream",
          "name": "stdout",
          "text": [
            "[ 0.  2.  4.  6.  8. 10.]\n",
            "<class 'numpy.ndarray'>\n",
            "(6,)\n"
          ]
        }
      ]
    },
    {
      "cell_type": "code",
      "metadata": {
        "id": "tjk79SQ27fNv",
        "colab": {
          "base_uri": "https://localhost:8080/"
        },
        "outputId": "b506ae63-257c-4977-a85c-f1afb39ec977"
      },
      "source": [
        "x = np.array([[1,2,3], [4,5,6]])\n",
        "print(x)\n",
        "print(type(x))\n",
        "print(x.shape)"
      ],
      "execution_count": 6,
      "outputs": [
        {
          "output_type": "stream",
          "name": "stdout",
          "text": [
            "[[1 2 3]\n",
            " [4 5 6]]\n",
            "<class 'numpy.ndarray'>\n",
            "(2, 3)\n"
          ]
        }
      ]
    },
    {
      "cell_type": "code",
      "metadata": {
        "id": "C1ogg6iZ7yir",
        "colab": {
          "base_uri": "https://localhost:8080/"
        },
        "outputId": "4a959b18-c642-4268-c25c-8aa873ff1a63"
      },
      "source": [
        "x = np.array([[[1,2,3], [4,5,6]], [[7,8,9], [10,11,12]]])\n",
        "print(x)\n",
        "print(type(x))\n",
        "print(x.shape)"
      ],
      "execution_count": 7,
      "outputs": [
        {
          "output_type": "stream",
          "name": "stdout",
          "text": [
            "[[[ 1  2  3]\n",
            "  [ 4  5  6]]\n",
            "\n",
            " [[ 7  8  9]\n",
            "  [10 11 12]]]\n",
            "<class 'numpy.ndarray'>\n",
            "(2, 2, 3)\n"
          ]
        }
      ]
    },
    {
      "cell_type": "code",
      "metadata": {
        "id": "efgeNHtD8ZlT",
        "colab": {
          "base_uri": "https://localhost:8080/"
        },
        "outputId": "cf08adec-faae-40f5-f697-147768e1d45a"
      },
      "source": [
        "x = np.ones([2, 2, 3]) # 2 by 2 by 3\n",
        "print(x)\n",
        "print(type(x))\n",
        "print(x.shape)"
      ],
      "execution_count": 8,
      "outputs": [
        {
          "output_type": "stream",
          "name": "stdout",
          "text": [
            "[[[1. 1. 1.]\n",
            "  [1. 1. 1.]]\n",
            "\n",
            " [[1. 1. 1.]\n",
            "  [1. 1. 1.]]]\n",
            "<class 'numpy.ndarray'>\n",
            "(2, 2, 3)\n"
          ]
        }
      ]
    },
    {
      "cell_type": "code",
      "metadata": {
        "id": "b_F-ccY08zzl",
        "colab": {
          "base_uri": "https://localhost:8080/"
        },
        "outputId": "9a19368e-4d25-4f4f-bcda-a95a2196f6d5"
      },
      "source": [
        "x = np.zeros([2, 2, 3])\n",
        "print(x)\n",
        "print(type(x))\n",
        "print(x.shape)\n",
        "x.reshape(3,2,2)"
      ],
      "execution_count": 9,
      "outputs": [
        {
          "output_type": "stream",
          "name": "stdout",
          "text": [
            "[[[0. 0. 0.]\n",
            "  [0. 0. 0.]]\n",
            "\n",
            " [[0. 0. 0.]\n",
            "  [0. 0. 0.]]]\n",
            "<class 'numpy.ndarray'>\n",
            "(2, 2, 3)\n"
          ]
        },
        {
          "output_type": "execute_result",
          "data": {
            "text/plain": [
              "array([[[0., 0.],\n",
              "        [0., 0.]],\n",
              "\n",
              "       [[0., 0.],\n",
              "        [0., 0.]],\n",
              "\n",
              "       [[0., 0.],\n",
              "        [0., 0.]]])"
            ]
          },
          "metadata": {},
          "execution_count": 9
        }
      ]
    },
    {
      "cell_type": "markdown",
      "metadata": {
        "id": "0hQuDJ5g9gpE"
      },
      "source": [
        "### create random numbers"
      ]
    },
    {
      "cell_type": "code",
      "metadata": {
        "id": "QRatmkx79otL"
      },
      "source": [
        "import matplotlib.pyplot as plt"
      ],
      "execution_count": 10,
      "outputs": []
    },
    {
      "cell_type": "code",
      "metadata": {
        "id": "z1oOAB6dShBD",
        "colab": {
          "base_uri": "https://localhost:8080/",
          "height": 1000
        },
        "outputId": "904a00ce-e7bd-436e-8986-e22652fb87f0"
      },
      "source": [
        "x = np.random.normal(0, 1, 1000) # 평균값, standard diviation, size\n",
        "# print(type(x))\n",
        "# print(x.shape)\n",
        "print(x)\n",
        "plt.hist(x, bins=20)"
      ],
      "execution_count": 22,
      "outputs": [
        {
          "output_type": "stream",
          "name": "stdout",
          "text": [
            "[ 5.85894782e-01  2.69790532e-01  1.06806873e+00  1.44172299e+00\n",
            " -2.31006055e-01  3.26254149e-01 -3.10155883e-02  3.19943166e-01\n",
            " -3.23732378e-01 -1.85378262e+00  1.18583085e+00  7.30436728e-01\n",
            "  1.67593269e+00  7.32781022e-01  9.14828561e-01  1.35084037e+00\n",
            " -1.53424973e+00 -4.46109971e-01  4.79310955e-01 -1.57807951e+00\n",
            " -4.74388152e-01  6.19213767e-01 -6.99076696e-01 -1.43417493e-01\n",
            "  7.54596495e-01  4.66036565e-01 -1.38403586e+00  6.08896608e-01\n",
            " -4.25588878e-01 -4.34463139e-01  7.70499048e-01  2.68859441e-01\n",
            "  2.80957160e-01 -5.51799424e-01 -5.62030202e-01  2.06920494e+00\n",
            " -8.15787097e-01  3.28800031e-01  1.50760497e+00 -2.07833897e-01\n",
            "  1.03161876e+00  7.37319092e-01  1.67065301e+00  3.72259635e-02\n",
            " -9.97018276e-01  1.31527575e+00  4.70730221e-01  1.22303913e+00\n",
            "  4.46890461e-01  1.19027512e-01  1.04833956e+00 -1.53341311e+00\n",
            "  2.77054132e-01 -1.14652884e+00 -1.25513428e+00 -1.50927569e+00\n",
            "  4.59735777e-01  6.00929169e-01  1.21293410e+00  1.19218004e+00\n",
            "  7.77283872e-01 -9.54625664e-01  6.30386365e-01  1.00593451e+00\n",
            " -1.90808897e-01 -4.36513308e-01  2.74050707e-01 -1.20869369e-01\n",
            " -5.15481370e-02 -6.19704533e-01 -2.67148374e+00 -8.71631760e-03\n",
            " -9.28462723e-01  1.31499810e+00  1.59088313e+00  4.81721148e-01\n",
            "  4.68701880e-01 -1.75870148e-01 -4.26030864e-02  2.98274020e-01\n",
            "  1.19995931e+00 -3.54759031e-02  1.70321122e+00 -8.07938726e-01\n",
            "  7.07551430e-01  4.95619343e-02  1.16569913e+00  1.52230828e+00\n",
            " -9.90964722e-01 -1.05241097e+00 -3.01153469e-01  8.87246098e-01\n",
            " -1.96082258e+00 -3.54987361e-01  2.17635170e+00  1.95714506e+00\n",
            "  2.91499739e-01  8.22774340e-01  1.52443475e+00 -4.03760535e-02\n",
            " -1.86032690e+00  1.52112697e-02  1.03913297e-01  8.28272455e-01\n",
            "  5.73195826e-01  2.25788936e+00 -1.11024472e+00  1.68966318e-02\n",
            "  1.92484468e+00  1.22631147e+00  2.79290275e-01  7.36576497e-01\n",
            " -1.27347620e-01  6.47946172e-02  1.38043491e+00  1.43402052e+00\n",
            " -4.01334123e-01 -9.43451639e-01 -4.35738837e-01  2.75195636e-01\n",
            "  1.59046755e+00  1.38117616e+00 -4.90296835e-01  3.17413952e-01\n",
            "  4.13220071e-01 -1.12550916e+00 -1.82735734e-01  1.32448923e-01\n",
            " -1.58062075e-01 -8.99770625e-02 -2.90652202e-01 -2.48567162e-01\n",
            "  1.94910151e+00 -9.51823144e-01  9.12400067e-01  1.31212187e+00\n",
            " -7.32371474e-01  6.10181353e-01 -2.62817030e-01 -3.26756454e-01\n",
            "  9.89638283e-01  3.74684547e-01  1.72361529e+00  1.86286189e-01\n",
            " -3.30628822e-01  6.61300237e-01 -1.07024730e+00 -8.15032605e-01\n",
            "  4.56761987e-01 -8.29204499e-01 -2.22804029e-01  6.07375329e-01\n",
            " -8.12448115e-01  1.59211308e+00 -1.58905996e+00 -1.01107462e-01\n",
            "  5.79831281e-01 -1.35423713e-02 -1.13322226e+00  1.84235455e+00\n",
            "  2.60241299e-01 -8.06430660e-01  3.29614223e-01  8.82205788e-02\n",
            "  3.59721601e-01 -3.05982233e-01  1.24341310e+00 -6.80677825e-01\n",
            " -9.35101815e-01  3.63034321e-01  3.71988250e-02 -5.61170658e-01\n",
            " -4.97598311e-01 -3.82753150e-01 -1.12416164e+00  8.97577483e-02\n",
            "  4.13998451e-01  4.66599671e-01 -2.26322956e+00 -1.11059117e+00\n",
            "  6.35002717e-02 -1.47741800e+00 -1.86854546e+00  2.99844308e-01\n",
            " -1.23734382e+00 -5.42839569e-01  3.30441119e-01 -4.87410619e-01\n",
            "  1.35137656e+00 -6.23246547e-01  3.36792851e-01 -5.79725443e-01\n",
            " -1.29335226e+00  7.18892396e-01 -3.70139594e-01 -1.38777215e+00\n",
            " -2.10270494e-01  1.20917079e+00  1.63587171e+00  4.85232113e-01\n",
            " -2.61649785e-01  5.23706665e-01  4.12531738e-01 -1.54850716e+00\n",
            " -1.50248011e+00 -2.89308764e+00  1.23726737e+00  1.44509470e+00\n",
            "  2.97730463e-01  1.46583630e+00  8.26552203e-01 -1.71523477e+00\n",
            " -9.44669321e-01  2.85855212e-01 -1.54396758e+00 -5.70374779e-01\n",
            " -2.26231269e+00  2.87544918e-01 -2.46757023e+00 -3.95178548e-01\n",
            "  1.03121245e+00  1.77786035e-01 -9.02503189e-01  2.92831445e-01\n",
            " -1.02926718e+00 -7.75445605e-01  1.37664628e+00  8.96674922e-01\n",
            " -2.36165201e-01 -1.31431734e+00 -9.35289569e-01  2.28185855e-01\n",
            " -7.60607546e-01 -5.71398358e-01 -5.02142217e-01 -2.09653205e-01\n",
            "  1.66552443e-01  1.66743936e+00  1.60756754e+00  1.49846528e+00\n",
            " -3.42643864e-01 -4.18769345e-01  6.30447430e-01 -1.55077620e+00\n",
            "  1.38906278e+00  3.66500174e-01 -1.00547433e+00 -6.46866384e-01\n",
            "  8.13501205e-01  1.15971367e+00 -1.45941485e+00 -2.23574905e+00\n",
            "  9.40188559e-01  1.46485657e+00  2.54419896e-01 -2.93130343e-01\n",
            "  3.61698676e-02  1.54358166e+00  4.38608171e-01 -1.77397893e+00\n",
            " -1.43390610e+00 -4.00458027e-01  1.89733138e-01  3.10562564e-01\n",
            " -6.36406865e-01  3.07156005e-02 -1.32094397e+00 -1.89328915e+00\n",
            "  1.57029883e-01  5.17792307e-01 -5.55669991e-01  8.08271951e-01\n",
            "  1.57990238e+00  8.16710859e-01  2.25456689e-02 -3.98643899e-01\n",
            " -7.01966161e-01 -5.60285990e-01 -1.71346550e+00 -6.06941812e-01\n",
            " -1.22595672e+00 -1.40103127e+00  1.50922667e+00 -4.17453909e-01\n",
            "  9.02066386e-01 -5.75716461e-01  1.79268242e-01  4.43028334e-01\n",
            " -1.62357968e+00  7.56270349e-01  6.55300546e-01  1.47265281e+00\n",
            " -7.90286680e-03 -1.14222456e+00  4.66738648e-01 -4.30861735e-01\n",
            "  8.59174901e-01  2.75240390e-01 -7.85880986e-03  2.03135193e-01\n",
            " -1.20740137e+00 -3.86296899e-01  8.98540211e-01 -2.76130208e-01\n",
            "  7.48174711e-01  4.11656330e-01  8.14076060e-01 -7.40937647e-01\n",
            " -4.02826150e-02  4.26520936e-01  5.95043214e-01 -9.89995883e-01\n",
            " -1.36919829e+00 -2.06765903e-01 -1.38669962e+00 -1.16825234e+00\n",
            "  1.25792023e+00 -8.86498617e-01  3.17898634e-01 -3.10725027e-01\n",
            "  2.97689926e-01 -5.17698029e-01  1.58823347e+00 -2.78856033e-02\n",
            " -1.00735701e+00  1.68272328e-01 -2.92220230e-01  7.81803921e-01\n",
            " -6.20089848e-01  8.18271978e-01 -1.68027235e+00  4.71051567e-01\n",
            " -2.16879192e-01 -1.58978354e-01  1.03634619e+00  9.71913924e-01\n",
            "  5.57752022e-02  1.21817358e+00 -4.11505627e-01  1.97368377e+00\n",
            "  2.41260708e+00 -3.66214351e-01 -7.26054928e-01 -1.35034106e+00\n",
            "  7.21427748e-01  6.77455083e-01 -1.15221739e+00  7.16169751e-01\n",
            " -1.32759402e-01 -2.60657778e-01 -9.35127420e-01  1.75309129e+00\n",
            " -8.91938351e-01 -1.12300931e+00 -3.71005429e-01  3.76923202e-01\n",
            "  3.71813123e-02 -7.43774646e-01 -4.68803653e-01 -6.74787789e-01\n",
            " -1.12175945e-02  6.99766571e-01 -1.02974952e-02 -1.13465843e+00\n",
            "  1.50983056e+00 -1.15053140e+00  1.92439578e+00 -5.70519679e-01\n",
            " -1.54300692e+00  5.17709760e-01 -9.83232868e-01  3.43850364e-01\n",
            " -2.88120780e-01 -1.03295140e+00  1.52383333e+00 -7.34337997e-02\n",
            "  1.24164765e+00  2.45357456e-01 -5.86930110e-01 -1.56231028e+00\n",
            "  6.54579398e-01  1.97469945e+00 -2.14697075e-01 -1.57980885e-01\n",
            " -5.74396241e-01  4.43017932e-01  1.41627729e-01  2.19436348e+00\n",
            "  2.13034973e-01 -2.78763191e+00 -1.20785701e-01 -3.69388656e-01\n",
            "  1.26229579e+00 -3.20047172e-01 -4.12033193e+00 -2.33515426e+00\n",
            " -7.70151892e-01  3.37038394e-02 -5.51749286e-01 -1.06972108e+00\n",
            " -2.40191176e-01  1.90426976e+00 -8.97873487e-01 -8.23646916e-01\n",
            " -1.16232710e+00 -6.92137544e-01  5.57069699e-01  8.06509143e-01\n",
            " -8.80314432e-01  2.97892174e-01  2.53793970e-01 -7.71770506e-01\n",
            " -3.51365725e-01 -7.16360445e-01  6.89761125e-01 -6.35823765e-01\n",
            " -1.36709746e+00  1.51954173e+00  1.84555535e-01  5.90951340e-01\n",
            " -1.08384083e+00 -1.31408197e+00 -8.43855748e-03  2.00911427e+00\n",
            "  8.45548161e-02  5.91213333e-01 -5.54931385e-01  2.42746151e+00\n",
            "  1.67355203e+00  1.79671959e+00 -1.25987774e+00  1.00408968e-01\n",
            " -3.56864780e-01 -7.48272879e-01 -4.10816789e-02  7.44279708e-02\n",
            "  6.65303214e-01  1.59427987e+00 -4.47024043e-01 -7.67566873e-01\n",
            "  2.50680461e-01 -5.48276468e-01 -1.37024522e+00  1.95795494e-01\n",
            " -3.13301572e-01  4.45886795e-01  1.48317040e+00 -1.05938275e+00\n",
            "  2.15670712e-01  1.13359254e+00 -6.56526082e-01 -1.31834598e+00\n",
            "  4.96429878e-01  9.78619059e-01 -3.37050206e-01  2.85262006e-01\n",
            "  9.98032026e-01 -3.88867332e-01  3.89841446e-02 -2.64788049e+00\n",
            "  1.58368068e-01  6.38329572e-01 -9.51060048e-01 -4.62940854e-01\n",
            "  1.04352639e+00 -1.14612349e+00  2.39327119e-01 -5.02363604e-01\n",
            "  1.27640875e+00  3.38454665e-02  1.07297676e+00 -1.14128980e+00\n",
            " -1.84145812e-01  2.45289195e-01  1.49087211e+00  1.20221199e+00\n",
            " -1.00332000e+00 -6.63155095e-01 -1.56389549e+00 -3.09926710e-01\n",
            " -1.48240046e+00  3.97110068e-01  6.23164552e-02  1.52784467e+00\n",
            " -1.39113503e+00 -1.61495223e+00 -1.09000510e+00 -9.12622617e-01\n",
            "  5.75828852e-01  5.62683719e-01  4.87546027e-01 -9.90974132e-01\n",
            " -4.01852285e-01  9.43231507e-02  1.60472904e-01 -4.34744018e-01\n",
            "  1.43572689e+00  1.59915611e-01 -3.82481230e-01 -9.93134045e-01\n",
            "  1.57659466e+00  2.06046406e-01  2.22496943e-01  5.51735179e-01\n",
            "  1.05198670e+00 -2.29795353e-01 -9.81957669e-01  1.90558347e+00\n",
            " -1.48634974e-01  2.79205088e-01  5.09587085e-01 -1.13606511e+00\n",
            " -8.94553401e-02 -7.18182043e-01 -6.93755574e-01 -2.31468527e+00\n",
            "  1.33752034e+00 -1.54113134e-01 -6.77585733e-01 -1.83977974e+00\n",
            "  1.11023543e+00 -1.42841460e+00  1.14093791e+00 -4.47267309e-01\n",
            "  1.05304644e+00  5.24761393e-01 -5.23041801e-01  7.26439107e-01\n",
            " -4.41108259e-01  1.15091636e+00 -4.50759606e-01 -8.98726411e-01\n",
            "  1.95457247e+00  3.71186351e-01  6.41927857e-01 -6.91565130e-03\n",
            " -2.01858692e+00 -3.43253534e-01  2.50914499e-01  1.62507695e+00\n",
            " -6.11581827e-01  7.13183533e-01  5.20943198e-01  1.00476150e+00\n",
            "  1.26785671e+00 -1.45049842e+00 -1.11402288e+00  6.40095451e-01\n",
            "  1.25227293e+00 -1.63973908e+00  6.23283170e-01  1.19237695e+00\n",
            "  3.02230613e-01 -8.03565570e-01  2.09234084e-01  1.47862986e+00\n",
            "  5.90252128e-01 -1.41202624e-01 -7.68693769e-02  4.36702865e-01\n",
            " -1.24768007e+00 -1.46639111e+00  1.03529808e+00 -2.61027916e+00\n",
            " -7.53279416e-01  1.77315289e+00 -5.57567373e-01  1.95208604e+00\n",
            " -7.54352778e-01  2.81514149e-02  1.14418067e+00  1.45505717e+00\n",
            " -1.02319154e+00  4.92093990e-01  5.87578956e-01  4.89531615e-01\n",
            "  2.63779090e+00  6.65615565e-01  5.37424791e-01 -8.33897024e-02\n",
            "  9.15064813e-01  2.43975507e+00 -6.90211514e-01 -1.06958418e+00\n",
            " -2.89705061e-01 -2.44815284e-01 -7.83346581e-01 -9.66704906e-01\n",
            "  3.56837254e-01 -7.80036268e-01  1.73712747e+00 -1.51703431e+00\n",
            "  9.37807863e-01  6.10804261e-01  1.62754850e+00 -2.53279607e-01\n",
            "  2.87916189e-01 -2.02107950e-02  7.29770438e-01  5.23579048e-01\n",
            " -4.05684021e-01  7.90789837e-01 -1.57985283e+00 -1.40040126e+00\n",
            " -7.89412541e-01 -1.23742495e+00 -1.93047819e+00 -6.86883664e-01\n",
            "  1.40906785e+00  5.91313133e-01 -4.31436353e-01 -4.53672362e-01\n",
            " -1.53541633e-01  1.36161119e+00 -2.81758701e-01 -9.82497785e-02\n",
            " -1.07692923e+00  2.56173197e-01  4.30448922e-01  1.67187590e+00\n",
            "  1.29640113e+00 -2.30082116e+00  5.00463286e-01  2.80908578e-02\n",
            "  4.49560868e-01  2.43782210e+00 -8.43075810e-01  4.08921276e-01\n",
            "  6.48131271e-01  1.94402624e-02 -8.34207340e-01 -3.06446859e-01\n",
            "  1.24133988e+00 -2.61018778e-01  8.23300682e-01  3.70771585e-01\n",
            "  5.57223394e-01 -1.00514311e+00 -8.21036051e-01 -7.33702147e-01\n",
            "  7.23676923e-01  1.79848676e+00  3.32436473e-01 -8.31566410e-01\n",
            " -8.24107416e-01 -1.01432478e+00 -4.39453707e-02  3.11700981e-01\n",
            "  6.51704789e-01 -7.40026165e-01 -1.13183986e+00  5.12891662e-01\n",
            "  8.32922352e-01  8.14346323e-01  1.22027789e+00 -8.38529944e-01\n",
            " -2.02456469e-02  2.06525328e+00  1.09643047e+00  2.37842956e-02\n",
            "  8.75040104e-02 -1.17705689e-01 -8.53613941e-01 -1.71021951e-01\n",
            "  3.18486049e-01 -2.57096522e-01 -4.20082833e-01 -1.49439778e+00\n",
            "  8.00517051e-01 -4.96863947e-01  1.51701114e+00  1.05378292e+00\n",
            " -1.06733320e+00  4.33341744e-01 -1.01208508e+00 -7.83446355e-02\n",
            "  7.30202065e-01  1.37142191e+00 -1.77775033e+00  7.90204037e-01\n",
            " -8.34521731e-01  1.38038491e+00  1.25845782e+00  9.70226083e-01\n",
            "  1.48763804e-01  1.29761397e-01 -5.68344912e-02 -3.34376440e-02\n",
            " -5.15999079e-01  6.09695096e-01  5.65197157e-01 -1.87615249e+00\n",
            "  4.54488317e-01  7.28254732e-01  2.88032367e-01  2.76662065e-02\n",
            " -1.49151327e+00  2.63158918e-01 -2.01002879e+00 -2.50803198e-01\n",
            " -1.33848893e+00 -1.14509276e+00 -6.65021705e-01 -2.31625967e-01\n",
            " -7.93521975e-01  2.15574830e-01  3.36409371e-01  8.50140350e-01\n",
            " -1.00413537e+00  5.80390636e-03  5.70780224e-01 -7.49524736e-01\n",
            " -1.04257526e+00 -1.11035250e+00 -7.43522245e-01 -1.13124932e+00\n",
            "  7.33106941e-01 -2.45009285e-01 -2.96237386e-01 -9.59866227e-01\n",
            " -2.74431003e-03 -1.41951600e+00 -3.35801363e-01 -3.81050669e-01\n",
            " -7.72596684e-01 -7.00495398e-01 -7.64043319e-01  7.81661342e-01\n",
            "  7.44362890e-01 -2.11706691e-01 -5.84788819e-01 -4.42351016e-01\n",
            "  3.37039782e-01  1.21081432e+00  7.76152738e-01 -8.05168217e-01\n",
            "  5.43769465e-01 -1.54432918e-03 -4.56482480e-01  1.56418649e+00\n",
            " -1.03825341e+00 -9.90515839e-01 -1.14518668e+00 -9.75754193e-01\n",
            "  3.41559958e-01 -7.24314880e-01 -2.31037033e+00  2.87191921e-01\n",
            "  4.24390202e-01  6.62422749e-01  8.14444739e-01 -2.05728968e-01\n",
            "  1.24629480e+00 -2.89677352e-01 -6.97958556e-01  1.69682574e-01\n",
            "  5.28859896e-01  5.28227458e-01 -1.27015675e+00 -1.81260372e+00\n",
            "  9.22874805e-02  1.83601418e+00 -3.30279128e-01 -1.89472640e-01\n",
            "  4.66740699e-01  7.10952205e-01  4.76987482e-01 -2.14783980e-01\n",
            " -5.75107520e-01  1.84781258e+00  3.74393674e-02 -1.27118473e+00\n",
            " -5.42050016e-01 -1.10401387e+00 -1.25403863e+00  1.28097192e+00\n",
            "  1.41190000e+00  1.15442339e+00  1.00123933e+00 -2.08532455e-01\n",
            "  1.55003297e+00 -4.95760493e-01 -3.10061446e+00  7.46297171e-01\n",
            " -4.59850046e-01 -1.73882071e+00  3.46188750e-02 -4.85083775e-01\n",
            " -3.04782088e-01  1.14585510e+00  1.71011921e+00 -9.55134102e-01\n",
            " -3.38948126e-01  1.59561968e+00  1.52602034e-01 -3.04649008e-01\n",
            " -1.93465490e+00 -4.12806707e-01 -7.28783779e-01  3.75862931e-01\n",
            " -2.51599373e-01 -1.68260716e-01  8.07638019e-01 -1.18139651e+00\n",
            "  1.27095067e+00  9.23378209e-01 -4.36943590e-01  4.53288849e-01\n",
            " -6.33152981e-01 -2.06648688e+00 -4.92463360e-01  1.57484894e+00\n",
            " -6.52496326e-01 -3.56363569e-01 -1.12211897e+00  5.20311726e-01\n",
            " -2.30255849e-02 -2.64912435e+00  1.53468917e+00 -1.18254133e+00\n",
            "  1.01253668e+00  9.04374292e-01  5.32944629e-01 -8.58742350e-01\n",
            " -7.45628858e-01  4.39532209e-01 -3.45558243e-01  8.25908192e-01\n",
            " -1.25775000e+00 -7.27311274e-01  7.91902577e-01  9.48664426e-02\n",
            " -5.12599256e-01 -1.10854879e+00 -2.36921053e-01  4.56318495e-01\n",
            "  4.26847297e-01 -1.60453264e+00 -9.81372536e-01  9.53623960e-01\n",
            " -1.18200929e+00  1.42883275e-01 -1.39039044e+00 -1.03416351e+00\n",
            " -4.94391299e-01  6.39453304e-01  9.59045576e-01 -2.41391947e-01\n",
            "  2.28299615e-01 -4.05981646e-01 -4.71689571e-01  7.18710769e-01\n",
            " -1.30464388e+00  6.32131827e-01 -4.71788990e-01  1.85026217e+00\n",
            " -7.86151071e-01  4.82697116e-01 -6.71910364e-02  1.09364090e+00\n",
            "  7.53038067e-02  7.40211830e-01 -8.50160503e-01  1.03341924e+00\n",
            " -1.31758626e+00 -1.01608070e+00  3.41776969e-01 -4.24367058e-01\n",
            " -7.29039300e-01  1.76155793e+00  7.93888585e-01 -1.75724350e+00\n",
            "  1.03245032e+00 -1.30380893e+00  3.51365022e-01  1.30703548e+00\n",
            "  2.04570231e+00 -2.19131140e+00  6.94109624e-01 -1.22583941e-01\n",
            " -4.04993243e-01  8.78496732e-01 -2.70865090e+00 -3.17932896e-01\n",
            "  1.01781840e+00 -6.06853401e-01 -1.37967751e+00 -1.81458667e-01\n",
            " -2.25809664e+00 -1.03850955e-01 -7.25960757e-01  2.38282191e+00\n",
            " -8.15840774e-01  3.64635700e-01  1.66202985e-01  4.99696685e-01\n",
            "  2.47476225e-01 -7.88543280e-01 -2.06197572e-01 -1.43550332e+00\n",
            "  4.59657029e-01 -4.12180272e-01  5.59856484e-01  1.23307392e+00\n",
            " -2.64618380e-01  2.76986498e-01  2.99768538e-01  4.69552914e-01\n",
            " -5.39770889e-01 -7.17243000e-01  7.88302500e-01 -3.15894181e-01\n",
            "  5.37233567e-01 -1.50558605e+00  1.78413032e+00  4.32637715e-01\n",
            " -1.89198106e-01 -6.25808621e-01  6.76495910e-01 -5.58093762e-01\n",
            " -2.36525936e-02 -6.26182573e-01 -3.20810604e-02  6.62647082e-01\n",
            "  1.57187083e+00 -9.27408958e-01 -3.32168244e-01  2.19467459e+00\n",
            " -5.83944126e-01  1.73654003e+00  2.05455070e-01 -9.60391510e-01\n",
            "  1.03899171e+00 -3.45960355e+00  1.10480881e+00 -1.83624323e+00\n",
            " -2.55073018e-02  8.68289123e-01 -7.37766315e-03 -4.88167409e-01\n",
            " -6.58721762e-01  7.70651559e-01  7.55244608e-01 -9.61286659e-01\n",
            " -1.13785469e+00  1.06785748e+00 -9.66848951e-01 -1.55533044e+00\n",
            "  1.13628726e+00  1.28777157e+00  5.30881204e-01  2.05654224e+00\n",
            "  2.78794593e-01 -1.01916636e+00  4.76275552e-01 -3.36690430e+00\n",
            "  1.85165171e+00  2.48463825e-01  1.04799264e+00 -1.08088076e+00\n",
            " -3.99990715e-01 -2.01452139e-04  5.42756562e-01  5.92123364e-01\n",
            "  9.93764990e-01 -2.62178613e+00  7.21087359e-01 -7.12281945e-01\n",
            " -3.44089367e-01  4.20025936e-01  1.07159382e+00  5.84991791e-01\n",
            "  1.22361141e+00  2.19377980e-01 -7.13029900e-01  5.67835025e-03\n",
            " -1.63568682e-01  1.38445378e+00 -5.27860587e-01 -1.36542927e+00\n",
            "  5.26416334e-01  1.15059344e+00  3.58393390e-01 -1.30647216e-01\n",
            " -2.91712624e-01 -2.28767131e-01  3.95631094e-01 -1.07534734e+00\n",
            " -1.46288878e+00 -4.59490701e-01 -1.70463038e+00  1.03982908e+00\n",
            "  3.50376114e-02  1.45839274e+00  2.90730604e-01  8.11260166e-02\n",
            "  2.48685098e-02  1.75767943e+00 -5.28495556e-01  9.13658640e-02]\n"
          ]
        },
        {
          "output_type": "execute_result",
          "data": {
            "text/plain": [
              "(array([  1.,   1.,   1.,   3.,   7.,   9.,  17.,  37.,  65.,  96., 116.,\n",
              "        119., 115., 144.,  91.,  72.,  56.,  33.,  11.,   6.]),\n",
              " array([-4.12033193, -3.78242579, -3.44451964, -3.1066135 , -2.76870736,\n",
              "        -2.43080122, -2.09289508, -1.75498894, -1.41708279, -1.07917665,\n",
              "        -0.74127051, -0.40336437, -0.06545823,  0.27244791,  0.61035405,\n",
              "         0.9482602 ,  1.28616634,  1.62407248,  1.96197862,  2.29988476,\n",
              "         2.6377909 ]),\n",
              " <a list of 20 Patch objects>)"
            ]
          },
          "metadata": {},
          "execution_count": 22
        },
        {
          "output_type": "display_data",
          "data": {
            "image/png": "[encoded data removed]",
            "text/plain": [
              "<Figure size 432x288 with 1 Axes>"
            ]
          },
          "metadata": {
            "needs_background": "light"
          }
        }
      ]
    },
    {
      "cell_type": "markdown",
      "metadata": {
        "id": "G0exvwBbShBE"
      },
      "source": [
        "### generate a sine curve"
      ]
    },
    {
      "cell_type": "code",
      "metadata": {
        "id": "HgQmRXzMShBE",
        "colab": {
          "base_uri": "https://localhost:8080/",
          "height": 314
        },
        "outputId": "70ee719b-fb2f-4b2e-c6ae-f701c1be2573"
      },
      "source": [
        "theta = np.linspace(0, 2*np.pi, 100) # 2pi/ 2*pi 인식 못함 꼭 2*np.pi로 # 2*np.pi 포함\n",
        "s = np.sin(theta)\n",
        "plt.plot(theta, s, '.')\n",
        "\n",
        "plt.xlabel('angle(radian)')\n",
        "plt.ylabel('value')\n",
        "plt.title('my first sine curve')\n",
        "\n",
        "# print(theta.shape)"
      ],
      "execution_count": 12,
      "outputs": [
        {
          "output_type": "execute_result",
          "data": {
            "text/plain": [
              "Text(0.5, 1.0, 'my first sine curve')"
            ]
          },
          "metadata": {},
          "execution_count": 12
        },
        {
          "output_type": "display_data",
          "data": {
            "image/png": "[encoded data removed]",
            "text/plain": [
              "<Figure size 432x288 with 1 Axes>"
            ]
          },
          "metadata": {
            "needs_background": "light"
          }
        }
      ]
    },
    {
      "cell_type": "code",
      "metadata": {
        "id": "WTqXoomZBbBk",
        "colab": {
          "base_uri": "https://localhost:8080/",
          "height": 314
        },
        "outputId": "b873355c-9666-4b21-ac7c-7e36d4cecc60"
      },
      "source": [
        "theta2 = np.linspace(0, 2*np.pi, 100) + np.pi/2\n",
        "s2 = np.sin(theta2)\n",
        "plt.plot(theta2, s2, 'b:')\n",
        "\n",
        "plt.xlabel('angle(radian)')\n",
        "plt.ylabel('value')\n",
        "plt.title('my first sine curve')"
      ],
      "execution_count": 13,
      "outputs": [
        {
          "output_type": "execute_result",
          "data": {
            "text/plain": [
              "Text(0.5, 1.0, 'my first sine curve')"
            ]
          },
          "metadata": {},
          "execution_count": 13
        },
        {
          "output_type": "display_data",
          "data": {
            "image/png": "[encoded data removed]",
            "text/plain": [
              "<Figure size 432x288 with 1 Axes>"
            ]
          },
          "metadata": {
            "needs_background": "light"
          }
        }
      ]
    },
    {
      "cell_type": "markdown",
      "metadata": {
        "id": "qW58sY_HZUih"
      },
      "source": [
        "phase difference (위상차)"
      ]
    },
    {
      "cell_type": "code",
      "metadata": {
        "id": "TuH489v9BvQ7",
        "colab": {
          "base_uri": "https://localhost:8080/"
        },
        "outputId": "c3cb613f-906f-4651-fcc8-5944c85f8a68"
      },
      "source": [
        "np.corrcoef(s,s2)"
      ],
      "execution_count": 23,
      "outputs": [
        {
          "output_type": "execute_result",
          "data": {
            "text/plain": [
              "array([[1.00000000e+00, 2.41915449e-17],\n",
              "       [2.41915449e-17, 1.00000000e+00]])"
            ]
          },
          "metadata": {},
          "execution_count": 23
        }
      ]
    }
  ]
}