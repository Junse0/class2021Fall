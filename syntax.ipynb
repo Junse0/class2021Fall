{
  "nbformat": 4,
  "nbformat_minor": 0,
  "metadata": {
    "kernelspec": {
      "display_name": "Python 3",
      "language": "python",
      "name": "python3"
    },
    "language_info": {
      "codemirror_mode": {
        "name": "ipython",
        "version": 3
      },
      "file_extension": ".py",
      "mimetype": "text/x-python",
      "name": "python",
      "nbconvert_exporter": "python",
      "pygments_lexer": "ipython3",
      "version": "3.7.1"
    },
    "colab": {
      "name": "syntax.ipynb",
      "provenance": [],
      "include_colab_link": true
    }
  },
  "cells": [
    {
      "cell_type": "markdown",
      "metadata": {
        "id": "view-in-github",
        "colab_type": "text"
      },
      "source": [
        "<a href=\"https://colab.research.google.com/github/Junse0/class2021Fall/blob/main/syntax.ipynb\" target=\"_parent\"><img src=\"https://colab.research.google.com/assets/colab-badge.svg\" alt=\"Open In Colab\"/></a>"
      ]
    },
    {
      "cell_type": "markdown",
      "source": [
        "#Syntax\n",
        "\n",
        "for 같은 패턴을 여러번 반복\n",
        "\n",
        "if ~할 때만 해라"
      ],
      "metadata": {
        "id": "FC9iwNvuQLVM"
      }
    },
    {
      "cell_type": "code",
      "metadata": {
        "id": "Fu2mzgrqSLAU"
      },
      "source": [
        "a = [1, 2, 3, 4]                                                                # 리스트\n",
        "for i in a:                                                                     # a(리스트)에 있는 것에서 제일 첫 번째 부터 끝까지 i라는 변수에 넣어라(리스트의 개수만큼 for loop가 돎)\n",
        "    print(i) \n",
        "\n",
        "# a = [1, 2, 3, 4]\n",
        "# print(a[0])\n",
        "# print(a[1])\n",
        "# print(a[2])\n",
        "# print(a[3])\n",
        "\n",
        "# 형식\n",
        "# for   in  :\n",
        "#   print\n",
        "\n",
        "#indentation(들여쓰기)은 for 밑이라는 것을 표현\n",
        "\n",
        "a = [1, 2, 3, 4]\n",
        "for i in a:\n",
        "  print(i) \n",
        "  print(i+1)                                                                    # 1 2 2 3 3 4 4 5\n",
        "\n",
        "a = [1, 2, 3, 4]\n",
        "for i in a:\n",
        "  print(i)                                                                      # 1 2 3 4\n",
        "print(i+1)                                                                      # 5\n"
      ],
      "execution_count": null,
      "outputs": []
    },
    {
      "cell_type": "code",
      "metadata": {
        "id": "57nhbq8BEs1H"
      },
      "source": [
        "a = [1, 2, 3, 4]\n",
        "for i in a :\n",
        "  print(i)\n",
        "  print('hello')\n"
      ],
      "execution_count": null,
      "outputs": []
    },
    {
      "cell_type": "code",
      "metadata": {
        "id": "XSJxLJVCSLAW"
      },
      "source": [
        "# a = [1, 2, 3, 4]\n",
        "# for i in range(4):                                                            # 4개의 인덱스(0,1,2,3)가 만들어짐 (굳이 4를 넣은 이유는 a의 길이가 4이기 때문에)(range 3은 ok, 5는 error)\n",
        "#     print(a[i])                                                               # a의 0번째, a의 1번째...\n",
        "\n",
        "a = [1, 2, 3, 4]\n",
        "for i in range(len(a)): #len(a)는 a의 길이를 출력\n",
        "    print(a[i])\n",
        "\n",
        "\n"
      ],
      "execution_count": null,
      "outputs": []
    },
    {
      "cell_type": "code",
      "metadata": {
        "id": "VTfxVRdgSLAW"
      },
      "source": [
        "a = ['red', 'green', 'blue', 'purple']\n",
        "for i in a:\n",
        "    print(i)"
      ],
      "execution_count": null,
      "outputs": []
    },
    {
      "cell_type": "code",
      "metadata": {
        "id": "Vc-7pW85SLAW"
      },
      "source": [
        "a = ['red', 'green', 'blue', 'purple']\n",
        "for i in range(len(a)):                                                         #len(a)는 a의 개수\n",
        "    print(a[i])"
      ],
      "execution_count": null,
      "outputs": []
    },
    {
      "cell_type": "code",
      "metadata": {
        "id": "dD-ephD3SLAX"
      },
      "source": [
        "a = 0\n",
        "if a == 1:                                                                      # if, else 모두 : 으로 마무리   # '==' 같다\n",
        "    print(a)                                                                    # if(else)도 마찬가지로 indentation(들여쓰기)한 부분까지 포함함\n",
        "else:                                                                           # else는 굳이 없어도 됨\n",
        "  print(a+1)"
      ],
      "execution_count": null,
      "outputs": []
    },
    {
      "cell_type": "markdown",
      "source": [
        "nested loop, nested for"
      ],
      "metadata": {
        "id": "wP5j7HBiVRtR"
      }
    },
    {
      "cell_type": "code",
      "metadata": {
        "id": "M0AZaDMvSLAY"
      },
      "source": [
        "for i in range(1, 3):\n",
        "    for j in range(3, 5):\n",
        "        print(i*j)"
      ],
      "execution_count": null,
      "outputs": []
    },
    {
      "cell_type": "code",
      "metadata": {
        "id": "ZPpZmVIHSLAY"
      },
      "source": [
        "for i in range(1, 3):\n",
        "    for j in range(3, 5):\n",
        "        if j >=4:\n",
        "            print(i*j)"
      ],
      "execution_count": null,
      "outputs": []
    },
    {
      "cell_type": "markdown",
      "metadata": {
        "id": "E6JepiEdJWrP"
      },
      "source": [
        "list comprehension"
      ]
    },
    {
      "cell_type": "code",
      "metadata": {
        "id": "JQXk5vi0SLAY"
      },
      "source": [
        "a = [1, 2, 3, 4]\n",
        "b = [i for i in a if i >=2]\n",
        "b"
      ],
      "execution_count": null,
      "outputs": []
    },
    {
      "cell_type": "code",
      "metadata": {
        "id": "MDmBGZ3LSLAZ"
      },
      "source": [
        "a = ['red', 'green', 'blue', 'purple']\n",
        "b = [i for i in a if len(i) >=4]\n",
        "b"
      ],
      "execution_count": null,
      "outputs": []
    }
  ]
}