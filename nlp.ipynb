{
  "nbformat": 4,
  "nbformat_minor": 0,
  "metadata": {
    "kernelspec": {
      "display_name": "Python 3",
      "language": "python",
      "name": "python3"
    },
    "language_info": {
      "codemirror_mode": {
        "name": "ipython",
        "version": 3
      },
      "file_extension": ".py",
      "mimetype": "text/x-python",
      "name": "python",
      "nbconvert_exporter": "python",
      "pygments_lexer": "ipython3",
      "version": "3.7.1"
    },
    "colab": {
      "name": "nlp.ipynb",
      "provenance": [],
      "include_colab_link": true
    }
  },
  "cells": [
    {
      "cell_type": "markdown",
      "metadata": {
        "id": "view-in-github",
        "colab_type": "text"
      },
      "source": [
        "<a href=\"https://colab.research.google.com/github/Junse0/class2021Fall/blob/main/nlp.ipynb\" target=\"_parent\"><img src=\"https://colab.research.google.com/assets/colab-badge.svg\" alt=\"Open In Colab\"/></a>"
      ]
    },
    {
      "cell_type": "markdown",
      "metadata": {
        "id": "ltUO0sYwyGfU"
      },
      "source": [
        "### Tokenization"
      ]
    },
    {
      "cell_type": "code",
      "metadata": {
        "id": "di6xZ08xsgO7"
      },
      "source": [
        "import nltk"
      ],
      "execution_count": 365,
      "outputs": []
    },
    {
      "cell_type": "code",
      "metadata": {
        "id": "tbHEyyNHntcZ"
      },
      "source": [
        "text = 'Here’s to the crazy ones, the misfits, the rebels, the troublemakers, the round pegs in the square holes. \\\n",
        "The ones who see things differently — they’re not fond of rules. \\\n",
        "You can quote them, disagree with them, glorify or vilify them, \\\n",
        "but the only thing you can’t do is ignore them because they change things. \\\n",
        "They push the human race forward, and while some may see them as the crazy ones, we see genius, \\\n",
        "because the ones who are crazy enough to think that they can change the world, are the ones who do.'"
      ],
      "execution_count": 366,
      "outputs": []
    },
    {
      "cell_type": "code",
      "metadata": {
        "id": "XwW0GJfFH-S8",
        "outputId": "42531a03-6ab1-450e-b56d-648648a7c0e1",
        "colab": {
          "base_uri": "https://localhost:8080/"
        }
      },
      "source": [
        "type(text)"
      ],
      "execution_count": 367,
      "outputs": [
        {
          "output_type": "execute_result",
          "data": {
            "text/plain": [
              "str"
            ]
          },
          "metadata": {},
          "execution_count": 367
        }
      ]
    },
    {
      "cell_type": "code",
      "metadata": {
        "id": "CYNhfTqXICF1",
        "outputId": "a37db7f5-de7f-448e-d201-0010902cda51",
        "colab": {
          "base_uri": "https://localhost:8080/"
        }
      },
      "source": [
        "len(text)"
      ],
      "execution_count": 368,
      "outputs": [
        {
          "output_type": "execute_result",
          "data": {
            "text/plain": [
              "505"
            ]
          },
          "metadata": {},
          "execution_count": 368
        }
      ]
    },
    {
      "cell_type": "code",
      "metadata": {
        "id": "czNSOxrNIIcq",
        "outputId": "e3df17a5-9201-47e4-e673-b8fa313c2d69",
        "colab": {
          "base_uri": "https://localhost:8080/",
          "height": 36
        }
      },
      "source": [
        "text[0:10]"
      ],
      "execution_count": 369,
      "outputs": [
        {
          "output_type": "execute_result",
          "data": {
            "application/vnd.google.colaboratory.intrinsic+json": {
              "type": "string"
            },
            "text/plain": [
              "'Here’s to '"
            ]
          },
          "metadata": {},
          "execution_count": 369
        }
      ]
    },
    {
      "cell_type": "code",
      "metadata": {
        "id": "45jV2UYs1GEC",
        "outputId": "097b3a39-4e0a-4669-f64b-69a7ff6559ef",
        "colab": {
          "base_uri": "https://localhost:8080/"
        }
      },
      "source": [
        "text.split()"
      ],
      "execution_count": 370,
      "outputs": [
        {
          "output_type": "execute_result",
          "data": {
            "text/plain": [
              "['Here’s',\n",
              " 'to',\n",
              " 'the',\n",
              " 'crazy',\n",
              " 'ones,',\n",
              " 'the',\n",
              " 'misfits,',\n",
              " 'the',\n",
              " 'rebels,',\n",
              " 'the',\n",
              " 'troublemakers,',\n",
              " 'the',\n",
              " 'round',\n",
              " 'pegs',\n",
              " 'in',\n",
              " 'the',\n",
              " 'square',\n",
              " 'holes.',\n",
              " 'The',\n",
              " 'ones',\n",
              " 'who',\n",
              " 'see',\n",
              " 'things',\n",
              " 'differently',\n",
              " '—',\n",
              " 'they’re',\n",
              " 'not',\n",
              " 'fond',\n",
              " 'of',\n",
              " 'rules.',\n",
              " 'You',\n",
              " 'can',\n",
              " 'quote',\n",
              " 'them,',\n",
              " 'disagree',\n",
              " 'with',\n",
              " 'them,',\n",
              " 'glorify',\n",
              " 'or',\n",
              " 'vilify',\n",
              " 'them,',\n",
              " 'but',\n",
              " 'the',\n",
              " 'only',\n",
              " 'thing',\n",
              " 'you',\n",
              " 'can’t',\n",
              " 'do',\n",
              " 'is',\n",
              " 'ignore',\n",
              " 'them',\n",
              " 'because',\n",
              " 'they',\n",
              " 'change',\n",
              " 'things.',\n",
              " 'They',\n",
              " 'push',\n",
              " 'the',\n",
              " 'human',\n",
              " 'race',\n",
              " 'forward,',\n",
              " 'and',\n",
              " 'while',\n",
              " 'some',\n",
              " 'may',\n",
              " 'see',\n",
              " 'them',\n",
              " 'as',\n",
              " 'the',\n",
              " 'crazy',\n",
              " 'ones,',\n",
              " 'we',\n",
              " 'see',\n",
              " 'genius,',\n",
              " 'because',\n",
              " 'the',\n",
              " 'ones',\n",
              " 'who',\n",
              " 'are',\n",
              " 'crazy',\n",
              " 'enough',\n",
              " 'to',\n",
              " 'think',\n",
              " 'that',\n",
              " 'they',\n",
              " 'can',\n",
              " 'change',\n",
              " 'the',\n",
              " 'world,',\n",
              " 'are',\n",
              " 'the',\n",
              " 'ones',\n",
              " 'who',\n",
              " 'do.']"
            ]
          },
          "metadata": {},
          "execution_count": 370
        }
      ]
    },
    {
      "cell_type": "code",
      "metadata": {
        "id": "m7FGBnupKKpu",
        "outputId": "bdd0c9ff-fac1-471b-97a0-2f150cd33f27",
        "colab": {
          "base_uri": "https://localhost:8080/"
        }
      },
      "source": [
        "type(text.split())"
      ],
      "execution_count": 371,
      "outputs": [
        {
          "output_type": "execute_result",
          "data": {
            "text/plain": [
              "list"
            ]
          },
          "metadata": {},
          "execution_count": 371
        }
      ]
    },
    {
      "cell_type": "code",
      "metadata": {
        "id": "bVDzjsXKKRwH",
        "outputId": "5f1f6958-e030-425d-f566-9deb7f9ae1cd",
        "colab": {
          "base_uri": "https://localhost:8080/",
          "height": 92
        }
      },
      "source": [
        "words=text.split()\n",
        "' '.join(words)"
      ],
      "execution_count": 372,
      "outputs": [
        {
          "output_type": "execute_result",
          "data": {
            "application/vnd.google.colaboratory.intrinsic+json": {
              "type": "string"
            },
            "text/plain": [
              "'Here’s to the crazy ones, the misfits, the rebels, the troublemakers, the round pegs in the square holes. The ones who see things differently — they’re not fond of rules. You can quote them, disagree with them, glorify or vilify them, but the only thing you can’t do is ignore them because they change things. They push the human race forward, and while some may see them as the crazy ones, we see genius, because the ones who are crazy enough to think that they can change the world, are the ones who do.'"
            ]
          },
          "metadata": {},
          "execution_count": 372
        }
      ]
    },
    {
      "cell_type": "code",
      "metadata": {
        "id": "Gq_lPZMHntcb",
        "colab": {
          "base_uri": "https://localhost:8080/"
        },
        "outputId": "df8a8270-9455-4631-cda8-a86a3c6bad44"
      },
      "source": [
        "from nltk.tokenize import word_tokenize\n",
        "nltk.download('punkt')\n",
        "words = word_tokenize(text)\n",
        "words"
      ],
      "execution_count": 373,
      "outputs": [
        {
          "output_type": "stream",
          "name": "stdout",
          "text": [
            "[nltk_data] Downloading package punkt to /root/nltk_data...\n",
            "[nltk_data]   Package punkt is already up-to-date!\n"
          ]
        },
        {
          "output_type": "execute_result",
          "data": {
            "text/plain": [
              "['Here',\n",
              " '’',\n",
              " 's',\n",
              " 'to',\n",
              " 'the',\n",
              " 'crazy',\n",
              " 'ones',\n",
              " ',',\n",
              " 'the',\n",
              " 'misfits',\n",
              " ',',\n",
              " 'the',\n",
              " 'rebels',\n",
              " ',',\n",
              " 'the',\n",
              " 'troublemakers',\n",
              " ',',\n",
              " 'the',\n",
              " 'round',\n",
              " 'pegs',\n",
              " 'in',\n",
              " 'the',\n",
              " 'square',\n",
              " 'holes',\n",
              " '.',\n",
              " 'The',\n",
              " 'ones',\n",
              " 'who',\n",
              " 'see',\n",
              " 'things',\n",
              " 'differently',\n",
              " '—',\n",
              " 'they',\n",
              " '’',\n",
              " 're',\n",
              " 'not',\n",
              " 'fond',\n",
              " 'of',\n",
              " 'rules',\n",
              " '.',\n",
              " 'You',\n",
              " 'can',\n",
              " 'quote',\n",
              " 'them',\n",
              " ',',\n",
              " 'disagree',\n",
              " 'with',\n",
              " 'them',\n",
              " ',',\n",
              " 'glorify',\n",
              " 'or',\n",
              " 'vilify',\n",
              " 'them',\n",
              " ',',\n",
              " 'but',\n",
              " 'the',\n",
              " 'only',\n",
              " 'thing',\n",
              " 'you',\n",
              " 'can',\n",
              " '’',\n",
              " 't',\n",
              " 'do',\n",
              " 'is',\n",
              " 'ignore',\n",
              " 'them',\n",
              " 'because',\n",
              " 'they',\n",
              " 'change',\n",
              " 'things',\n",
              " '.',\n",
              " 'They',\n",
              " 'push',\n",
              " 'the',\n",
              " 'human',\n",
              " 'race',\n",
              " 'forward',\n",
              " ',',\n",
              " 'and',\n",
              " 'while',\n",
              " 'some',\n",
              " 'may',\n",
              " 'see',\n",
              " 'them',\n",
              " 'as',\n",
              " 'the',\n",
              " 'crazy',\n",
              " 'ones',\n",
              " ',',\n",
              " 'we',\n",
              " 'see',\n",
              " 'genius',\n",
              " ',',\n",
              " 'because',\n",
              " 'the',\n",
              " 'ones',\n",
              " 'who',\n",
              " 'are',\n",
              " 'crazy',\n",
              " 'enough',\n",
              " 'to',\n",
              " 'think',\n",
              " 'that',\n",
              " 'they',\n",
              " 'can',\n",
              " 'change',\n",
              " 'the',\n",
              " 'world',\n",
              " ',',\n",
              " 'are',\n",
              " 'the',\n",
              " 'ones',\n",
              " 'who',\n",
              " 'do',\n",
              " '.']"
            ]
          },
          "metadata": {},
          "execution_count": 373
        }
      ]
    },
    {
      "cell_type": "markdown",
      "metadata": {
        "id": "Pc42Plwx56YS"
      },
      "source": [
        "### Normalization  \n",
        "Stemming: am → am, the going → the go, having → hav  \n",
        "Lemmatization: am → be, the going → the going, having → have"
      ]
    },
    {
      "cell_type": "markdown",
      "metadata": {
        "id": "_qrL9BRELhKe"
      },
      "source": [
        "그냥 끊어주는 것 / 사전에 있는 것으로 끊어주는 것"
      ]
    },
    {
      "cell_type": "code",
      "metadata": {
        "id": "lsFfoAr259Fs",
        "outputId": "5f52dec7-ebc0-4ada-9786-f8e6801acf57",
        "colab": {
          "base_uri": "https://localhost:8080/"
        }
      },
      "source": [
        "from nltk.stem import PorterStemmer\n",
        "stemmer = PorterStemmer()\n",
        "[stemmer.stem(w) for w in words] # words의 리스트 개수만큼 for 루프를 돈다. / list comprehension"
      ],
      "execution_count": 374,
      "outputs": [
        {
          "output_type": "execute_result",
          "data": {
            "text/plain": [
              "['here',\n",
              " '’',\n",
              " 's',\n",
              " 'to',\n",
              " 'the',\n",
              " 'crazi',\n",
              " 'one',\n",
              " ',',\n",
              " 'the',\n",
              " 'misfit',\n",
              " ',',\n",
              " 'the',\n",
              " 'rebel',\n",
              " ',',\n",
              " 'the',\n",
              " 'troublemak',\n",
              " ',',\n",
              " 'the',\n",
              " 'round',\n",
              " 'peg',\n",
              " 'in',\n",
              " 'the',\n",
              " 'squar',\n",
              " 'hole',\n",
              " '.',\n",
              " 'the',\n",
              " 'one',\n",
              " 'who',\n",
              " 'see',\n",
              " 'thing',\n",
              " 'differ',\n",
              " '—',\n",
              " 'they',\n",
              " '’',\n",
              " 're',\n",
              " 'not',\n",
              " 'fond',\n",
              " 'of',\n",
              " 'rule',\n",
              " '.',\n",
              " 'you',\n",
              " 'can',\n",
              " 'quot',\n",
              " 'them',\n",
              " ',',\n",
              " 'disagre',\n",
              " 'with',\n",
              " 'them',\n",
              " ',',\n",
              " 'glorifi',\n",
              " 'or',\n",
              " 'vilifi',\n",
              " 'them',\n",
              " ',',\n",
              " 'but',\n",
              " 'the',\n",
              " 'onli',\n",
              " 'thing',\n",
              " 'you',\n",
              " 'can',\n",
              " '’',\n",
              " 't',\n",
              " 'do',\n",
              " 'is',\n",
              " 'ignor',\n",
              " 'them',\n",
              " 'becaus',\n",
              " 'they',\n",
              " 'chang',\n",
              " 'thing',\n",
              " '.',\n",
              " 'they',\n",
              " 'push',\n",
              " 'the',\n",
              " 'human',\n",
              " 'race',\n",
              " 'forward',\n",
              " ',',\n",
              " 'and',\n",
              " 'while',\n",
              " 'some',\n",
              " 'may',\n",
              " 'see',\n",
              " 'them',\n",
              " 'as',\n",
              " 'the',\n",
              " 'crazi',\n",
              " 'one',\n",
              " ',',\n",
              " 'we',\n",
              " 'see',\n",
              " 'geniu',\n",
              " ',',\n",
              " 'becaus',\n",
              " 'the',\n",
              " 'one',\n",
              " 'who',\n",
              " 'are',\n",
              " 'crazi',\n",
              " 'enough',\n",
              " 'to',\n",
              " 'think',\n",
              " 'that',\n",
              " 'they',\n",
              " 'can',\n",
              " 'chang',\n",
              " 'the',\n",
              " 'world',\n",
              " ',',\n",
              " 'are',\n",
              " 'the',\n",
              " 'one',\n",
              " 'who',\n",
              " 'do',\n",
              " '.']"
            ]
          },
          "metadata": {},
          "execution_count": 374
        }
      ]
    },
    {
      "cell_type": "code",
      "metadata": {
        "id": "HkbgNiPd8BdL",
        "outputId": "9f086c69-c714-4aee-d630-3524a760e005",
        "colab": {
          "base_uri": "https://localhost:8080/"
        }
      },
      "source": [
        "from nltk.stem import LancasterStemmer\n",
        "stemmer = LancasterStemmer()\n",
        "[stemmer.stem(w) for w in words]"
      ],
      "execution_count": 375,
      "outputs": [
        {
          "output_type": "execute_result",
          "data": {
            "text/plain": [
              "['her',\n",
              " '’',\n",
              " 's',\n",
              " 'to',\n",
              " 'the',\n",
              " 'crazy',\n",
              " 'on',\n",
              " ',',\n",
              " 'the',\n",
              " 'misfit',\n",
              " ',',\n",
              " 'the',\n",
              " 'rebel',\n",
              " ',',\n",
              " 'the',\n",
              " 'troublemak',\n",
              " ',',\n",
              " 'the',\n",
              " 'round',\n",
              " 'peg',\n",
              " 'in',\n",
              " 'the',\n",
              " 'squ',\n",
              " 'hol',\n",
              " '.',\n",
              " 'the',\n",
              " 'on',\n",
              " 'who',\n",
              " 'see',\n",
              " 'thing',\n",
              " 'diff',\n",
              " '—',\n",
              " 'they',\n",
              " '’',\n",
              " 're',\n",
              " 'not',\n",
              " 'fond',\n",
              " 'of',\n",
              " 'rul',\n",
              " '.',\n",
              " 'you',\n",
              " 'can',\n",
              " 'quot',\n",
              " 'them',\n",
              " ',',\n",
              " 'disagr',\n",
              " 'with',\n",
              " 'them',\n",
              " ',',\n",
              " 'glor',\n",
              " 'or',\n",
              " 'vil',\n",
              " 'them',\n",
              " ',',\n",
              " 'but',\n",
              " 'the',\n",
              " 'on',\n",
              " 'thing',\n",
              " 'you',\n",
              " 'can',\n",
              " '’',\n",
              " 't',\n",
              " 'do',\n",
              " 'is',\n",
              " 'ign',\n",
              " 'them',\n",
              " 'becaus',\n",
              " 'they',\n",
              " 'chang',\n",
              " 'thing',\n",
              " '.',\n",
              " 'they',\n",
              " 'push',\n",
              " 'the',\n",
              " 'hum',\n",
              " 'rac',\n",
              " 'forward',\n",
              " ',',\n",
              " 'and',\n",
              " 'whil',\n",
              " 'som',\n",
              " 'may',\n",
              " 'see',\n",
              " 'them',\n",
              " 'as',\n",
              " 'the',\n",
              " 'crazy',\n",
              " 'on',\n",
              " ',',\n",
              " 'we',\n",
              " 'see',\n",
              " 'geni',\n",
              " ',',\n",
              " 'becaus',\n",
              " 'the',\n",
              " 'on',\n",
              " 'who',\n",
              " 'ar',\n",
              " 'crazy',\n",
              " 'enough',\n",
              " 'to',\n",
              " 'think',\n",
              " 'that',\n",
              " 'they',\n",
              " 'can',\n",
              " 'chang',\n",
              " 'the',\n",
              " 'world',\n",
              " ',',\n",
              " 'ar',\n",
              " 'the',\n",
              " 'on',\n",
              " 'who',\n",
              " 'do',\n",
              " '.']"
            ]
          },
          "metadata": {},
          "execution_count": 375
        }
      ]
    },
    {
      "cell_type": "code",
      "metadata": {
        "id": "VIIh5pYd8f74",
        "outputId": "a1198f45-f817-491e-dac1-30a34697fa0c",
        "colab": {
          "base_uri": "https://localhost:8080/"
        }
      },
      "source": [
        "from nltk.stem import WordNetLemmatizer\n",
        "nltk.download('wordnet')\n",
        "lemmatizer = WordNetLemmatizer()\n",
        "[lemmatizer.lemmatize(w) for w in words]"
      ],
      "execution_count": 376,
      "outputs": [
        {
          "output_type": "stream",
          "name": "stdout",
          "text": [
            "[nltk_data] Downloading package wordnet to /root/nltk_data...\n",
            "[nltk_data]   Package wordnet is already up-to-date!\n"
          ]
        },
        {
          "output_type": "execute_result",
          "data": {
            "text/plain": [
              "['Here',\n",
              " '’',\n",
              " 's',\n",
              " 'to',\n",
              " 'the',\n",
              " 'crazy',\n",
              " 'one',\n",
              " ',',\n",
              " 'the',\n",
              " 'misfit',\n",
              " ',',\n",
              " 'the',\n",
              " 'rebel',\n",
              " ',',\n",
              " 'the',\n",
              " 'troublemaker',\n",
              " ',',\n",
              " 'the',\n",
              " 'round',\n",
              " 'peg',\n",
              " 'in',\n",
              " 'the',\n",
              " 'square',\n",
              " 'hole',\n",
              " '.',\n",
              " 'The',\n",
              " 'one',\n",
              " 'who',\n",
              " 'see',\n",
              " 'thing',\n",
              " 'differently',\n",
              " '—',\n",
              " 'they',\n",
              " '’',\n",
              " 're',\n",
              " 'not',\n",
              " 'fond',\n",
              " 'of',\n",
              " 'rule',\n",
              " '.',\n",
              " 'You',\n",
              " 'can',\n",
              " 'quote',\n",
              " 'them',\n",
              " ',',\n",
              " 'disagree',\n",
              " 'with',\n",
              " 'them',\n",
              " ',',\n",
              " 'glorify',\n",
              " 'or',\n",
              " 'vilify',\n",
              " 'them',\n",
              " ',',\n",
              " 'but',\n",
              " 'the',\n",
              " 'only',\n",
              " 'thing',\n",
              " 'you',\n",
              " 'can',\n",
              " '’',\n",
              " 't',\n",
              " 'do',\n",
              " 'is',\n",
              " 'ignore',\n",
              " 'them',\n",
              " 'because',\n",
              " 'they',\n",
              " 'change',\n",
              " 'thing',\n",
              " '.',\n",
              " 'They',\n",
              " 'push',\n",
              " 'the',\n",
              " 'human',\n",
              " 'race',\n",
              " 'forward',\n",
              " ',',\n",
              " 'and',\n",
              " 'while',\n",
              " 'some',\n",
              " 'may',\n",
              " 'see',\n",
              " 'them',\n",
              " 'a',\n",
              " 'the',\n",
              " 'crazy',\n",
              " 'one',\n",
              " ',',\n",
              " 'we',\n",
              " 'see',\n",
              " 'genius',\n",
              " ',',\n",
              " 'because',\n",
              " 'the',\n",
              " 'one',\n",
              " 'who',\n",
              " 'are',\n",
              " 'crazy',\n",
              " 'enough',\n",
              " 'to',\n",
              " 'think',\n",
              " 'that',\n",
              " 'they',\n",
              " 'can',\n",
              " 'change',\n",
              " 'the',\n",
              " 'world',\n",
              " ',',\n",
              " 'are',\n",
              " 'the',\n",
              " 'one',\n",
              " 'who',\n",
              " 'do',\n",
              " '.']"
            ]
          },
          "metadata": {},
          "execution_count": 376
        }
      ]
    },
    {
      "cell_type": "markdown",
      "metadata": {
        "id": "RPgIzrjm8_1N"
      },
      "source": [
        "### Stopword"
      ]
    },
    {
      "cell_type": "markdown",
      "metadata": {
        "id": "sjiUbTtEF27o"
      },
      "source": [
        "빈번하게 나오는 전치사 대명사 등을 카운트하지 않음"
      ]
    },
    {
      "cell_type": "code",
      "metadata": {
        "id": "WdM2FaN8ntcc",
        "outputId": "47451708-f30b-4d8b-8c44-2bc119592c60",
        "colab": {
          "base_uri": "https://localhost:8080/"
        }
      },
      "source": [
        "from nltk.corpus import stopwords  \n",
        "nltk.download('stopwords')\n",
        "print(words)\n",
        "words = [w for w in words if not w in stopwords.words('english')] # w가 stopwords에 있지 않으면 출력-이를 for 루프로 돌림\n",
        "print(words)"
      ],
      "execution_count": 377,
      "outputs": [
        {
          "output_type": "stream",
          "name": "stdout",
          "text": [
            "[nltk_data] Downloading package stopwords to /root/nltk_data...\n",
            "[nltk_data]   Package stopwords is already up-to-date!\n",
            "['Here', '’', 's', 'to', 'the', 'crazy', 'ones', ',', 'the', 'misfits', ',', 'the', 'rebels', ',', 'the', 'troublemakers', ',', 'the', 'round', 'pegs', 'in', 'the', 'square', 'holes', '.', 'The', 'ones', 'who', 'see', 'things', 'differently', '—', 'they', '’', 're', 'not', 'fond', 'of', 'rules', '.', 'You', 'can', 'quote', 'them', ',', 'disagree', 'with', 'them', ',', 'glorify', 'or', 'vilify', 'them', ',', 'but', 'the', 'only', 'thing', 'you', 'can', '’', 't', 'do', 'is', 'ignore', 'them', 'because', 'they', 'change', 'things', '.', 'They', 'push', 'the', 'human', 'race', 'forward', ',', 'and', 'while', 'some', 'may', 'see', 'them', 'as', 'the', 'crazy', 'ones', ',', 'we', 'see', 'genius', ',', 'because', 'the', 'ones', 'who', 'are', 'crazy', 'enough', 'to', 'think', 'that', 'they', 'can', 'change', 'the', 'world', ',', 'are', 'the', 'ones', 'who', 'do', '.']\n",
            "['Here', '’', 'crazy', 'ones', ',', 'misfits', ',', 'rebels', ',', 'troublemakers', ',', 'round', 'pegs', 'square', 'holes', '.', 'The', 'ones', 'see', 'things', 'differently', '—', '’', 'fond', 'rules', '.', 'You', 'quote', ',', 'disagree', ',', 'glorify', 'vilify', ',', 'thing', '’', 'ignore', 'change', 'things', '.', 'They', 'push', 'human', 'race', 'forward', ',', 'may', 'see', 'crazy', 'ones', ',', 'see', 'genius', ',', 'ones', 'crazy', 'enough', 'think', 'change', 'world', ',', 'ones', '.']\n"
          ]
        }
      ]
    },
    {
      "cell_type": "markdown",
      "metadata": {
        "id": "OmwXTL0UA5aw"
      },
      "source": [
        "### Collocation, Concordance"
      ]
    },
    {
      "cell_type": "markdown",
      "metadata": {
        "id": "SuTI4hZhF8AU"
      },
      "source": [
        "두 단어의 연쇄 / 예문 찾을 때"
      ]
    },
    {
      "cell_type": "code",
      "metadata": {
        "id": "Fll4ygxNA3OJ",
        "colab": {
          "base_uri": "https://localhost:8080/"
        },
        "outputId": "343f54d1-142c-4669-b6f7-8da946224c3c"
      },
      "source": [
        "nltk.download('gutenberg')\n",
        "text = nltk.corpus.gutenberg.raw('melville-moby_dick.txt')\n",
        "words = nltk.word_tokenize(text)"
      ],
      "execution_count": 378,
      "outputs": [
        {
          "output_type": "stream",
          "name": "stdout",
          "text": [
            "[nltk_data] Downloading package gutenberg to /root/nltk_data...\n",
            "[nltk_data]   Package gutenberg is already up-to-date!\n"
          ]
        }
      ]
    },
    {
      "cell_type": "code",
      "metadata": {
        "id": "6SrfSHuvPAMn",
        "outputId": "98928d3a-6852-4fe0-ec5e-af1fc0fc80df",
        "colab": {
          "base_uri": "https://localhost:8080/"
        }
      },
      "source": [
        "type(text)"
      ],
      "execution_count": 379,
      "outputs": [
        {
          "output_type": "execute_result",
          "data": {
            "text/plain": [
              "str"
            ]
          },
          "metadata": {},
          "execution_count": 379
        }
      ]
    },
    {
      "cell_type": "code",
      "metadata": {
        "id": "NeDK99bBPDFD",
        "outputId": "794f20e7-b035-4e66-8b97-83ab57a84505",
        "colab": {
          "base_uri": "https://localhost:8080/"
        }
      },
      "source": [
        "len(text)"
      ],
      "execution_count": 380,
      "outputs": [
        {
          "output_type": "execute_result",
          "data": {
            "text/plain": [
              "1242990"
            ]
          },
          "metadata": {},
          "execution_count": 380
        }
      ]
    },
    {
      "cell_type": "code",
      "metadata": {
        "id": "ro_plUkcPW1L",
        "outputId": "7f0c0154-63f7-46f6-b7ec-58a1609daf0f",
        "colab": {
          "base_uri": "https://localhost:8080/"
        }
      },
      "source": [
        "len(words) #"
      ],
      "execution_count": 381,
      "outputs": [
        {
          "output_type": "execute_result",
          "data": {
            "text/plain": [
              "254989"
            ]
          },
          "metadata": {},
          "execution_count": 381
        }
      ]
    },
    {
      "cell_type": "code",
      "metadata": {
        "id": "NqVXlhIrAtmf",
        "outputId": "fe5f85ec-23bd-4872-9f78-cb9cf606bee7",
        "colab": {
          "base_uri": "https://localhost:8080/"
        }
      },
      "source": [
        "nltk.Text(words).collocations()"
      ],
      "execution_count": 382,
      "outputs": [
        {
          "output_type": "stream",
          "name": "stdout",
          "text": [
            "Sperm Whale; Moby Dick; White Whale; old man; Captain Ahab; sperm\n",
            "whale; Right Whale; Captain Peleg; Mr. Starbuck; New Bedford; Cape\n",
            "Horn; 'ye see; cried Ahab; years ago; lower jaw; white whale; Mrs.\n",
            "Hussey; chief mate; never mind; Father Mapple\n"
          ]
        }
      ]
    },
    {
      "cell_type": "code",
      "metadata": {
        "id": "Aq0wiutwA_au",
        "outputId": "b58e4f22-9652-4971-d901-b401aa47d5b7",
        "colab": {
          "base_uri": "https://localhost:8080/"
        }
      },
      "source": [
        "nltk.Text(words).concordance('great', 79, 10) # concordance-용법, 용례"
      ],
      "execution_count": 383,
      "outputs": [
        {
          "output_type": "stream",
          "name": "stdout",
          "text": [
            "Displaying 10 of 303 matches:\n",
            "sses ! EXTRACTS . `` And God created great whales . '' -- GENESIS . `` Leviatha\n",
            "JOB . `` Now the Lord had prepared a great fish to swallow up Jonah . '' -- JON\n",
            "t day , the Lord with his sore , and great , and strong sword , shall punish Le\n",
            " it goes all incontinently that foul great swallow of his , and perisheth in th\n",
            "ys on the sea , when about sunrise a great many Whales and other monsters of th\n",
            "rse-whales , which had bones of very great value for their teeth , of which he \n",
            ", the sea-gudgeon retires into it in great security , and there sleeps . '' -- \n",
            "ads . '' -- STOWE 'S ANNALS . `` The great Leviathan that maketh the seas to se\n",
            " ISLANDS . `` By art is created that great Leviathan , called a Commonwealth or\n",
            "t they were forced to proceed with a great deal of caution for fear they should\n"
          ]
        }
      ]
    },
    {
      "cell_type": "markdown",
      "metadata": {
        "id": "A8TrCE14vGcT"
      },
      "source": [
        "### Frequency distribution"
      ]
    },
    {
      "cell_type": "markdown",
      "metadata": {
        "id": "uslfwVLFGIdb"
      },
      "source": [
        "단어들이 몇 번 나오는가(빈도수 체크)"
      ]
    },
    {
      "cell_type": "code",
      "metadata": {
        "id": "UdY3m6zSBHic",
        "colab": {
          "base_uri": "https://localhost:8080/"
        },
        "outputId": "5c2cfd7a-834a-4706-bae8-c3fc0914b817"
      },
      "source": [
        "nltk.FreqDist(words).most_common(10)"
      ],
      "execution_count": 384,
      "outputs": [
        {
          "output_type": "execute_result",
          "data": {
            "text/plain": [
              "[(',', 19204),\n",
              " ('the', 13715),\n",
              " ('.', 7308),\n",
              " ('of', 6513),\n",
              " ('and', 6010),\n",
              " ('a', 4545),\n",
              " ('to', 4515),\n",
              " (';', 4173),\n",
              " ('in', 3908),\n",
              " ('that', 2978)]"
            ]
          },
          "metadata": {},
          "execution_count": 384
        }
      ]
    },
    {
      "cell_type": "markdown",
      "metadata": {
        "id": "JSOSzIovvKvE"
      },
      "source": [
        "### Dictionary"
      ]
    },
    {
      "cell_type": "markdown",
      "metadata": {
        "id": "9TMMbrEfGNLG"
      },
      "source": [
        "nltk라는 패키지 안에 있는 dict."
      ]
    },
    {
      "cell_type": "code",
      "metadata": {
        "id": "UIcAOAvqntce",
        "colab": {
          "base_uri": "https://localhost:8080/"
        },
        "outputId": "6dcf90c7-93f2-42b4-83b3-9c16b9b58454"
      },
      "source": [
        "nltk.download('words')\n",
        "a=nltk.corpus.words.words('en')[-20:-1]\n",
        "a[:20]\n",
        "a[-20:]\n",
        "a[-20:-1]"
      ],
      "execution_count": 404,
      "outputs": [
        {
          "output_type": "stream",
          "name": "stdout",
          "text": [
            "[nltk_data] Downloading package words to /root/nltk_data...\n",
            "[nltk_data]   Package words is already up-to-date!\n"
          ]
        },
        {
          "output_type": "execute_result",
          "data": {
            "text/plain": [
              "['zymosis',\n",
              " 'zymosterol',\n",
              " 'zymosthenic',\n",
              " 'zymotechnic',\n",
              " 'zymotechnical',\n",
              " 'zymotechnics',\n",
              " 'zymotechny',\n",
              " 'zymotic',\n",
              " 'zymotically',\n",
              " 'zymotize',\n",
              " 'zymotoxic',\n",
              " 'zymurgy',\n",
              " 'Zyrenian',\n",
              " 'Zyrian',\n",
              " 'Zyryan',\n",
              " 'zythem',\n",
              " 'Zythia',\n",
              " 'zythum']"
            ]
          },
          "metadata": {},
          "execution_count": 404
        }
      ]
    },
    {
      "cell_type": "code",
      "metadata": {
        "id": "GjAy_Ju7ntce",
        "colab": {
          "base_uri": "https://localhost:8080/"
        },
        "outputId": "2b697bb5-1481-479b-90ab-d5f7542033c1"
      },
      "source": [
        "len(nltk.corpus.words.words('en'))"
      ],
      "execution_count": 386,
      "outputs": [
        {
          "output_type": "execute_result",
          "data": {
            "text/plain": [
              "235886"
            ]
          },
          "metadata": {},
          "execution_count": 386
        }
      ]
    },
    {
      "cell_type": "markdown",
      "metadata": {
        "id": "VrVGVc0X9j7r"
      },
      "source": [
        "### Regular expression"
      ]
    },
    {
      "cell_type": "markdown",
      "metadata": {
        "id": "-wreVOS3GTHs"
      },
      "source": [
        "nlp(자연어 처리, 텍스트 처리)에서 가장 기본이 되는 것\n",
        "정규표현\n",
        "ex. 두번째 철자가 r, 세번째 철자가 t인것을 찾아라"
      ]
    },
    {
      "cell_type": "code",
      "metadata": {
        "id": "cQKgoQFI_cG-"
      },
      "source": [
        "import re"
      ],
      "execution_count": 387,
      "outputs": []
    },
    {
      "cell_type": "code",
      "metadata": {
        "id": "7U2pS-NL9p38",
        "outputId": "9d3eef2f-bef9-4666-c6c6-7de877cb2e36",
        "colab": {
          "base_uri": "https://localhost:8080/",
          "height": 148
        }
      },
      "source": [
        "'''       Basic Regular Expression Meta-Characters, Including Wildcards, Ranges and Closures\n",
        "\n",
        ".\t        Wildcard, matches any character\n",
        "^abc\t    Matches some pattern abc at the start of a string\n",
        "abc$\t    Matches some pattern abc at the end of a string\n",
        "[abc]\t    Matches one of a set of characters\n",
        "[^abc]    Matches anything but a set of characters\n",
        "[A-Z0-9]\tMatches one of a range of characters\n",
        "ed|ing|s\tMatches one of the specified strings (disjunction)\n",
        "*\t        Zero or more of previous item, e.g. a*, [a-z]* (also known as Kleene Closure)\n",
        "+\t        One or more of previous item, e.g. a+, [a-z]+\n",
        "?\t        Zero or one of the previous item (i.e. optional), e.g. a?, [a-z]?\n",
        "{n}\t      Exactly n repeats where n is a non-negative integer\n",
        "{n,}\t    At least n repeats\n",
        "{,n}\t    No more than n repeats\n",
        "{m,n}\t    At least m and no more than n repeats\n",
        "a(b|c)+\t  Parentheses that indicate the scope of the operators\n",
        "(...)     Matches whatever regular expression is inside the parentheses\n",
        "\n",
        "'''"
      ],
      "execution_count": 388,
      "outputs": [
        {
          "output_type": "execute_result",
          "data": {
            "application/vnd.google.colaboratory.intrinsic+json": {
              "type": "string"
            },
            "text/plain": [
              "'       Basic Regular Expression Meta-Characters, Including Wildcards, Ranges and Closures\\n\\n.\\t        Wildcard, matches any character\\n^abc\\t    Matches some pattern abc at the start of a string\\nabc$\\t    Matches some pattern abc at the end of a string\\n[abc]\\t    Matches one of a set of characters\\n[^abc]    Matches anything but a set of characters\\n[A-Z0-9]\\tMatches one of a range of characters\\ned|ing|s\\tMatches one of the specified strings (disjunction)\\n*\\t        Zero or more of previous item, e.g. a*, [a-z]* (also known as Kleene Closure)\\n+\\t        One or more of previous item, e.g. a+, [a-z]+\\n?\\t        Zero or one of the previous item (i.e. optional), e.g. a?, [a-z]?\\n{n}\\t      Exactly n repeats where n is a non-negative integer\\n{n,}\\t    At least n repeats\\n{,n}\\t    No more than n repeats\\n{m,n}\\t    At least m and no more than n repeats\\na(b|c)+\\t  Parentheses that indicate the scope of the operators\\n(...)     Matches whatever regular expression is inside the parentheses\\n\\n'"
            ]
          },
          "metadata": {},
          "execution_count": 388
        }
      ]
    },
    {
      "cell_type": "code",
      "metadata": {
        "id": "JQ3Udzia0EbN",
        "colab": {
          "base_uri": "https://localhost:8080/"
        },
        "outputId": "27dd6168-1dcf-4f47-9f86-660faa1f757d"
      },
      "source": [
        "word = 'supercalifragilisticexpialidocious'\n",
        "re.search('[aeiou]li', word) # word 에서 ''(ali,eli,ili,oli.uli)을 찾아라"
      ],
      "execution_count": 406,
      "outputs": [
        {
          "output_type": "execute_result",
          "data": {
            "text/plain": [
              "<re.Match object; span=(6, 9), match='ali'>"
            ]
          },
          "metadata": {},
          "execution_count": 406
        }
      ]
    },
    {
      "cell_type": "code",
      "metadata": {
        "colab": {
          "base_uri": "https://localhost:8080/"
        },
        "id": "sp3_Dm9Q_tNQ",
        "outputId": "5f76e0e1-2837-4f95-df05-da908270667f"
      },
      "source": [
        "engdict = nltk.corpus.words.words('en')\n",
        "\n",
        "result = [w for w in engdict if re.search('ed$', w)]\n",
        "# result = [w for w in engdict if re.search('^..j..t..$', w)]\n",
        "# result = [w for w in engdict if re.search('^[ghi][mno][jlk][def]$', w)]\n",
        "# result = [w for w in engdict if re.search('^[ah]+$', w)][:10]\n",
        "print(result[:10])"
      ],
      "execution_count": 390,
      "outputs": [
        {
          "output_type": "stream",
          "name": "stdout",
          "text": [
            "['abaissed', 'abandoned', 'abased', 'abashed', 'abatised', 'abed', 'aborted', 'abridged', 'abscessed', 'absconded']\n"
          ]
        }
      ]
    },
    {
      "cell_type": "code",
      "metadata": {
        "id": "B1a5mQYj4hwn",
        "colab": {
          "base_uri": "https://localhost:8080/"
        },
        "outputId": "a2dbcf7a-7662-4e4d-befa-4e504796614a"
      },
      "source": [
        "nltk.download('treebank')\n",
        "wsj = nltk.corpus.treebank.words()\n",
        "\n",
        "result = [w for w in wsj if re.search('(ed|ing)$', w)]\n",
        "# result = [w for w in wsj if re.search('^[0-9]+\\.[0-9]+$', w)]\n",
        "# result = [w for w in wsj if re.search('^[A-Z]+\\$$', w)]\n",
        "# result = [w for w in wsj if re.search('^[0-9]{4}$', w)]\n",
        "# result = [w for w in wsj if re.search('^[0-9]+-[a-z]{3,5}$', w)]\n",
        "# result = [w for w in wsj if re.search('^[a-z]{5,}-[a-z]{2,3}-[a-z]{,6}$', w)]\n",
        "\n",
        "result = sorted(set(result))\n",
        "print(result[:10])\n"
      ],
      "execution_count": 391,
      "outputs": [
        {
          "output_type": "stream",
          "name": "stdout",
          "text": [
            "[nltk_data] Downloading package treebank to /root/nltk_data...\n",
            "[nltk_data]   Package treebank is already up-to-date!\n",
            "['62%-owned', 'Absorbed', 'According', 'Adopting', 'Advanced', 'Advancing', 'Alfred', 'Allied', 'Annualized', 'Anything']\n"
          ]
        }
      ]
    },
    {
      "cell_type": "code",
      "metadata": {
        "id": "gvuVJ_W_AMqG",
        "colab": {
          "base_uri": "https://localhost:8080/"
        },
        "outputId": "d25663fc-9e55-4ca6-fde9-df194baed469"
      },
      "source": [
        "word = 'supercalifragilisticexpialidocious'\n",
        "\n",
        "result = re.findall('[aeiou]', word)\n",
        "# result = re.findall('[aeiou](..)[aeiou]', word)\n",
        "# result = re.findall('[^aeiou].+[^aeiou]', word) # greedy search\n",
        "# result = re.findall('[^aeiou].+?[^aeiou]', word) # reluctant search\n",
        "\n",
        "print(result)"
      ],
      "execution_count": 392,
      "outputs": [
        {
          "output_type": "stream",
          "name": "stdout",
          "text": [
            "['u', 'e', 'a', 'i', 'a', 'i', 'i', 'i', 'e', 'i', 'a', 'i', 'o', 'i', 'o', 'u']\n"
          ]
        }
      ]
    },
    {
      "cell_type": "code",
      "metadata": {
        "id": "lZ8kKm7a6q6q",
        "outputId": "0fe67521-8a82-4885-e9a6-b3bcb040c9db",
        "colab": {
          "base_uri": "https://localhost:8080/"
        }
      },
      "source": [
        "diphthongs = [diphthongs for w in wsj for diphthongs in re.findall('[aeiou]{2}', w)]\n",
        "print(diphthongs)\n",
        "\n",
        "nltk.FreqDist(diphthongs).most_common(100)"
      ],
      "execution_count": 393,
      "outputs": [
        {
          "output_type": "stream",
          "name": "stdout",
          "text": [
            "['ie', 'ea', 'oi', 'oa', 'ai', 'ie', 'ou', 'ea', 'ai', 'ie', 'ia', 'au', 'ea', 'ou', 'ea', 'ea', 'ua', 'ie', 'ie', 'au', 'ea', 'ai', 'oe', 'ou', 'ea', 'ea', 'ou', 'io', 'ai', 'ou', 'ea', 'ea', 'ue', 'io', 'ie', 'ou', 'ei', 'ea', 'ie', 'ea', 'io', 'ai', 'ea', 'ea', 'io', 'oo', 'ai', 'ou', 'ea', 'io', 'ai', 'ie', 'ee', 'ou', 'ea', 'ee', 'ia', 'ea', 'io', 'ea', 'ai', 'ea', 'ai', 'ea', 'ea', 'ie', 'ia', 'ou', 'ie', 'ai', 'ue', 'ou', 'ou', 'oo', 'ui', 'ai', 'ia', 'io', 'oe', 'io', 'oo', 'ee', 'ie', 'oo', 'ea', 'ai', 'io', 'ua', 'ua', 'ai', 'au', 'ou', 'ou', 'ea', 'ia', 'ou', 'ou', 'ue', 'ou', 'au', 'ea', 'ue', 'io', 'ea', 'ai', 'ou', 'ou', 'oo', 'ea', 'ea', 'ou', 'ie', 'ua', 'ue', 'io', 'ou', 'ie', 'ea', 'io', 'oi', 'ee', 'ue', 'ou', 'ie', 'ei', 'ie', 'ue', 'ea', 'ea', 'ue', 'ie', 'ou', 'au', 'io', 'ai', 'io', 'ie', 'au', 'io', 'oo', 'io', 'au', 'ea', 'oi', 'ea', 'ai', 'ia', 'ie', 'ai', 'au', 'ie', 'ea', 'au', 'io', 'ie', 'ue', 'ou', 'io', 'ee', 'io', 'ie', 'ea', 'au', 'io', 'ie', 'ie', 'ie', 'ou', 'ie', 'ee', 'ee', 'ea', 'ie', 'ea', 'ie', 'ea', 'ai', 'ee', 'oo', 'ie', 'ie', 'ie', 'ou', 'ie', 'ai', 'ee', 'ie', 'ai', 'ee', 'oa', 'ea', 'ia', 'ai', 'ui', 'io', 'io', 'ai', 'ai', 'io', 'ea', 'io', 'ai', 'ai', 'io', 'io', 'ia', 'ee', 'ai', 'io', 'ia', 'eo', 'ua', 'ue', 'ou', 'io', 'au', 'ei', 'au', 'ue', 'io', 'ea', 'ai', 'au', 'ue', 'io', 'io', 'io', 'ei', 'ai', 'ou', 'ai', 'ei', 'io', 'ee', 'ea', 'ie', 'ea', 'ai', 'au', 'oe', 'io', 'au', 'io', 'ee', 'io', 'io', 'ea', 'io', 'ee', 'ea', 'ei', 'ia', 'ua', 'io', 'ea', 'io', 'ia', 'io', 'oo', 'ie', 'ia', 'oa', 'ee', 'ea', 'ue', 'ea', 'ou', 'io', 'oo', 'ei', 'ia', 'ia', 'ee', 'ue', 'ee', 'oi', 'ia', 'ia', 'ue', 'ia', 'ia', 'oa', 'ei', 'ia', 'ee', 'ou', 'ie', 'ia', 'ue', 'ea', 'eu', 'oo', 'ue', 'ee', 'au', 'ou', 'ou', 'ia', 'ia', 'ou', 'io', 'oo', 'oo', 'ie', 'oi', 'ou', 'ei', 'ue', 'ee', 'oa', 'ai', 'oo', 'ia', 'oo', 'oo', 'ia', 'ou', 'ea', 'au', 'ee', 'ea', 'ea', 'io', 'ea', 'ea', 'ee', 'oo', 'ei', 'ee', 'ua', 'ou', 'ea', 'io', 'ou', 'ea', 'ie', 'ea', 'ou', 'ou', 'ea', 'ie', 'oo', 'io', 'ea', 'ea', 'ea', 'ie', 'ea', 'io', 'ou', 'ea', 'oo', 'ea', 'au', 'ia', 'ai', 'ea', 'ou', 'ai', 'io', 'oo', 'ou', 'ea', 'io', 'ea', 'ua', 'io', 'ea', 'io', 'ea', 'io', 'io', 'ee', 'ee', 'ou', 'ai', 'ee', 'ee', 'ea', 'ou', 'ai', 'ai', 'ea', 'ee', 'ie', 'ie', 'io', 'ee', 'ee', 'oo', 'ee', 'ai', 'ee', 'ou', 'ea', 'ua', 'ou', 'ee', 'ua', 'ee', 'io', 'ea', 'io', 'ou', 'ou', 'ee', 'ai', 'io', 'ee', 'ee', 'ei', 'oo', 'ai', 'ee', 'ea', 'io', 'ea', 'oi', 'ai', 'oo', 'ee', 'ee', 'ai', 'io', 'ea', 'ou', 'ea', 'ea', 'ee', 'ee', 'ie', 'io', 'ai', 'ea', 'io', 'ee', 'io', 'ea', 'ee', 'io', 'io', 'ea', 'io', 'ou', 'oo', 'ia', 'oo', 'ea', 'ea', 'ie', 'ai', 'ou', 'eo', 'io', 'ee', 'ou', 'ai', 'ou', 'io', 'ui', 'io', 'ue', 'io', 'ea', 'ea', 'ue', 'eo', 'io', 'ou', 'io', 'ie', 'ai', 'ui', 'ou', 'ie', 'ie', 'ue', 'ua', 'ai', 'ou', 'ee', 'ia', 'ea', 'ee', 'ou', 'ie', 'ee', 'io', 'ai', 'io', 'io', 'ia', 'ou', 'ui', 'ai', 'ee', 'eo', 'io', 'ea', 'ea', 'ai', 'ou', 'oo', 'ou', 'ia', 'io', 'ia', 'ie', 'io', 'ue', 'ea', 'ee', 'ea', 'ai', 'ou', 'ue', 'ie', 'ou', 'ou', 'ea', 'ie', 'ea', 'ai', 'ia', 'ai', 'ai', 'ee', 'ie', 'ui', 'au', 'ea', 'oa', 'ea', 'ou', 'io', 'ea', 'ou', 'io', 'io', 'oi', 'io', 'ou', 'ai', 'ui', 'ou', 'ou', 'ea', 'ei', 'ou', 'io', 'io', 'ai', 'ou', 'ai', 'ea', 'ea', 'oo', 'ou', 'ou', 'ea', 'ai', 'ea', 'ai', 'ea', 'ea', 'io', 'ea', 'ou', 'ea', 'ua', 'io', 'ea', 'ea', 'ai', 'ou', 'ea', 'ea', 'ea', 'io', 'ea', 'ai', 'io', 'ea', 'ou', 'ea', 'io', 'ea', 'io', 'ai', 'ea', 'ou', 'ai', 'io', 'ou', 'ou', 'io', 'ea', 'ou', 'oi', 'ou', 'io', 'au', 'ea', 'io', 'ea', 'ee', 'io', 'io', 'io', 'ee', 'io', 'io', 'io', 'ea', 'ou', 'io', 'io', 'io', 'io', 'ea', 'io', 'ou', 'ia', 'io', 'oi', 'ou', 'io', 'ou', 'ea', 'ea', 'ai', 'oo', 'ea', 'ee', 'ou', 'io', 'ea', 'ai', 'oo', 'io', 'ai', 'oo', 'ea', 'ea', 'ea', 'io', 'oo', 'ea', 'ea', 'ea', 'ie', 'ea', 'ia', 'io', 'ai', 'ea', 'ea', 'ea', 'ee', 'io', 'ea', 'ea', 'ie', 'iu', 'io', 'io', 'io', 'ou', 'ai', 'ou', 'ea', 'ou', 'eo', 'ee', 'ea', 'ou', 'ea', 'ai', 'ou', 'ia', 'ea', 'ea', 'ea', 'ai', 'ie', 'ou', 'ia', 'ie', 'ee', 'ie', 'io', 'ea', 'io', 'ea', 'ea', 'ai', 'ou', 'ea', 'ee', 'ea', 'ea', 'ea', 'io', 'eo', 'ee', 'ou', 'ea', 'ea', 'ou', 'ee', 'oi', 'ie', 'ia', 'ai', 'ie', 'eo', 'ou', 'ie', 'ou', 'ou', 'ea', 'ou', 'ai', 'ee', 'io', 'io', 'ai', 'au', 'ea', 'ea', 'io', 'io', 'ua', 'io', 'io', 'ai', 'ou', 'ea', 'ai', 'ou', 'ei', 'ie', 'ou', 'ai', 'ou', 'iu', 'ei', 'ui', 'ia', 'ui', 'io', 'ai', 'io', 'ea', 'ou', 'ou', 'io', 'ee', 'ai', 'ie', 'ia', 'ee', 'io', 'io', 'ea', 'ei', 'ea', 'io', 'ou', 'ee', 'ee', 'ea', 'ie', 'ea', 'ie', 'ia', 'oo', 'ue', 'ou', 'ea', 'ou', 'io', 'ee', 'ai', 'ea', 'ea', 'ee', 'ea', 'ea', 'ou', 'ea', 'ou', 'ee', 'io', 'io', 'ou', 'io', 'ou', 'ea', 'ea', 'ai', 'ea', 'ea', 'ai', 'io', 'ei', 'ie', 'ee', 'ou', 'ee', 'ea', 'eo', 'ai', 'ea', 'io', 'ie', 'io', 'ue', 'ie', 'io', 'ee', 'io', 'io', 'ie', 'io', 'ai', 'ou', 'ea', 'ai', 'au', 'ia', 'ou', 'ie', 'ai', 'ua', 'ou', 'ie', 'ai', 'ia', 'ai', 'io', 'ie', 'ou', 'ou', 'ie', 'ou', 'ai', 'io', 'io', 'ei', 'io', 'ua', 'ai', 'ou', 'ie', 'ee', 'ui', 'ou', 'ue', 'ai', 'ea', 'io', 'ou', 'ia', 'ua', 'io', 'ea', 'ou', 'ia', 'ue', 'ou', 'ie', 'ua', 'io', 'ua', 'ou', 'ou', 'ei', 'ie', 'au', 'ei', 'au', 'ou', 'ea', 'ea', 'ua', 'ia', 'ea', 'ai', 'ue', 'ie', 'oo', 'eo', 'ea', 'ei', 'ai', 'ea', 'ai', 'ai', 'ia', 'ee', 'io', 'ei', 'ie', 'au', 'ei', 'ea', 'ou', 'ai', 'ei', 'eo', 'ie', 'ie', 'ei', 'au', 'ia', 'io', 'ai', 'ee', 'ou', 'ie', 'oo', 'ou', 'ai', 'io', 'ou', 'ie', 'ou', 'ie', 'ee', 'ai', 'ee', 'io', 'io', 'ia', 'ua', 'ai', 'ea', 'ia', 'io', 'io', 'ua', 'ou', 'ou', 'ea', 'ai', 'au', 'ia', 'ai', 'ai', 'ou', 'ou', 'ie', 'io', 'au', 'ai', 'ou', 'ui', 'ia', 'ou', 'ea', 'ie', 'ai', 'eo', 'ia', 'eu', 'ui', 'ue', 'ie', 'ou', 'ie', 'ee', 'ou', 'io', 'ia', 'io', 'ai', 'ei', 'io', 'io', 'ie', 'io', 'ee', 'ia', 'io', 'ai', 'ea', 'ea', 'ea', 'io', 'ue', 'ai', 'ou', 'ue', 'ea', 'ia', 'ee', 'ee', 'ai', 'oo', 'ee', 'io', 'ai', 'ou', 'ia', 'ea', 'ee', 'ou', 'au', 'ea', 'ei', 'io', 'ee', 'au', 'io', 'ui', 'ia', 'io', 'ea', 'ai', 'ee', 'ou', 'ea', 'ea', 'ie', 'ui', 'ai', 'oa', 'ou', 'ou', 'ei', 'ie', 'ea', 'ei', 'ou', 'io', 'ee', 'ia', 'au', 'ea', 'ua', 'ou', 'ee', 'io', 'ai', 'ea', 'io', 'ai', 'ea', 'ea', 'ea', 'ee', 'ia', 'ea', 'ie', 'ua', 'io', 'au', 'ia', 'eu', 'ai', 'ia', 'ui', 'io', 'eu', 'au', 'ai', 'ee', 'ui', 'io', 'au', 'ea', 'io', 'ia', 'ai', 'ie', 'ai', 'ou', 'au', 'ie', 'ie', 'ou', 'io', 'ia', 'ie', 'oi', 'ai', 'ie', 'io', 'ue', 'ua', 'ea', 'ea', 'ou', 'ie', 'io', 'ie', 'io', 'ie', 'ea', 'ea', 'ea', 'ie', 'ea', 'ai', 'ie', 'ia', 'io', 'ie', 'ee', 'ai', 'io', 'ou', 'ia', 'ou', 'oa', 'ui', 'io', 'ou', 'ou', 'ea', 'ea', 'ie', 'ea', 'ai', 'ou', 'ou', 'ai', 'ee', 'ea', 'ai', 'ua', 'ie', 'io', 'io', 'io', 'io', 'io', 'ie', 'ee', 'ea', 'ue', 'ee', 'ea', 'io', 'ou', 'ai', 'ee', 'ie', 'ea', 'au', 'ia', 'ia', 'io', 'ia', 'ai', 'ai', 'ou', 'ai', 'ia', 'ie', 'io', 'ee', 'ea', 'ou', 'io', 'io', 'ea', 'ai', 'io', 'ie', 'ia', 'ai', 'au', 'ou', 'ai', 'ea', 'ie', 'ai', 'ai', 'ai', 'ee', 'io', 'io', 'ea', 'oa', 'au', 'ea', 'ee', 'ea', 'ea', 'ua', 'ei', 'ee', 'ia', 'ia', 'ou', 'ie', 'ea', 'ee', 'ea', 'ia', 'ai', 'ue', 'ia', 'ou', 'ou', 'io', 'ai', 'ie', 'ei', 'ou', 'ea', 'ai', 'ue', 'ee', 'ie', 'ea', 'ai', 'ea', 'ou', 'ie', 'ua', 'io', 'io', 'ia', 'io', 'ai', 'ie', 'ae', 'ai', 'ai', 'ai', 'io', 'ie', 'ea', 'io', 'ie', 'ua', 'ou', 'oi', 'ai', 'ie', 'ea', 'oa', 'ie', 'ea', 'ei', 'ia', 'ua', 'ai', 'ou', 'oo', 'ie', 'io', 'ou', 'ei', 'ie', 'ae', 'io', 'ie', 'ae', 'ea', 'ou', 'ue', 'ea', 'oi', 'oa', 'ai', 'ou', 'ee', 'io', 'ee', 'ae', 'eo', 'io', 'ou', 'io', 'ui', 'ou', 'ia', 'ia', 'ou', 'ui', 'io', 'ou', 'eu', 'io', 'ee', 'ou', 'ou', 'ou', 'ei', 'au', 'ua', 'io', 'ou', 'ee', 'ee', 'ie', 'ei', 'ie', 'ia', 'io', 'io', 'ai', 'io', 'ou', 'io', 'ou', 'ei', 'io', 'ou', 'ou', 'ee', 'ee', 'ou', 'io', 'ei', 'ou', 'ou', 'ee', 'au', 'ea', 'ea', 'ia', 'ee', 'au', 'ui', 'ea', 'ue', 'oa', 'ou', 'ui', 'ea', 'ui', 'eo', 'oo', 'ia', 'io', 'ou', 'ia', 'oo', 'io', 'io', 'ua', 'ou', 'io', 'ui', 'ea', 'ou', 'oo', 'ou', 'io', 'eo', 'oo', 'ei', 'ai', 'ai', 'io', 'ou', 'ae', 'oo', 'ea', 'io', 'ua', 'ea', 'ie', 'ea', 'ei', 'ia', 'io', 'ie', 'ou', 'ou', 'ea', 'ei', 'ou', 'ea', 'ee', 'ou', 'ua', 'ie', 'oe', 'io', 'oa', 'ea', 'ou', 'ai', 'ou', 'ou', 'iu', 'ue', 'ei', 'io', 'ou', 'ea', 'ou', 'iu', 'ea', 'ea', 'ei', 'iu', 'ia', 'ei', 'ou', 'ea', 'ia', 'ea', 'ai', 'iu', 'ee', 'oo', 'ie', 'ea', 'io', 'iu', 'ee', 'ua', 'io', 'iu', 'ea', 'ou', 'ia', 'ee', 'ei', 'ou', 'io', 'ie', 'oi', 'ou', 'ue', 'ei', 'ei', 'ie', 'ia', 'ou', 'iu', 'eo', 'oo', 'ea', 'ea', 'ui', 'ie', 'io', 'ou', 'io', 'ia', 'ai', 'ai', 'ou', 'ea', 'ie', 'ee', 'ie', 'ai', 'oo', 'ea', 'oi', 'ai', 'ie', 'ei', 'ai', 'ie', 'ou', 'ou', 'io', 'ou', 'ei', 'au', 'ou', 'ie', 'au', 'io', 'ei', 'io', 'ou', 'ie', 'ea', 'ue', 'ie', 'ai', 'io', 'io', 'ou', 'ea', 'io', 'ai', 'oo', 'io', 'ai', 'ea', 'io', 'ia', 'io', 'ai', 'ea', 'ai', 'ou', 'ie', 'oo', 'io', 'ea', 'io', 'ai', 'oo', 'ou', 'ai', 'io', 'ua', 'io', 'io', 'io', 'ui', 'ua', 'ea', 'io', 'ie', 'ai', 'oo', 'ai', 'ia', 'io', 'ea', 'io', 'ia', 'oa', 'ia', 'io', 'ou', 'io', 'ea', 'ie', 'ue', 'ui', 'ie', 'io', 'ea', 'io', 'oo', 'ai', 'ie', 'ua', 'io', 'ai', 'io', 'ie', 'ee', 'ie', 'ea', 'io', 'ou', 'ea', 'io', 'ai', 'oo', 'ee', 'ea', 'io', 'oo', 'io', 'io', 'oo', 'io', 'ee', 'ua', 'io', 'oo', 'io', 'ai', 'ia', 'io', 'ou', 'ea', 'io', 'ua', 'io', 'ia', 'io', 'ua', 'oo', 'ea', 'ea', 'ia', 'io', 'ua', 'io', 'io', 'io', 'io', 'ai', 'io', 'ea', 'io', 'ou', 'ea', 'io', 'ue', 'ea', 'ie', 'ee', 'ou', 'ea', 'io', 'ou', 'ou', 'ia', 'io', 'oe', 'ou', 'ue', 'io', 'ai', 'ai', 'ia', 'io', 'ee', 'ia', 'ai', 'ou', 'io', 'io', 'ou', 'ui', 'ai', 'io', 'ai', 'oo', 'ee', 'ai', 'oo', 'ui', 'ea', 'io', 'io', 'ie', 'au', 'ee', 'ea', 'ou', 'ai', 'ai', 'io', 'ai', 'oe', 'ea', 'ou', 'oi', 'ea', 'ea', 'ei', 'ou', 'ai', 'oo', 'ea', 'ai', 'io', 'ou', 'uo', 'ia', 'io', 'io', 'ea', 'ua', 'io', 'ea', 'ee', 'oo', 'ou', 'ia', 'oo', 'ea', 'ou', 'ou', 'ou', 'ei', 'ee', 'oo', 'ou', 'ia', 'ai', 'ea', 'ou', 'ie', 'ea', 'au', 'ea', 'oe', 'oo', 'ua', 'io', 'ue', 'ou', 'ee', 'ie', 'io', 'io', 'ee', 'oo', 'ea', 'ea', 'ou', 'ea', 'ee', 'ee', 'ie', 'ie', 'ee', 'ou', 'ia', 'au', 'eu', 'ee', 'ee', 'ou', 'ea', 'ee', 'ea', 'io', 'ia', 'oo', 'ee', 'ue', 'ea', 'ou', 'io', 'ie', 'ou', 'ei', 'oo', 'io', 'ua', 'ua', 'ou', 'ea', 'io', 'ou', 'ue', 'ea', 'ea', 'ia', 'ai', 'ie', 'ou', 'ou', 'iu', 'ie', 'ea', 'ei', 'ia', 'ea', 'ie', 'oa', 'ou', 'io', 'ea', 'ou', 'ai', 'oo', 'ei', 'ai', 'ea', 'ie', 'io', 'io', 'ei', 'ee', 'au', 'io', 'ou', 'ue', 'ie', 'ou', 'ee', 'ee', 'ou', 'ei', 'ee', 'ie', 'oo', 'oo', 'ei', 'ia', 'oi', 'ee', 'io', 'ou', 'ei', 'ee', 'oo', 'ei', 'ai', 'ou', 'ea', 'ou', 'oo', 'ou', 'ia', 'ea', 'ee', 'ea', 'ee', 'ui', 'ou', 'ei', 'au', 'ea', 'ou', 'ia', 'ai', 'ea', 'ea', 'oo', 'au', 'ia', 'ai', 'au', 'ee', 'ea', 'ua', 'oo', 'ou', 'ea', 'eo', 'ia', 'ou', 'oa', 'ou', 'ea', 'ei', 'ia', 'ie', 'ou', 'ie', 'ou', 'ee', 'ou', 'ea', 'ou', 'ie', 'ia', 'ue', 'ou', 'ee', 'ai', 'ea', 'ea', 'ou', 'ai', 'ua', 'ui', 'io', 'oi', 'ee', 'io', 'ea', 'ee', 'oi', 'io', 'io', 'ou', 'ui', 'ai', 'io', 'ee', 'ia', 'oi', 'ee', 'io', 'io', 'ai', 'ia', 'ia', 'ee', 'ai', 'ee', 'ie', 'io', 'ea', 'ee', 'oi', 'io', 'io', 'ai', 'ea', 'ie', 'ea', 'ea', 'io', 'ou', 'io', 'ei', 'oo', 'ai', 'ou', 'eo', 'ai', 'ai', 'ai', 'ee', 'ou', 'ea', 'ea', 'ia', 'ee', 'ou', 'ai', 'ao', 'io', 'ei', 'ai', 'ea', 'ou', 'ia', 'ai', 'ea', 'ea', 'io', 'oa', 'ie', 'ou', 'ea', 'ie', 'ou', 'io', 'oa', 'ia', 'ia', 'io', 'ei', 'ui', 'ia', 'ea', 'ea', 'ia', 'ia', 'au', 'ee', 'ia', 'ui', 'ai', 'ia', 'ia', 'ou', 'ui', 'ia', 'ai', 'ou', 'ee', 'io', 'ea', 'io', 'ou', 'ai', 'ia', 'au', 'io', 'io', 'ou', 'ai', 'oi', 'ea', 'ea', 'ou', 'io', 'ea', 'io', 'ai', 'ea', 'ea', 'ea', 'ia', 'ai', 'ee', 'ue', 'io', 'ia', 'io', 'io', 'ue', 'ea', 'ai', 'ea', 'ou', 'ue', 'ue', 'ai', 'ea', 'ue', 'ia', 'eo', 'io', 'ie', 'ea', 'ea', 'ai', 'ue', 'ie', 'ea', 'ai', 'ai', 'ie', 'ee', 'ou', 'ee', 'ea', 'ie', 'ie', 'oi', 'ie', 'ou', 'ou', 'ai', 'ia', 'ue', 'ou', 'ou', 'ai', 'ia', 'ue', 'au', 'ie', 'ea', 'ie', 'ea', 'ou', 'ou', 'ee', 'ou', 'ie', 'ee', 'ou', 'io', 'oo', 'ea', 'ee', 'ee', 'ie', 'ee', 'ee', 'ea', 'ou', 'ee', 'ue', 'ia', 'oo', 'ea', 'ea', 'ea', 'ea', 'ou', 'ea', 'ie', 'oa', 'ou', 'ui', 'ee', 'ee', 'ea', 'ai', 'ia', 'ee', 'ou', 'io', 'ua', 'io', 'ee', 'ea', 'ie', 'oa', 'ea', 'ou', 'ui', 'oe', 'oi', 'ea', 'ea', 'ie', 'ou', 'ou', 'ee', 'eo', 'ia', 'ou', 'ea', 'oi', 'au', 'ei', 'ie', 'ia', 'ou', 'ie', 'ou', 'ee', 'ee', 'ie', 'ou', 'au', 'ie', 'ea', 'ou', 'ia', 'ee', 'io', 'ai', 'ie', 'ou', 'io', 'ei', 'io', 'ue', 'au', 'oa', 'io', 'oo', 'ie', 'ai', 'ie', 'ie', 'ou', 'ea', 'ou', 'ei', 'ie', 'ou', 'ie', 'ou', 'ea', 'ue', 'io', 'eo', 'ei', 'ea', 'io', 'au', 'ie', 'ou', 'oo', 'ie', 'ie', 'eo', 'ee', 'ie', 'oo', 'oe', 'ai', 'ee', 'ie', 'ui', 'io', 'io', 'ai', 'ee', 'ou', 'ee', 'ea', 'ae', 'ea', 'ie', 'ea', 'ie', 'ea', 'ie', 'ee', 'ie', 'ui', 'io', 'ou', 'ai', 'io', 'ou', 'ee', 'oe', 'oe', 'ea', 'ou', 'ea', 'ea', 'ai', 'ai', 'ia', 'oo', 'ea', 'ia', 'ai', 'io', 'ea', 'ou', 'ee', 'ea', 'ea', 'ai', 'ea', 'ue', 'ai', 'ou', 'io', 'ee', 'io', 'ea', 'io', 'ea', 'eo', 'io', 'ou', 'ai', 'ou', 'ee', 'ai', 'ea', 'io', 'ea', 'ou', 'ai', 'oo', 'ai', 'ia', 'ue', 'io', 'ia', 'ee', 'ia', 'ai', 'ou', 'ai', 'ea', 'ie', 'oi', 'io', 'ia', 'ai', 'iu', 'ia', 'ai', 'ea', 'ai', 'ai', 'io', 'ai', 'ai', 'ou', 'io', 'ei', 'oe', 'ai', 'au', 'ue', 'oe', 'ie', 'ue', 'io', 'oe', 'iu', 'ia', 'oa', 'ea', 'ei', 'ee', 'ia', 'ou', 'ai', 'oi', 'oo', 'iu', 'ia', 'ua', 'io', 'ue', 'ai', 'ou', 'ea', 'ei', 'oa', 'ia', 'ai', 'oa', 'au', 'ai', 'ai', 'ai', 'ai', 'ou', 'ee', 'io', 'iu', 'ia', 'ai', 'ai', 'ue', 'iu', 'ia', 'ee', 'oi', 'ou', 'io', 'io', 'ou', 'ua', 'io', 'ia', 'ou', 'ia', 'io', 'ia', 'ee', 'ua', 'io', 'ee', 'ou', 'ai', 'ou', 'ou', 'io', 'ee', 'ua', 'ia', 'io', 'ue', 'ee', 'ou', 'ue', 'ue', 'io', 'ou', 'oo', 'ia', 'ia', 'ai', 'io', 'ie', 'ai', 'ea', 'io', 'ia', 'au', 'ie', 'ea', 'oo', 'io', 'ou', 'ea', 'ou', 'ea', 'ou', 'oo', 'ea', 'oi', 'ou', 'ie', 'ou', 'ou', 'ou', 'ou', 'ei', 'ou', 'ou', 'ie', 'io', 'ea', 'ue', 'ue', 'ue', 'io', 'ue', 'ou', 'io', 'eo', 'ei', 'ai', 'ie', 'ea', 'ee', 'ai', 'ai', 'ee', 'ou', 'ai', 'ea', 'ai', 'ou', 'ue', 'io', 'io', 'ea', 'ai', 'ue', 'io', 'ou', 'io', 'ai', 'ea', 'io', 'io', 'ou', 'io', 'oi', 'ou', 'ia', 'ui', 'ea', 'oi', 'oi', 'ou', 'ou', 'ei', 'ui', 'au', 'ou', 'au', 'ou', 'io', 'ia', 'ou', 'ai', 'io', 'ia', 'ee', 'ea', 'oi', 'io', 'oi', 'oe', 'au', 'ou', 'ai', 'ea', 'oi', 'ea', 'au', 'io', 'ou', 'io', 'ie', 'ue', 'ou', 'ai', 'io', 'ea', 'au', 'ai', 'ue', 'io', 'ou', 'ou', 'ui', 'io', 'ou', 'io', 'ou', 'ea', 'ou', 'ee', 'ou', 'ea', 'oa', 'io', 'ea', 'uo', 'ou', 'ea', 'ia', 'io', 'io', 'ie', 'eo', 'oo', 'io', 'ou', 'ea', 'ia', 'ia', 'ue', 'io', 'ea', 'io', 'ue', 'io', 'io', 'ie', 'ea', 'ai', 'io', 'ea', 'ie', 'ei', 'ia', 'io', 'ai', 'oa', 'io', 'ea', 'ou', 'ea', 'ia', 'ee', 'ea', 'ei', 'ia', 'ou', 'ie', 'ea', 'io', 'ai', 'ou', 'ea', 'ee', 'ea', 'io', 'io', 'ia', 'ou', 'ea', 'ia', 'io', 'ei', 'ue', 'ai', 'ie', 'ou', 'ie', 'ai', 'ia', 'ee', 'ia', 'io', 'ie', 'ei', 'io', 'ea', 'ea', 'au', 'ai', 'ou', 'io', 'ie', 'ou', 'io', 'io', 'ou', 'ea', 'ia', 'io', 'io', 'ie', 'ea', 'io', 'ou', 'ou', 'ea', 'ia', 'io', 'io', 'io', 'ei', 'ai', 'io', 'ea', 'ou', 'ia', 'ua', 'oo', 'ou', 'ea', 'ia', 'io', 'ia', 'oo', 'io', 'ea', 'oa', 'io', 'ai', 'ia', 'ia', 'ie', 'oo', 'oo', 'ai', 'io', 'ia', 'ia', 'ia', 'io', 'ou', 'ie', 'io', 'ie', 'ei', 'ia', 'io', 'ee', 'ia', 'ee', 'ue', 'io', 'io', 'io', 'ia', 'ou', 'ea', 'ea', 'ia', 'io', 'ou', 'ea', 'ia', 'io', 'ai', 'ia', 'ia', 'ei', 'io', 'ea', 'oo', 'io', 'ou', 'ee', 'ua', 'ia', 'ea', 'io', 'ue', 'ea', 'io', 'ia', 'ai', 'io', 'ie', 'ia', 'ai', 'ai', 'ue', 'io', 'ou', 'ou', 'ou', 'ea', 'ia', 'ou', 'ie', 'ou', 'ai', 'ea', 'ia', 'eo', 'ai', 'io', 'ia', 'oi', 'ou', 'ia', 'au', 'io', 'io', 'ia', 'ae', 'oa', 'ui', 'ai', 'ia', 'io', 'ou', 'ea', 'io', 'ue', 'ai', 'ea', 'oo', 'io', 'ou', 'ea', 'ia', 'ou', 'ei', 'ue', 'ei', 'ai', 'ou', 'ea', 'ei', 'au', 'io', 'ee', 'ia', 'ia', 'ou', 'ie', 'ee', 'oo', 'oo', 'ee', 'ee', 'ea', 'io', 'ou', 'ee', 'ou', 'ua', 'ue', 'io', 'ia', 'ie', 'io', 'ue', 'io', 'io', 'ou', 'ea', 'ai', 'ai', 'ea', 'ue', 'io', 'ea', 'oo', 'ea', 'ue', 'io', 'io', 'eo', 'ue', 'io', 'ea', 'ea', 'ua', 'ou', 'ea', 'ea', 'ui', 'ai', 'ai', 'ea', 'au', 'ea', 'ai', 'ie', 'ea', 'ue', 'ou', 'ea', 'oo', 'ia', 'io', 'ea', 'oo', 'ea', 'io', 'ea', 'ea', 'io', 'io', 'ou', 'oo', 'io', 'oo', 'ea', 'ai', 'io', 'ia', 'ea', 'oi', 'ea', 'ie', 'io', 'ue', 'ue', 'oo', 'ea', 'ou', 'ou', 'ea', 'ou', 'ie', 'ea', 'au', 'ea', 'ea', 'ea', 'ou', 'au', 'ea', 'ea', 'ea', 'ia', 'io', 'oo', 'ou', 'ue', 'io', 'ea', 'oa', 'oo', 'oo', 'io', 'oo', 'ia', 'oo', 'ea', 'ia', 'ee', 'ea', 'ea', 'ea', 'ue', 'io', 'ea', 'ou', 'ee', 'ou', 'ea', 'oo', 'ou', 'ea', 'ou', 'io', 'io', 'io', 'ea', 'io', 'oo', 'ia', 'ou', 'ou', 'ou', 'ou', 'io', 'ou', 'ie', 'io', 'ou', 'ea', 'io', 'ou', 'ea', 'oo', 'ea', 'io', 'io', 'au', 'ou', 'io', 'io', 'ea', 'ou', 'ou', 'io', 'ai', 'au', 'ie', 'ou', 'ia', 'ee', 'ie', 'io', 'oo', 'ou', 'oo', 'ee', 'oo', 'ea', 'oo', 'ou', 'oa', 'oo', 'ea', 'oa', 'io', 'oo', 'oo', 'oo', 'ea', 'ia', 'ou', 'ea', 'io', 'ea', 'ea', 'oo', 'ou', 'ou', 'ie', 'ei', 'oo', 'oo', 'ei', 'oo', 'ea', 'ou', 'ea', 'oo', 'oo', 'oo', 'ai', 'io', 'oo', 'ea', 'ee', 'io', 'ei', 'ea', 'ea', 'ea', 'ea', 'ea', 'oo', 'ea', 'ou', 'oo', 'ea', 'ou', 'ie', 'ou', 'ea', 'au', 'ea', 'ea', 'io', 'ou', 'oo', 'ea', 'ee', 'oo', 'ee', 'ea', 'au', 'io', 'oo', 'ea', 'ea', 'io', 'au', 'ou', 'ea', 'ea', 'ea', 'au', 'ea', 'io', 'ea', 'ee', 'ea', 'io', 'au', 'io', 'ea', 'ee', 'ee', 'io', 'oo', 'ea', 'ui', 'ea', 'oa', 'ai', 'oo', 'io', 'ee', 'oo', 'ou', 'ee', 'oo', 'ea', 'ie', 'ea', 'oo', 'ie', 'ea', 'ue', 'ui', 'ie', 'oo', 'au', 'io', 'ea', 'ea', 'ue', 'ea', 'ea', 'ea', 'ea', 'oi', 'ou', 'oi', 'ai', 'ea', 'ea', 'ea', 'io', 'ua', 'ea', 'ea', 'ee', 'ea', 'io', 'ia', 'ia', 'ie', 'ea', 'ie', 'ea', 'ee', 'ou', 'ou', 'oo', 'ea', 'ee', 'ea', 'ea', 'ea', 'ea', 'ee', 'ua', 'ee', 'eo', 'ua', 'oo', 'ou', 'ou', 'ea', 'ie', 'ue', 'io', 'ia', 'ie', 'io', 'ea', 'ai', 'ua', 'io', 'ue', 'io', 'eo', 'ue', 'io', 'io', 'ea', 'ee', 'oo', 'ua', 'ea', 'oo', 'ie', 'ua', 'ee', 'ou', 'oi', 'ea', 'oe', 'ee', 'ee', 'oo', 'ia', 'ea', 'ou', 'ea', 'ea', 'ie', 'ai', 'ou', 'au', 'ie', 'ou', 'ea', 'ou', 'oo', 'oe', 'ee', 'oo', 'ia', 'io', 'ea', 'ue', 'io', 'ea', 'ie', 'ea', 'ai', 'oo', 'ia', 'ai', 'ea', 'ie', 'ie', 'ou', 'ou', 'ea', 'oi', 'ia', 'ou', 'ea', 'ui', 'io', 'ou', 'ou', 'ea', 'ea', 'ai', 'ou', 'ea', 'oo', 'ou', 'eo', 'io', 'au', 'ie', 'ea', 'ea', 'ea', 'oo', 'oa', 'ea', 'ea', 'ie', 'ai', 'ea', 'io', 'ea', 'ea', 'oa', 'io', 'ou', 'io', 'oo', 'oi', 'ou', 'ou', 'ie', 'ai', 'ia', 'ee', 'ea', 'ai', 'ei', 'io', 'au', 'ea', 'ou', 'io', 'au', 'ie', 'io', 'ie', 'ee', 'oo', 'ea', 'ia', 'ee', 'ea', 'ua', 'ai', 'ea', 'eo', 'oo', 'ea', 'ie', 'oo', 'ia', 'ea', 'ea', 'ue', 'ea', 'ai', 'io', 'ea', 'ou', 'ua', 'ea', 'oo', 'ea', 'oi', 'ea', 'ea', 'ui', 'au', 'ea', 'ou', 'ei', 'au', 'ai', 'ie', 'ai', 'ea', 'ai', 'ou', 'ou', 'oo', 'oa', 'oo', 'ee', 'ei', 'ea', 'ee', 'io', 'ie', 'io', 'ia', 'ie', 'ee', 'ee', 'ea', 'ia', 'oo', 'ou', 'oo', 'ai', 'ue', 'io', 'ee', 'ea', 'ea', 'ia', 'ea', 'ia', 'oi', 'ai', 'io', 'ee', 'ea', 'io', 'oo', 'ee', 'oo', 'oo', 'ea', 'oo', 'io', 'oo', 'oo', 'ea', 'ea', 'ie', 'oa', 'oa', 'ai', 'ea', 'au', 'ea', 'ue', 'io', 'ea', 'ei', 'oo', 'ea', 'ue', 'ue', 'ia', 'ou', 'io', 'ea', 'io', 'ie', 'io', 'ie', 'ie', 'ou', 'io', 'ea', 'ou', 'ou', 'ei', 'ou', 'ou', 'ie', 'ie', 'ia', 'ei', 'ea', 'oo', 'ia', 'ou', 'ia', 'ou', 'oo', 'oo', 'io', 'io', 'oo', 'ee', 'ei', 'io', 'ea', 'ea', 'ou', 'ea', 'ia', 'ea', 'ee', 'ou', 'ea', 'ia', 'ea', 'ea', 'ou', 'ea', 'ia', 'io', 'ae', 'ea', 'io', 'ea', 'ia', 'ai', 'ue', 'io', 'ue', 'io', 'ai', 'oi', 'oo', 'ea', 'ia', 'io', 'io', 'ea', 'ia', 'ou', 'oo', 'au', 'ei', 'ua', 'oi', 'oi', 'ea', 'ea', 'au', 'eo', 'ea', 'ie', 'io', 'ou', 'oo', 'ei', 'ea', 'io', 'ia', 'io', 'ea', 'ia', 'io', 'ou', 'au', 'ou', 'oe', 'io', 'ou', 'ou', 'ea', 'ia', 'ai', 'ea', 'io', 'ee', 'ia', 'ai', 'au', 'ou', 'oi', 'ue', 'io', 'oe', 'ou', 'io', 'ou', 'ou', 'ai', 'ou', 'au', 'ou', 'ea', 'ue', 'ai', 'ui', 'io', 'oa', 'ia', 'io', 'ou', 'io', 'io', 'ia', 'io', 'ia', 'ie', 'ea', 'iu', 'ea', 'ue', 'ea', 'ie', 'io', 'ou', 'ue', 'ou', 'ea', 'ia', 'ea', 'ei', 'io', 'ea', 'au', 'ie', 'ue', 'ou', 'ea', 'ea', 'io', 'ea', 'ai', 'ue', 'ea', 'ou', 'ue', 'ai', 'ue', 'ea', 'ue', 'ea', 'oe', 'ia', 'ou', 'ue', 'oo', 'io', 'ea', 'io', 'oe', 'ea', 'io', 'ea', 'io', 'ea', 'ie', 'ue', 'ai', 'ie', 'ea', 'iu', 'ea', 'ie', 'ie', 'ue', 'oi', 'ea', 'ea', 'ue', 'io', 'ue', 'oi', 'io', 'ou', 'ue', 'io', 'ui', 'io', 'ea', 'ei', 'io', 'io', 'ia', 'ei', 'ie', 'io', 'ue', 'io', 'eo', 'io', 'io', 'io', 'ea', 'ea', 'io', 'eo', 'ie', 'ie', 'ee', 'ie', 'ea', 'ie', 'io', 'ue', 'ue', 'ie', 'ie', 'ou', 'ie', 'ou', 'io', 'ia', 'ea', 'oo', 'ou', 'io', 'ue', 'ou', 'io', 'ea', 'ue', 'ou', 'ai', 'io', 'ai', 'ou', 'io', 'ai', 'ea', 'ue', 'ue', 'ea', 'ue', 'au', 'au', 'ea', 'au', 'io', 'ou', 'io', 'ua', 'ue', 'ea', 'ou', 'ea', 'io', 'oa', 'oo', 'ou', 'io', 'au', 'io', 'ea', 'ai', 'io', 'ie', 'ea', 'ai', 'ou', 'io', 'ia', 'ai', 'ia', 'ai', 'oa', 'ue', 'oo', 'ai', 'io', 'ou', 'io', 'ou', 'ai', 'au', 'ia', 'ie', 'ei', 'ea', 'oa', 'io', 'eo', 'oo', 'ia', 'ee', 'ea', 'ai', 'eo', 'ea', 'ue', 'ea', 'ia', 'ea', 'ee', 'ou', 'io', 'ue', 'ou', 'ai', 'ou', 'ea', 'ee', 'ai', 'ea', 'au', 'eo', 'ou', 'ea', 'io', 'ia', 'io', 'ee', 'ui', 'ea', 'io', 'ie', 'ue', 'ie', 'ia', 'io', 'ea', 'ai', 'ia', 'ee', 'ui', 'ia', 'oa', 'ia', 'ue', 'ai', 'ua', 'io', 'io', 'ie', 'ai', 'ia', 'ia', 'ai', 'ai', 'ai', 'ua', 'io', 'ie', 'ea', 'ea', 'ei', 'ie', 'ou', 'ei', 'ai', 'ai', 'ee', 'ei', 'ie', 'ea', 'eo', 'ua', 'io', 'au', 'eo', 'ou', 'ou', 'ia', 'ui', 'io', 'io', 'ia', 'ea', 'ou', 'io', 'io', 'ia', 'ou', 'ou', 'ia', 'au', 'ai', 'ee', 'ue', 'oo', 'ai', 'io', 'io', 'ou', 'ia', 'ou', 'ai', 'ia', 'ou', 'ee', 'ia', 'ea', 'ie', 'ee', 'ea', 'oa', 'ai', 'ua', 'ea', 'ea', 'ie', 'io', 'io', 'ue', 'io', 'ue', 'ea', 'io', 'ai', 'ai', 'ai', 'io', 'ou', 'ie', 'ue', 'ea', 'ie', 'ee', 'ou', 'ai', 'io', 'ie', 'ui', 'ei', 'ie', 'io', 'ou', 'ai', 'ie', 'ia', 'ai', 'ou', 'ai', 'ee', 'ea', 'ea', 'ue', 'oo', 'io', 'ou', 'ie', 'ei', 'ie', 'ea', 'ie', 'ee', 'ai', 'ie', 'ai', 'ea', 'io', 'ia', 'io', 'ia', 'ea', 'ei', 'ei', 'ie', 'ai', 'ai', 'ie', 'ea', 'ou', 'ua', 'io', 'ai', 'ua', 'ou', 'ai', 'ou', 'ai', 'ou', 'ua', 'ou', 'io', 'ai', 'ie', 'ai', 'ou', 'ee', 'ai', 'ou', 'ea', 'ia', 'io', 'ou', 'io', 'ui', 'ae', 'ea', 'ee', 'ai', 'io', 'ou', 'ie', 'ou', 'ie', 'ou', 'ea', 'ai', 'ia', 'ou', 'io', 'ai', 'ue', 'ee', 'ai', 'ou', 'ea', 'ai', 'ou', 'ie', 'ai', 'ia', 'oi', 'ai', 'ue', 'io', 'ou', 'io', 'ei', 'ia', 'io', 'ei', 'ee', 'ai', 'ou', 'ua', 'ia', 'ai', 'ia', 'io', 'ee', 'io', 'ou', 'ie', 'ou', 'ui', 'ee', 'ou', 'io', 'ai', 'ua', 'ai', 'ou', 'ou', 'io', 'io', 'ue', 'ou', 'io', 'io', 'ee', 'ie', 'ou', 'ia', 'ea', 'au', 'ue', 'ui', 'oi', 'ea', 'ai', 'ou', 'oi', 'ee', 'ou', 'ea', 'ai', 'oi', 'oa', 'ui', 'ie', 'ua', 'ua', 'ou', 'ea', 'ei', 'ai', 'ou', 'oo', 'ou', 'io', 'ou', 'ou', 'ou', 'io', 'ou', 'ai', 'ai', 'oi', 'au', 'oo', 'ea', 'ui', 'ui', 'io', 'ou', 'ai', 'ee', 'io', 'io', 'ea', 'ea', 'ui', 'ui', 'ai', 'ee', 'ui', 'ai', 'ie', 'ui', 'ea', 'oo', 'ai', 'ui', 'ai', 'io', 'ie', 'ui', 'ai', 'ee', 'ia', 'ei', 'ai', 'ea', 'ea', 'ai', 'ai', 'ui', 'ea', 'ea', 'io', 'ai', 'ui', 'ea', 'ai', 'ee', 'ai', 'ui', 'ou', 'ie', 'io', 'ui', 'ee', 'ou', 'ui', 'ia', 'ai', 'ea', 'ea', 'ou', 'ou', 'io', 'ea', 'ai', 'io', 'io', 'ou', 'ie', 'ou', 'io', 'ou', 'io', 'ui', 'ou', 'ea', 'io', 'io', 'ee', 'ee', 'ea', 'ou', 'io', 'ia', 'ua', 'ia', 'ui', 'ee', 'ea', 'ea', 'ua', 'uo', 'ue', 'ou', 'ee', 'ee', 'ui', 'ee', 'ee', 'ia', 'oi', 'ou', 'ai', 'ea', 'ia', 'ai', 'ou', 'io', 'ia', 'ia', 'ou', 'ia', 'ua', 'ai', 'ia', 'io', 'ie', 'io', 'ia', 'io', 'oe', 'ou', 'ee', 'io', 'ia', 'ou', 'oo', 'ei', 'ou', 'ia', 'ai', 'io', 'ia', 'ia', 'ea', 'ie', 'ea', 'ia', 'ee', 'io', 'ea', 'ai', 'oi', 'ae', 'ua', 'ee', 'ia', 'ea', 'io', 'ia', 'ie', 'ie', 'ou', 'oo', 'ai', 'ea', 'ee', 'ui', 'ai', 'ui', 'io', 'ua', 'ee', 'ou', 'oo', 'ua', 'ea', 'ea', 'ou', 'oa', 'ie', 'io', 'ou', 'oa', 'ai', 'ui', 'ee', 'ea', 'io', 'ou', 'ai', 'au', 'io', 'ie', 'ea', 'io', 'ie', 'oo', 'ou', 'ea', 'ia', 'io', 'ai', 'ai', 'io', 'ai', 'io', 'io', 'ou', 'au', 'ou', 'ea', 'oo', 'ea', 'ua', 'ea', 'ee', 'au', 'ou', 'ie', 'ie', 'au', 'ua', 'io', 'ie', 'io', 'ia', 'ia', 'ai', 'ue', 'io', 'io', 'ee', 'ea', 'ai', 'ou', 'ue', 'au', 'io', 'ue', 'io', 'io', 'ia', 'ou', 'ue', 'ea', 'ei', 'ai', 'au', 'ie', 'ai', 'ea', 'ie', 'ou', 'io', 'ai', 'ea', 'ee', 'ou', 'ou', 'io', 'ia', 'ee', 'ai', 'ee', 'ea', 'ie', 'ai', 'ai', 'ea', 'io', 'ai', 'ie', 'ai', 'ou', 'ai', 'ou', 'ea', 'ua', 'ou', 'ie', 'ai', 'io', 'ia', 'ei', 'io', 'io', 'ai', 'ea', 'ou', 'ou', 'ee', 'ui', 'io', 'ua', 'io', 'ia', 'io', 'ou', 'io', 'io', 'ai', 'ui', 'io', 'ai', 'ae', 'ai', 'ia', 'ai', 'ai', 'io', 'io', 'ea', 'ea', 'ie', 'ea', 'io', 'io', 'ai', 'ui', 'io', 'ie', 'ai', 'au', 'ou', 'ee', 'oa', 'ei', 'ai', 'ou', 'io', 'io', 'ea', 'ai', 'ee', 'ai', 'au', 'io', 'ee', 'ai', 'ea', 'ua', 'ie', 'ua', 'ee', 'io', 'ua', 'ia', 'ui', 'ai', 'ou', 'io', 'io', 'ua', 'ia', 'ai', 'io', 'io', 'io', 'ea', 'io', 'io', 'ue', 'ee', 'ou', 'ai', 'ai', 'ie', 'io', 'ea', 'ea', 'ai', 'ou', 'ia', 'io', 'io', 'ua', 'ou', 'ao', 'ai', 'ou', 'io', 'ea', 'ea', 'ie', 'io', 'ue', 'io', 'io', 'ie', 'io', 'ai', 'ea', 'ou', 'io', 'io', 'oo', 'io', 'ai', 'ae', 'ea', 'ou', 'ue', 'io', 'ee', 'ie', 'au', 'ou', 'ou', 'oo', 'ia', 'ai', 'ie', 'ie', 'ia', 'io', 'ui', 'ea', 'oa', 'ai', 'ai', 'ie', 'uo', 'ue', 'ai', 'au', 'io', 'ea', 'ea', 'ai', 'ai', 'ea', 'ai', 'ee', 'ee', 'au', 'ee', 'ea', 'ai', 'ai', 'ue', 'ei', 'ou', 'ai', 'ie', 'ue', 'ue', 'oa', 'ee', 'ei', 'uo', 'ue', 'ue', 'uo', 'ue', 'ou', 'ai', 'ie', 'ie', 'ai', 'io', 'io', 'ou', 'ia', 'ai', 'ee', 'ie', 'ea', 'ee', 'ou', 'eo', 'ia', 'eo', 'ea', 'oo', 'ea', 'ue', 'ue', 'ou', 'io', 'io', 'ee', 'ai', 'ea', 'ue', 'ea', 'io', 'oi', 'ou', 'io', 'ie', 'ea', 'ue', 'ai', 'ee', 'ue', 'ee', 'ea', 'ai', 'ea', 'ea', 'ea', 'oo', 'ea', 'ai', 'au', 'oo', 'ei', 'io', 'oo', 'ai', 'ou', 'io', 'ou', 'ea', 'uo', 'ou', 'ou', 'ee', 'io', 'ie', 'au', 'io', 'ou', 'ea', 'au', 'ia', 'io', 'ai', 'io', 'io', 'ei', 'ea', 'io', 'au', 'ia', 'ia', 'ua', 'io', 'ai', 'ia', 'ie', 'ia', 'ie', 'au', 'ee', 'ia', 'ee', 'ee', 'ia', 'io', 'ei', 'oo', 'ua', 'io', 'ie', 'io', 'ie', 'ia', 'au', 'ie', 'ue', 'io', 'ea', 'oi', 'ee', 'ee', 'ea', 'ie', 'ie', 'ia', 'io', 'ei', 'ea', 'ou', 'io', 'ia', 'ee', 'oi', 'ou', 'ee', 'ei', 'ia', 'ou', 'io', 'ea', 'ee', 'oi', 'ui', 'ia', 'eo', 'ia', 'ia', 'ai', 'ei', 'ai', 'ai', 'eo', 'ia', 'io', 'eo', 'ia', 'io', 'ou', 'io', 'ue', 'ia', 'ou', 'ou', 'ou', 'ou', 'oo', 'eu', 'ia', 'oo', 'ai', 'oo', 'ie', 'ou', 'ou', 'oi', 'ie', 'ou', 'ai', 'oo', 'ea', 'oi', 'ou', 'ee', 'oi', 'ue', 'ie', 'ou', 'ai', 'ou', 'io', 'ou', 'ie', 'ia', 'ia', 'oi', 'oa', 'io', 'ea', 'ou', 'ou', 'io', 'ee', 'ou', 'ue', 'ou', 'ou', 'ou', 'oe', 'ia', 'ue', 'io', 'ou', 'ue', 'ou', 'ea', 'ee', 'ou', 'ou', 'ou', 'oi', 'io', 'ia', 'ee', 'ui', 'ou', 'ue', 'ea', 'oo', 'ie', 'io', 'ie', 'au', 'ie', 'ue', 'oe', 'ue', 'oo', 'ea', 'ia', 'io', 'ue', 'ua', 'ie', 'ea', 'io', 'ou', 'oo', 'ou', 'ou', 'ie', 'ie', 'ue', 'ue', 'ou', 'io', 'ia', 'oo', 'ie', 'ue', 'ou', 'ee', 'au', 'oo', 'ou', 'ou', 'ai', 'io', 'io', 'ea', 'ie', 'ea', 'ee', 'ou', 'ai', 'io', 'io', 'ou', 'ai', 'ie', 'ai', 'ue', 'io', 'io', 'ie', 'ou', 'ia', 'ia', 'ia', 'io', 'ou', 'ee', 'io', 'ou', 'ou', 'ou', 'ee', 'ou', 'ea', 'io', 'ai', 'ee', 'ou', 'ia', 'ie', 'ee', 'io', 'ai', 'ee', 'ou', 'ai', 'ui', 'io', 'ia', 'io', 'ui', 'au', 'io', 'io', 'ea', 'ai', 'ai', 'ea', 'ea', 'ie', 'ea', 'ai', 'ea', 'ai', 'ai', 'ue', 'ou', 'io', 'ee', 'ou', 'ie', 'eo', 'ea', 'oo', 'ie', 'ou', 'ei', 'oi', 'io', 'ea', 'ai', 'ee', 'io', 'ea', 'ai', 'ie', 'oo', 'ai', 'ie', 'ea', 'ai', 'ou', 'io', 'ou', 'io', 'ou', 'ea', 'ou', 'io', 'ai', 'io', 'oo', 'ai', 'ai', 'ea', 'ou', 'ea', 'ai', 'ai', 'oo', 'ee', 'ea', 'ai', 'ea', 'ou', 'ia', 'ea', 'ei', 'oi', 'ea', 'ai', 'io', 'ou', 'io', 'ea', 'ai', 'ia', 'ou', 'ei', 'ai', 'ou', 'ei', 'ea', 'ai', 'ia', 'ie', 'ui', 'ei', 'ea', 'ai', 'ou', 'ea', 'ai', 'ou', 'oo', 'ou', 'ai', 'ea', 'ai', 'ai', 'ou', 'ia', 'ai', 'ue', 'oo', 'ai', 'ea', 'io', 'ea', 'ai', 'ee', 'ea', 'ai', 'io', 'oo', 'ui', 'au', 'ui', 'oo', 'ue', 'ui', 'au', 'ui', 'ou', 'ea', 'ea', 'ea', 'ea', 'ui', 'ea', 'io', 'io', 'ue', 'ai', 'oi', 'ou', 'io', 'ai', 'ui', 'ui', 'ea', 'ea', 'ee', 'ui', 'ee', 'au', 'ai', 'au', 'io', 'ia', 'ai', 'ee', 'ea', 'ui', 'ou', 'ia', 'ua', 'eo', 'ou', 'ea', 'ea', 'io', 'ee', 'ai', 'ai', 'io', 'ai', 'io', 'ou', 'ea', 'ou', 'ie', 'oo', 'ai', 'ui', 'io', 'ui', 'ai', 'au', 'ea', 'ea', 'io', 'oo', 'ou', 'ei', 'ou', 'oo', 'ou', 'ui', 'oa', 'ei', 'oo', 'ou', 'oi', 'ia', 'ai', 'ea', 'ea', 'ou', 'ea', 'ai', 'ea', 'ai', 'ea', 'ee', 'oo', 'ei', 'ee', 'au', 'ai', 'oo', 'ea', 'ea', 'ie', 'ea', 'io', 'ea', 'ea', 'ei', 'ai', 'ee', 'ea', 'ea', 'ai', 'ai', 'ou', 'io', 'ai', 'au', 'ai', 'ei', 'io', 'oi', 'ie', 'ea', 'ai', 'oa', 'ui', 'ai', 'ea', 'ai', 'eu', 'oi', 'oa', 'ee', 'ue', 'ai', 'ai', 'ia', 'ou', 'ou', 'ei', 'io', 'ai', 'io', 'ee', 'io', 'io', 'ai', 'io', 'ai', 'ou', 'io', 'oo', 'ou', 'io', 'io', 'eo', 'ou', 'ia', 'ai', 'io', 'io', 'au', 'ai', 'ee', 'io', 'ea', 'io', 'ea', 'ea', 'ie', 'io', 'ai', 'ou', 'io', 'ou', 'ee', 'ia', 'ea', 'ua', 'ea', 'ai', 'ie', 'ai', 'ue', 'ua', 'ea', 'ua', 'io', 'eo', 'ae', 'ea', 'ou', 'ie', 'ia', 'ia', 'ai', 'ee', 'ai', 'oa', 'ai', 'ee', 'ou', 'ue', 'ai', 'ei', 'io', 'oo', 'ai', 'io', 'io', 'ou', 'ia', 'ou', 'ai', 'ia', 'ou', 'ee', 'ia', 'ee', 'ea', 'oa', 'ia', 'ie', 'ea', 'ou', 'au', 'ou', 'ou', 'ea', 'ie', 'ia', 'ou', 'io', 'ea', 'ai', 'ui', 'ia', 'au', 'ia', 'ee', 'ei', 'iu', 'io', 'io', 'ua', 'ei', 'ee', 'ea', 'ou', 'ea', 'ou', 'au', 'io', 'ie', 'ee', 'oe', 'ie', 'ee', 'ea', 'ue', 'ee', 'au', 'ie', 'io', 'ea', 'oo', 'ee', 'io', 'ee', 'ie', 'ea', 'io', 'oa', 'io', 'ea', 'ea', 'io', 'ea', 'ou', 'ee', 'ea', 'ue', 'ea', 'au', 'oe', 'ee', 'ie', 'oe', 'ou', 'ou', 'ou', 'ai', 'oa', 'ea', 'oa', 'ui', 'ie', 'io', 'ea', 'ai', 'ee', 'io', 'ee', 'ea', 'oa', 'ou', 'ee', 'ie', 'ai', 'io', 'ai', 'ia', 'ea', 'ea', 'ia', 'ai', 'ou', 'ou', 'ee', 'au', 'au', 'io', 'au', 'ue', 'ee', 'ea', 'ai', 'ia', 'ee', 'ea', 'ie', 'ei', 'ai', 'ou', 'ia', 'ai', 'ou', 'ou', 'ai', 'ou', 'ou', 'ee', 'oo', 'ea', 'ua', 'ea', 'oi', 'ai', 'ou', 'ai', 'ae', 'ie', 'eo', 'ou', 'io', 'ue', 'ou', 'ee', 'ou', 'au', 'ee', 'ea', 'ua', 'ea', 'io', 'ia', 'ai', 'ou', 'ua', 'ei', 'io', 'eo', 'ou', 'ia', 'ee', 'ee', 'ea', 'ea', 'eo', 'ai', 'ea', 'ea', 'ua', 'ai', 'ea', 'ee', 'ua', 'oo', 'ea', 'ee', 'ie', 'ou', 'ea', 'ea', 'oe', 'ee', 'oe', 'ue', 'io', 'ua', 'ea', 'eo', 'ei', 'ea', 'ou', 'ue', 'ou', 'oo', 'ou', 'ou', 'ua', 'ea', 'ia', 'ea', 'io', 'ea', 'oo', 'oa', 'ee', 'iu', 'ua', 'ou', 'ai', 'ea', 'ee', 'ea', 'ea', 'ee', 'ee', 'ea', 'ou', 'oo', 'ua', 'ou', 'ee', 'ou', 'ua', 'ee', 'au', 'ie', 'oi', 'ai', 'io', 'ia', 'oo', 'ia', 'ee', 'ea', 'ie', 'ee', 'ea', 'oo', 'ai', 'ou', 'oi', 'ou', 'ee', 'ea', 'ee', 'ia', 'ue', 'ou', 'ai', 'oo', 'ui', 'eu', 'ui', 'oo', 'ia', 'ui', 'ai', 'io', 'ia', 'io', 'ea', 'ea', 'ia', 'ea', 'ee', 'ea', 'ie', 'io', 'ee', 'ai', 'ea', 'oe', 'ee', 'ou', 'ou', 'io', 'io', 'ou', 'ou', 'au', 'ai', 'ai', 'ou', 'io', 'ai', 'ia', 'ee', 'ei', 'ea', 'ou', 'ue', 'ea', 'ai', 'oo', 'ou', 'ee', 'oo', 'ou', 'ia', 'ee', 'ai', 'io', 'ee', 'ue', 'io', 'ee', 'io', 'ee', 'io', 'io', 'ue', 'io', 'ai', 'oe', 'ai', 'ea', 'ue', 'ea', 'ai', 'io', 'ee', 'ai', 'au', 'io', 'ui', 'ei', 'ae', 'ai', 'ea', 'ai', 'ea', 'ue', 'ou', 'au', 'io', 'ai', 'ia', 'ai', 'io', 'ea', 'ou', 'io', 'io', 'ea', 'ie', 'ei', 'ai', 'ai', 'oi', 'au', 'ai', 'au', 'io', 'io', 'ou', 'ea', 'ai', 'ee', 'ou', 'oi', 'au', 'ia', 'io', 'ie', 'ee', 'ai', 'ou', 'io', 'ee', 'io', 'ie', 'ua', 'io', 'ee', 'ea', 'au', 'io', 'ue', 'io', 'ea', 'au', 'io', 'io', 'ea', 'au', 'io', 'ea', 'ai', 'io', 'ie', 'ue', 'ea', 'ei', 'ea', 'ai', 'ea', 'ai', 'ee', 'ai', 'io', 'ua', 'io', 'io', 'ee', 'ai', 'io', 'ai', 'io', 'ou', 'ai', 'ou', 'ea', 'ea', 'ea', 'ea', 'ea', 'ai', 'ee', 'ea', 'ai', 'ee', 'io', 'io', 'ai', 'io', 'ai', 'ui', 'ea', 'oo', 'io', 'ea', 'oo', 'oo', 'ua', 'ou', 'io', 'ai', 'oo', 'ue', 'oo', 'ea', 'io', 'ai', 'ia', 'oi', 'ue', 'ea', 'ea', 'ui', 'oo', 'oi', 'ia', 'eo', 'ia', 'io', 'ea', 'oo', 'ui', 'ia', 'oi', 'ue', 'ia', 'eo', 'ea', 'ea', 'ei', 'ee', 'io', 'oo', 'ia', 'io', 'io', 'ue', 'ei', 'oo', 'io', 'ou', 'ai', 'io', 'oa', 'io', 'ea', 'ea', 'ai', 'ou', 'ua', 'oi', 'ea', 'ou', 'ie', 'oo', 'ui', 'io', 'io', 'io', 'ea', 'ea', 'ie', 'io', 'io', 'ea', 'ea', 'ie', 'ai', 'ie', 'ea', 'ee', 'ie', 'ou', 'ee', 'ie', 'io', 'au', 'ae', 'ie', 'ui', 'eo', 'ia', 'ou', 'io', 'ea', 'ie', 'eo', 'ia', 'io', 'ou', 'eo', 'ia', 'ai', 'ou', 'eo', 'ia', 'ai', 'ie', 'ie', 'io', 'eo', 'ia', 'ai', 'io', 'ei', 'ie', 'ui', 'io', 'io', 'oo', 'ea', 'eo', 'ia', 'io', 'ei', 'au', 'ea', 'au', 'ea', 'eo', 'ia', 'ia', 'ie', 'ou', 'eo', 'ia', 'ui', 'io', 'eo', 'ia', 'ie', 'ai', 'eo', 'ia', 'au', 'ia', 'io', 'ou', 'io', 'ui', 'ia', 'ou', 'ie', 'ee', 'oo', 'io', 'ou', 'ee', 'ai', 'ou', 'io', 'ui', 'ai', 'ai', 'ou', 'au', 'ee', 'eo', 'ia', 'ia', 'ia', 'io', 'ou', 'ee', 'ou', 'eo', 'ia', 'eo', 'ia', 'eo', 'ia', 'ue', 'ea', 'ou', 'eo', 'ia', 'ai', 'ai', 'ei', 'ou', 'ou', 'io', 'ai', 'eo', 'ia', 'oa', 'io', 'ie', 'ou', 'eo', 'ia', 'ee', 'ea', 'ia', 'ia', 'ou', 'ie', 'io', 'ou', 'ou', 'ou', 'ai', 'io', 'ua', 'eo', 'ia', 'ea', 'io', 'io', 'ou', 'io', 'io', 'ia', 'ui', 'ai', 'ee', 'io', 'ou', 'ui', 'ou', 'ia', 'ai', 'ea', 'ia', 'oo', 'io', 'ui', 'io', 'oo', 'ou', 'ie', 'io', 'ia', 'io', 'ou', 'ou', 'ou', 'ee', 'ee', 'ui', 'io', 'ee', 'ea', 'ou', 'ee', 'ei', 'ie', 'ie', 'ea', 'ie', 'ea', 'io', 'ou', 'ia', 'ou', 'ee', 'ee', 'ei', 'ea', 'ee', 'ee', 'ia', 'io', 'ea', 'ai', 'ai', 'ou', 'ea', 'ou', 'ea', 'ou', 'ee', 'ei', 'ea', 'ou', 'ie', 'ei', 'ou', 'ie', 'io', 'eo', 'ai', 'ai', 'ou', 'ia', 'io', 'ei', 'ou', 'ie', 'ai', 'ui', 'ea', 'ee', 'ia', 'ai', 'ui', 'io', 'ou', 'ea', 'ue', 'ee', 'ie', 'oo', 'oi', 'ui', 'ue', 'io', 'au', 'oi', 'ai', 'ai', 'ue', 'oi', 'ea', 'oa', 'ee', 'ai', 'oi', 'ou', 'ou', 'ee', 'ai', 'ie', 'ee', 'ia', 'ue', 'io', 'io', 'io', 'ue', 'ee', 'io', 'io', 'ee', 'ea', 'ee', 'io', 'ue', 'ie', 'ee', 'ee', 'ia', 'ea', 'ea', 'ie', 'ee', 'ia', 'ai', 'ou', 'oo', 'ea', 'io', 'io', 'oe', 'ea', 'io', 'ia', 'ee', 'ou', 'ui', 'ee', 'ou', 'ee', 'io', 'ea', 'ou', 'ia', 'au', 'ea', 'ia', 'io', 'ie', 'ou', 'ie', 'ea', 'ei', 'ia', 'ie', 'ou', 'ea', 'ee', 'ea', 'ea', 'ia', 'ea', 'ui', 'ie', 'oi', 'ea', 'ui', 'ui', 'ou', 'ea', 'ua', 'ea', 'ea', 'ea', 'io', 'ou', 'io', 'ea', 'ui', 'ie', 'ea', 'ou', 'oa', 'ee', 'ie', 'ea', 'ie', 'ie', 'ea', 'ue', 'ei', 'ia', 'ou', 'ie', 'iu', 'ea', 'io', 'io', 'io', 'ie', 'ee', 'io', 'ou', 'ou', 'ei', 'io', 'ie', 'io', 'ia', 'ai', 'ee', 'ou', 'ui', 'ou', 'io', 'ea', 'uo', 'io', 'ea', 'ee', 'ie', 'ie', 'ea', 'oo', 'ee', 'ie', 'ou', 'ea', 'io', 'ou', 'oi', 'ea', 'ie', 'ui', 'ui', 'ee', 'ou', 'ee', 'io', 'ui', 'ie', 'ui', 'ai', 'ou', 'ei', 'eu', 'io', 'ea', 'ie', 'io', 'oo', 'au', 'ui', 'ou', 'io', 'ea', 'ia', 'ea', 'ua', 'oa', 'ia', 'ea', 'io', 'ie', 'ou', 'ei', 'ia', 'ie', 'ia', 'eo', 'ue', 'ui', 'oo', 'oe', 'ia', 'ee', 'io', 'ui', 'au', 'io', 'ou', 'ie', 'ea', 'ui', 'au', 'ui', 'ia', 'ie', 'ou', 'ia', 'ia', 'ie', 'ea', 'io', 'io', 'ai', 'au', 'ie', 'ea', 'ea', 'ea', 'ou', 'ea', 'ai', 'ue', 'ai', 'ai', 'ea', 'ia', 'ua', 'ea', 'ee', 'ea', 'ee', 'ie', 'ie', 'ai', 'ea', 'ie', 'ei', 'oo', 'au', 'ie', 'ou', 'ei', 'ee', 'io', 'ou', 'ee', 'oo', 'ea', 'oa', 'ua', 'oo', 'oe', 'ea', 'ei', 'ei', 'oa', 'ee', 'io', 'io', 'ea', 'ui', 'ei', 'io', 'ou', 'ea', 'ou', 'oo', 'ea', 'ia', 'io', 'ai', 'ou', 'ee', 'oa', 'ia', 'io', 'au', 'ou', 'ua', 'ee', 'oi', 'oa', 'eo', 'ua', 'ou', 'ei', 'ea', 'ue', 'ea', 'ee', 'ai', 'ei', 'ie', 'ai', 'ai', 'io', 'io', 'eo', 'ea', 'ou', 'ua', 'ei', 'io', 'ie', 'ea', 'ea', 'ou', 'io', 'ea', 'ou', 'ea', 'ie', 'au', 'ou', 'ee', 'ee', 'ea', 'ou', 'ou', 'ea', 'ue', 'ei', 'eo', 'io', 'io', 'io', 'ie', 'oo', 'ou', 'ou', 'ea', 'io', 'ea', 'ei', 'io', 'ou', 'io', 'io', 'oo', 'ea', 'eo', 'ou', 'ea', 'ei', 'io', 'ie', 'ou', 'ea', 'ou', 'ia', 'io', 'ae', 'io', 'ee', 'ou', 'oi', 'ei', 'ei', 'ou', 'au', 'ie', 'ou', 'oa', 'ia', 'ou', 'io', 'ai', 'io', 'io', 'ai', 'io', 'ea', 'ou', 'ou', 'au', 'ia', 'ai', 'ei', 'ee', 'oo', 'ou', 'ia', 'oo', 'ea', 'io', 'io', 'io', 'ou', 'oo', 'ea', 'ou', 'ue', 'ai', 'io', 'ie', 'io', 'ue', 'ai', 'io', 'io', 'ea', 'ou', 'io', 'ou', 'ui', 'ie', 'ou', 'ai', 'ia', 'io', 'ou', 'ia', 'oa', 'ia', 'io', 'ou', 'ou', 'ai', 'oa', 'ia', 'io', 'ee', 'ea', 'ou', 'ee', 'ee', 'oa', 'ou', 'ou', 'ei', 'oo', 'ea', 'ia', 'ea', 'ea', 'oa', 'ou', 'ou', 'io', 'ee', 'oo', 'oo', 'ou', 'ie', 'ie', 'ia', 'ou', 'io', 'ei', 'ee', 'ui', 'ie', 'io', 'ai', 'io', 'ee', 'ou', 'ou', 'io', 'ea', 'ou', 'oo', 'ou', 'ou', 'ou', 'io', 'ou', 'oo', 'ee', 'ee', 'ou', 'io', 'ai', 'io', 'ui', 'ea', 'ai', 'ou', 'ee', 'ee', 'ou', 'ie', 'io', 'ie', 'ai', 'ai', 'oe', 'ei', 'ui', 'ou', 'ou', 'ai', 'ou', 'ou', 'oo', 'oi', 'ui', 'ou', 'oi', 'ia', 'oi', 'ou', 'ai', 'ou', 'ai', 'ui', 'ea', 'ee', 'ie', 'uo', 'ia', 'oi', 'oo', 'oi', 'ui', 'ea', 'ai', 'io', 'ai', 'oi', 'ua', 'ou', 'oi', 'ia', 'ai', 'eo', 'ee', 'ai', 'ai', 'oi', 'ea', 'eo', 'ue', 'oo', 'ui', 'oi', 'ia', 'oi', 'ee', 'ee', 'ai', 'ai', 'oi', 'ui', 'ea', 'io', 'oo', 'ui', 'ai', 'oi', 'ui', 'ea', 'ou', 'oi', 'io', 'oi', 'ai', 'oi', 'ai', 'ou', 'ai', 'ai', 'ou', 'oa', 'ia', 'oi', 'ai', 'ou', 'ou', 'ua', 'ea', 'ou', 'ai', 'ou', 'io', 'ee', 'ou', 'ou', 'ua', 'ue', 'ea', 'ee', 'oo', 'ai', 'ee', 'ai', 'ou', 'ui', 'ea', 'oi', 'oe', 'io', 'ou', 'ai', 'ue', 'ee', 'eo', 'ie', 'oi', 'ou', 'ou', 'ee', 'oo', 'oi', 'ee', 'ai', 'oi', 'ea', 'ee', 'ai', 'ou', 'au', 'io', 'ai', 'ai', 'ou', 'ee', 'ai', 'oi', 'ea', 'ou', 'oa', 'ee', 'ai', 'oa', 'ue', 'ou', 'ai', 'ai', 'ee', 'ou', 'ie', 'ue', 'io', 'ee', 'ee', 'ea', 'ou', 'ee', 'ai', 'ee', 'io', 'ou', 'ai', 'ou', 'io', 'io', 'ee', 'ou', 'ia', 'ia', 'ie', 'ai', 'ie', 'ie', 'ie', 'ou', 'ai', 'io', 'ae', 'oo', 'ou', 'ou', 'ea', 'oe', 'ea', 'oo', 'au', 'ai', 'ae', 'ou', 'ai', 'ea', 'ou', 'ia', 'ou', 'ou', 'ai', 'au', 'ee', 'ou', 'ie', 'ia', 'au', 'ie', 'ai', 'ou', 'ei', 'ei', 'ie', 'ou', 'ia', 'ou', 'ee', 'ea', 'io', 'ea', 'ea', 'au', 'ea', 'ee', 'ie', 'io', 'ei', 'ea', 'ui', 'ei', 'io', 'ou', 'ou', 'ou', 'ea', 'ia', 'io', 'ou', 'ie', 'ea', 'ou', 'ee', 'ou', 'oo', 'ea', 'ee', 'oo', 'ea', 'ea', 'ea', 'ou', 'ei', 'ea', 'ee', 'ou', 'ei', 'ai', 'ea', 'io', 'ei', 'ou', 'ee', 'ou', 'ee', 'ou', 'io', 'ei', 'io', 'io', 'io', 'io', 'ua', 'au', 'oe', 'io', 'ie', 'io', 'ua', 'ei', 'ea', 'ea', 'oe', 'ea', 'ua', 'io', 'ea', 'ea', 'ua', 'ea', 'ea', 'io', 'ou', 'ei', 'ou', 'ou', 'eo', 'ou', 'ea', 'ee', 'au', 'ai', 'io', 'io', 'ee', 'ou', 'ue', 'ou', 'eo', 'ou', 'ia', 'ou', 'ai', 'io', 'ea', 'eo', 'ou', 'oo', 'ou', 'ou', 'io', 'ie', 'ea', 'ai', 'ee', 'ou', 'ai', 'ea', 'ee', 'ou', 'ie', 'ou', 'ou', 'ie', 'ie', 'ou', 'ou', 'ai', 'au', 'ou', 'ou', 'ai', 'io', 'au', 'ei', 'ai', 'ua', 'ui', 'ie', 'ee', 'oo', 'ue', 'ai', 'ea', 'ei', 'io', 'ea', 'ee', 'ie', 'ea', 'ui', 'ee', 'ue', 'ea', 'ea', 'ie', 'ea', 'ai', 'ee', 'ie', 'io', 'ua', 'ee', 'ue', 'ea', 'ie', 'ai', 'ei', 'ou', 'ea', 'oo', 'ea', 'ea', 'ou', 'ea', 'ei', 'io', 'ua', 'ua', 'io', 'oe', 'ai', 'ie', 'ai', 'ei', 'ou', 'ee', 'ia', 'io', 'io', 'io', 'ee', 'ou', 'ea', 'ei', 'ea', 'oo', 'oa', 'ea', 'io', 'ea', 'io', 'ou', 'oo', 'ee', 'ee', 'eo', 'ie', 'ea', 'ou', 'ee', 'ou', 'ai', 'ui', 'ea', 'ai', 'ei', 'io', 'ie', 'ai', 'ie', 'ee', 'ie', 'ou', 'ou', 'ai', 'ou', 'ie', 'ee', 'ue', 'oe', 'ee', 'io', 'ie', 'ie', 'oo', 'ee', 'ie', 'ea', 'ou', 'ea', 'ea', 'ea', 'ou', 'ee', 'ea', 'ea', 'au', 'io', 'io', 'ea', 'ia', 'ou', 'ei', 'oo', 'ai', 'ea', 'ie', 'ei', 'ai', 'ee', 'ie', 'ie', 'ou', 'ea', 'ea', 'ea', 'ai', 'ea', 'ea', 'ee', 'ai', 'ai', 'oe', 'ea', 'ia', 'ou', 'ei', 'ea', 'ea', 'ue', 'io', 'ua', 'io', 'oo', 'ie', 'ei', 'ie', 'ai', 'ea', 'ai', 'ou', 'ai', 'ea', 'ai', 'ea', 'ea', 'ie', 'oe', 'ea', 'ea', 'ou', 'ea', 'io', 'oo', 'ou', 'ue', 'ou', 'ia', 'io', 'ea', 'oe', 'ea', 'oe', 'ea', 'ou', 'oo', 'ai', 'io', 'ea', 'ea', 'ou', 'oo', 'ou', 'io', 'io', 'io', 'au', 'oi', 'io', 'ou', 'ea', 'ai', 'ia', 'io', 'ee', 'ui', 'ia', 'ue', 'ai', 'ee', 'io', 'ea', 'io', 'io', 'ui', 'ee', 'ou', 'ai', 'ui', 'io', 'ai', 'ua', 'ai', 'ea', 'ai', 'ou', 'ea', 'ua', 'ie', 'ia', 'ea', 'ua', 'ou', 'eo', 'ie', 'ai', 'au', 'ia', 'ou', 'ai', 'oe', 'ee', 'ui', 'ea', 'ou', 'ou', 'ai', 'ai', 'ai', 'io', 'ai', 'ie', 'ai', 'ai', 'io', 'io', 'ee', 'ei', 'ea', 'ea', 'ea', 'ai', 'io', 'ei', 'oo', 'io', 'io', 'ou', 'oo', 'ai', 'ai', 'ia', 'ai', 'ie', 'ei', 'ea', 'ea', 'io', 'ie', 'ou', 'ie', 'ia', 'io', 'io', 'ue', 'oa', 'ou', 'ie', 'ea', 'ea', 'au', 'ou', 'ie', 'ie', 'ie', 'ou', 'io', 'ea', 'ua', 'io', 'ea', 'io', 'ee', 'ue', 'ea', 'ia', 'ea', 'oo', 'ee', 'oi', 'ou', 'io', 'io', 'ei', 'ea', 'ee', 'oo', 'io', 'io', 'ea', 'io', 'ia', 'ea', 'oa', 'ai', 'io', 'ea', 'io', 'ee', 'ee', 'ia', 'oo', 'ei', 'ie', 'io', 'io', 'ou', 'ie', 'io', 'io', 'ee', 'ea', 'ia', 'io', 'io', 'ie', 'ee', 'ou', 'ai', 'ea', 'ai', 'ia', 'ue', 'ou', 'ia', 'ie', 'ue', 'io', 'io', 'ou', 'ea', 'ei', 'io', 'io', 'ou', 'ea', 'ea', 'oi', 'eo', 'ea', 'oo', 'ou', 'ie', 'ue', 'ea', 'ai', 'io', 'ee', 'ie', 'ai', 'ou', 'ou', 'ua', 'ou', 'ua', 'ua', 'ou', 'ei', 'ea', 'ua', 'ai', 'ei', 'ai', 'ai', 'ea', 'eo', 'ie', 'ue', 'ei', 'ee', 'ua', 'oi', 'ei', 'au', 'ou', 'oa', 'ou', 'ia', 'ie', 'ua', 'ia', 'ie', 'ia', 'io', 'eo', 'ai', 'ee', 'ia', 'ie', 'ou', 'ee', 'au', 'ei', 'au', 'ee', 'ie', 'ou', 'eo', 'au', 'ou', 'eo', 'ee', 'oo', 'ie', 'ei', 'oo', 'io', 'oo', 'io', 'io', 'ie', 'ea', 'ou', 'ee', 'io', 'ei', 'ou', 'ea', 'ea', 'eo', 'io', 'ie', 'io', 'ei', 'ou', 'ea', 'ee', 'ua', 'io', 'ai', 'ie', 'ia', 'io', 'io', 'io', 'ou', 'ou', 'ou', 'ua', 'ou', 'ie', 'ea', 'ua', 'ia', 'ei', 'io', 'io', 'ua', 'ie', 'ou', 'ee', 'ua', 'io', 'ie', 'ia', 'oi', 'ie', 'ua', 'io', 'eo', 'ua', 'ou', 'io', 'ia', 'io', 'ie', 'ea', 'io', 'ou', 'ie', 'ua', 'io', 'io', 'ee', 'ie', 'ou', 'ia', 'ou', 'oi', 'io', 'io', 'ui', 'ie', 'ia', 'io', 'ei', 'ie', 'ou', 'ea', 'io', 'ei', 'ia', 'ia', 'oi', 'ia', 'io', 'ia', 'ai', 'ou', 'ea', 'ie', 'au', 'io', 'oi', 'io', 'ie', 'ai', 'ai', 'ou', 'ea', 'ie', 'eo', 'oi', 'io', 'ei', 'oi', 'io', 'io', 'io', 'ia', 'ou', 'ea', 'ie', 'ou', 'ei', 'oi', 'ou', 'oi', 'io', 'io', 'ee', 'ee', 'ea', 'ie', 'ea', 'ea', 'ei', 'ee', 'io', 'ou', 'oi', 'ai', 'ai', 'oo', 'io', 'io', 'io', 'ea', 'ie', 'ee', 'ee', 'ia', 'ou', 'oi', 'ai', 'io', 'ea', 'ai', 'ai', 'io', 'ai', 'ia', 'ua', 'io', 'ue', 'ai', 'ie', 'eo', 'ia', 'eo', 'oi', 'ie', 'ai', 'io', 'io', 'ie', 'ie', 'ai', 'io', 'ee', 'ea', 'ea', 'ou', 'oi', 'ai', 'ue', 'io', 'io', 'ai', 'ea', 'ua', 'ia', 'io', 'eo', 'ou', 'ea', 'ee', 'ie', 'ei', 'io', 'ia', 'ei', 'io', 'ou', 'io', 'ae', 'oo', 'io', 'ia', 'ea', 'io', 'ia', 'ie', 'io', 'ae', 'ea', 'io', 'ai', 'ou', 'ai', 'ou', 'io', 'ie', 'io', 'oo', 'ia', 'ou', 'ae', 'ou', 'aa', 'aa', 'io', 'ee', 'ou', 'ia', 'oo', 'ou', 'ei', 'ai', 'ie', 'io', 'ai', 'ia', 'ea', 'ea', 'io', 'ia', 'ei', 'ie', 'ua', 'ou', 'ai', 'ai', 'au', 'ea', 'ea', 'ie', 'ee', 'ei', 'ie', 'ai', 'ia', 'ai', 'oi', 'ou', 'oi', 'ae', 'io', 'ei', 'io', 'ei', 'io', 'ou', 'io', 'ea', 'ee', 'io', 'ee', 'io', 'ou', 'ee', 'io', 'io', 'ia', 'io', 'io', 'ea', 'io', 'ou', 'ea', 'io', 'ea', 'io', 'ie', 'ie', 'ai', 'ie', 'ai', 'oo', 'ai', 'ei', 'oo', 'ia', 'ia', 'ou', 'au', 'ei', 'ie', 'oa', 'ei', 'ou', 'io', 'ia', 'ai', 'au', 'ou', 'ie', 'ee', 'oi', 'ie', 'ee', 'ou', 'oo', 'ei', 'oa', 'ea', 'io', 'ee', 'ee', 'ai', 'io', 'ea', 'io', 'ea', 'ou', 'ei', 'ou', 'ou', 'ou', 'ou', 'io', 'au', 'ou', 'ia', 'ea', 'ie', 'ou', 'ou', 'ou', 'ea', 'ei', 'ea', 'ei', 'ou', 'ee', 'oi', 'ie', 'oi', 'ei', 'ou', 'au', 'ea', 'ea', 'oo', 'ei', 'ei', 'ie', 'io', 'ie', 'ee', 'au', 'ai', 'ea', 'ee', 'ou', 'ui', 'ou', 'oe', 'ia', 'ai', 'au', 'ea', 'ui', 'io', 'ai', 'io', 'ou', 'ei', 'io', 'io', 'io', 'oa', 'io', 'io', 'au', 'ie', 'oo', 'ee', 'ia', 'ee', 'ai', 'ie', 'ie', 'ou', 'io', 'io', 'io', 'ai', 'ai', 'ia', 'io', 'io', 'io', 'ia', 'ai', 'io', 'ea', 'au', 'ea', 'ai', 'ea', 'ea', 'ie', 'ea', 'io', 'ui', 'ia', 'ai', 'ou', 'ou', 'oo', 'ea', 'ea', 'ai', 'ia', 'ea', 'oo', 'ai', 'ou', 'ou', 'oo', 'oo', 'ue', 'ea', 'ou', 'io', 'ee', 'ue', 'ea', 'io', 'ou', 'io', 'ou', 'ea', 'ou', 'ea', 'ai', 'ou', 'ea', 'ou', 'ea', 'ui', 'ou', 'ia', 'ai', 'ou', 'oo', 'au', 'oi', 'io', 'ee', 'ou', 'ia', 'ai', 'ou', 'ea', 'ai', 'ou', 'ou', 'ai', 'io', 'ou', 'ea', 'ai', 'ea', 'ou', 'ai', 'ou', 'ea', 'ou', 'io', 'ou', 'ea', 'io', 'ai', 'ou', 'ou', 'ou', 'io', 'ie', 'ie', 'ai', 'ou', 'ai', 'ea', 'ou', 'io', 'ai', 'ou', 'ai', 'oo', 'ea', 'ai', 'oo', 'ee', 'io', 'ia', 'ei', 'io', 'io', 'io', 'io', 'ai', 'ie', 'io', 'io', 'ui', 'io', 'ea', 'ui', 'io', 'eo', 'ue', 'io', 'oo', 'ea', 'ai', 'ie', 'eo', 'ia', 'ea', 'io', 'ea', 'oo', 'oo', 'ou', 'ea', 'io', 'ea', 'ie', 'ui', 'io', 'ia', 'oo', 'ia', 'ie', 'ou', 'ue', 'io', 'io', 'eo', 'ie', 'ou', 'iu', 'oo', 'ee', 'oi', 'ia', 'io', 'ou', 'ou', 'eo', 'ia', 'ia', 'ie', 'oo', 'io', 'oo', 'eo', 'ia', 'ee', 'ea', 'ou', 'ea', 'ia', 'oa', 'ia', 'ie', 'ia', 'ea', 'oo', 'ui', 'eo', 'ia', 'ie', 'ai', 'oi', 'eo', 'ia', 'ie', 'ou', 'io', 'ou', 'ea', 'au', 'ea', 'ou', 'oo', 'ua', 'ea', 'ea', 'ea', 'ee', 'ie', 'ee', 'ou', 'eo', 'ia', 'ie', 'io', 'ui', 'oi', 'oo', 'ui', 'ui', 'ai', 'ia', 'io', 'ea', 'ui', 'io', 'ai', 'eo', 'ia', 'io', 'ea', 'io', 'oo', 'ei', 'ui', 'io', 'oa', 'io', 'io', 'ai', 'ie', 'ie', 'oo', 'ou', 'io', 'ou', 'oo', 'ea', 'ie', 'ua', 'ou', 'io', 'ea', 'ui', 'io', 'ou', 'io', 'io', 'ai', 'ie', 'ea', 'io', 'oa', 'ua', 'ee', 'io', 'ia', 'io', 'oa', 'ua', 'ee', 'oa', 'ua', 'ee', 'ea', 'ea', 'io', 'ea', 'io', 'ou', 'io', 'io', 'ia', 'ou', 'io', 'ee', 'ai', 'ei', 'ai', 'ea', 'ea', 'ou', 'ea', 'io', 'au', 'io', 'ia', 'io', 'ai', 'io', 'ou', 'ia', 'io', 'ee', 'ee', 'ui', 'ea', 'io', 'ou', 'oa', 'ua', 'ee', 'ie', 'ou', 'ea', 'ai', 'io', 'io', 'io', 'io', 'ie', 'ea', 'ou', 'io', 'io', 'ei', 'io', 'ia', 'io', 'ea', 'ea', 'io', 'io', 'ie', 'ia', 'ee', 'ie', 'ia', 'io', 'ia', 'ai', 'eu', 'ui', 'io', 'uo', 'au', 'ie', 'ou', 'ou', 'ei', 'uo', 'io', 'ou', 'ua', 'ea', 'ee', 'ea', 'ai', 'au', 'ou', 'ou', 'ia', 'ea', 'io', 'ou', 'ia', 'ea', 'ua', 'uo', 'ea', 'ou', 'ie', 'ea', 'ai', 'ia', 'io', 'ia', 'oa', 'ou', 'ie', 'ea', 'ia', 'ai', 'ie', 'ou', 'ai', 'ea', 'ie', 'io', 'ia', 'ea', 'ue', 'io', 'ou', 'ie', 'ai', 'oo', 'io', 'ou', 'ai', 'io', 'ui', 'io', 'ia', 'io', 'io', 'io', 'oe', 'ie', 'ua', 'ai', 'ea', 'ea', 'ou', 'ee', 'ou', 'ou', 'ea', 'io', 'ue', 'ei', 'io', 'ee', 'ia', 'ou', 'ea', 'ea', 'io', 'ee', 'ai', 'ee', 'ia', 'ai', 'ou', 'ou', 'eo', 'ea', 'ea', 'ai', 'ai', 'ie', 'ia', 'ai', 'ou', 'oo', 'ai', 'ei', 'ee', 'oo', 'ea', 'ie', 'oo', 'io', 'ai', 'io', 'ia', 'ea', 'ai', 'ee', 'ee', 'ee', 'ai', 'ou', 'ie', 'ee', 'oa', 'ie', 'ea', 'ie', 'ai', 'ie', 'ea', 'oa', 'io', 'oo', 'ou', 'oo', 'ee', 'oo', 'ie', 'ou', 'ai', 'ua', 'ee', 'ai', 'ie', 'ie', 'oo', 'ou', 'ie', 'ie', 'oo', 'ea', 'oo', 'oi', 'ou', 'ie', 'io', 'ei', 'ie', 'ie', 'ai', 'ui', 'ue', 'ea', 'ea', 'ie', 'ea', 'ie', 'ou', 'ee', 'ou', 'ie', 'ie', 'ea', 'ou', 'ie', 'ie', 'ou', 'ei', 'ou', 'ou', 'ee', 'oo', 'ou', 'ie', 'ee', 'ai', 'io', 'ai', 'oo', 'ea', 'ou', 'ai', 'ou', 'ou', 'ea', 'ai', 'ee', 'io', 'ai', 'ui', 'ou', 'ea', 'ai', 'oi', 'ou', 'ia', 'ea', 'ou', 'ai', 'ae', 'ea', 'ie', 'ea', 'ia', 'ou', 'ai', 'iu', 'oo', 'ou', 'ou', 'ui', 'ea', 'ie', 'ou', 'ea', 'io', 'io', 'ia', 'io', 'io', 'io', 'io', 'ea', 'io', 'io', 'io', 'io', 'ai', 'ee', 'ie', 'ea', 'io', 'io', 'ee', 'ui', 'io', 'ai', 'io', 'io', 'ui', 'io', 'ai', 'ie', 'io', 'ea', 'ai', 'ai', 'ee', 'ai', 'ee', 'ee', 'ie', 'ea', 'ea', 'ea', 'ai', 'ou', 'ea', 'ie', 'ie', 'ea', 'ai', 'io', 'ou', 'ai', 'ou', 'ai', 'ie', 'ai', 'ea', 'ie', 'ee', 'ie', 'ai', 'ei', 'ei', 'io', 'ua', 'io', 'ai', 'io', 'ea', 'ou', 'ee', 'ai', 'ee', 'oo', 'ai', 'ai', 'ai', 'ie', 'io', 'io', 'ou', 'ie', 'ou', 'ee', 'ea', 'oo', 'ea', 'ou', 'ua', 'ea', 'ai', 'io', 'ia', 'io', 'ie', 'io', 'ea', 'ie', 'io', 'io', 'io', 'io', 'ea', 'ia', 'ue', 'io', 'ie', 'ou', 'ou', 'ou', 'ou', 'ia', 'ea', 'ou', 'ea', 'ue', 'ue', 'ou', 'ia', 'io', 'ou', 'ie', 'au', 'ou', 'eo', 'io', 'ea', 'eo', 'au', 'oo', 'oo', 'ua', 'uo', 'ou', 'ea', 'ou', 'ou', 'eo', 'io', 'ei', 'ia', 'io', 'ea', 'io', 'io', 'ea', 'au', 'eo', 'ie', 'io', 'ea', 'ea', 'oi', 'ou', 'ai', 'ea', 'ue', 'ea', 'ua', 'io', 'ee', 'ea', 'ee', 'io', 'au', 'oo', 'ui', 'ou', 'ea', 'ia', 'ea', 'ia', 'oo', 'ue', 'ea', 'ea', 'io', 'io', 'eo', 'ou', 'ia', 'ia', 'io', 'ea', 'io', 'ea', 'ia', 'io', 'ea', 'ea', 'ei', 'oo', 'ou', 'io', 'uo', 'ou', 'ou', 'ee', 'ea', 'ei', 'ou', 'ee', 'ee', 'ee', 'io', 'ou', 'ou', 'ea', 'ou', 'ia', 'ea', 'ou', 'ou', 'ai', 'io', 'io', 'ou', 'ou', 'ee', 'oo', 'ou', 'ie', 'io', 'ou', 'ea', 'ee', 'ou', 'ee', 'ea', 'ea', 'ou', 'ou', 'ee', 'ue', 'au', 'ou', 'ea', 'ie', 'io', 'ou', 'ou', 'ou', 'io', 'ia', 'io', 'ui', 'io', 'io', 'ie', 'ua', 'ou', 'oo', 'ee', 'ee', 'ou', 'ou', 'io', 'ie', 'io', 'ia', 'io', 'ou', 'ou', 'oo', 'eo', 'ou', 'ou', 'ee', 'ei', 'ie', 'ou', 'ou', 'ei', 'ia', 'ie', 'ie', 'io', 'ou', 'ea', 'ee', 'ai', 'ai', 'io', 'io', 'ia', 'io', 'io', 'ou', 'ua', 'ua', 'ai', 'ai', 'io', 'ee', 'io', 'io', 'io', 'ai', 'ou', 'ee', 'ou', 'ue', 'ou', 'io', 'ea', 'ie', 'io', 'ai', 'ou', 'ou', 'ea', 'ou', 'io', 'ea', 'au', 'ie', 'io', 'ai', 'ia', 'oa', 'ue', 'io', 'ue', 'ee', 'io', 'ou', 'ai', 'ou', 'ea', 'oo', 'ou', 'io', 'ou', 'ui', 'io', 'ai', 'ai', 'io', 'ie', 'io', 'ou', 'ai', 'ui', 'io', 'ou', 'oa', 'ie', 'ou', 'ie', 'au', 'ai', 'ou', 'io', 'ee', 'ou', 'io', 'ie', 'ai', 'ou', 'ui', 'ou', 'ui', 'io', 'ia', 'ea', 'ie', 'ou', 'ai', 'ou', 'ou', 'ei', 'io', 'ou', 'ai', 'ou', 'io', 'ou', 'io', 'io', 'ia', 'ui', 'ui', 'io', 'ai', 'io', 'ie', 'ee', 'ei', 'io', 'ai', 'ou', 'io', 'ai', 'io', 'ia', 'ia', 'ue', 'ou', 'ou', 'ui', 'io', 'ai', 'ui', 'io', 'ee', 'ie', 'ai', 'io', 'io', 'io', 'ai', 'ai', 'ai', 'ou', 'oi', 'ea', 'oi', 'oa', 'io', 'eo', 'ou', 'ea', 'ee', 'ou', 'oi', 'oo', 'ou', 'ou', 'ou', 'ou', 'ea', 'ou', 'ou', 'ea', 'oa', 'ou', 'ee', 'ou', 'ou', 'ou', 'ou', 'oi', 'oo', 'ou', 'eo', 'eo', 'oi', 'ou', 'eo', 'ou', 'ea', 'eo', 'ea', 'ee', 'ie', 'ou', 'ie', 'io', 'io', 'ie', 'oi', 'ea', 'ou', 'ea', 'ea', 'ie', 'oi', 'ou', 'ue', 'io', 'ie', 'io', 'oi', 'ia', 'ia', 'io', 'ei', 'ou', 'ue', 'ou', 'oo', 'ie', 'oi', 'oa', 'ie', 'ua', 'io', 'ou', 'oe', 'io', 'ai', 'ou', 'io', 'ia', 'ea', 'ea', 'ia', 'ea', 'ua', 'ou', 'io', 'ai', 'ou', 'ea', 'ei', 'ua', 'oi', 'ia', 'ai', 'io', 'ia', 'ou', 'ee', 'ia', 'ou', 'ea', 'io', 'ue', 'ou', 'ee', 'ou', 'oi', 'ea', 'ee', 'ui', 'oi', 'io', 'oi', 'io', 'ee', 'oi', 'ai', 'io', 'ou', 'ou', 'ou', 'io', 'ia', 'ia', 'oi', 'ai', 'oi', 'ou', 'ee', 'oo', 'ou', 'io', 'ia', 'ou', 'ai', 'io', 'ai', 'io', 'ou', 'ie', 'ia', 'ea', 'io', 'ia', 'io', 'ia', 'io', 'au', 'ia', 'ea', 'ue', 'ee', 'ia', 'ai', 'ou', 'ia', 'ui', 'ia', 'io', 'ou', 'ui', 'oi', 'ia', 'ee', 'ie', 'ou', 'ei', 'io', 'ui', 'io', 'io', 'ou', 'ee', 'ee', 'ee', 'ie', 'oe', 'ea', 'io', 'ua', 'io', 'ou', 'ea', 'oi', 'ou', 'ee', 'oi', 'ou', 'io', 'io', 'ou', 'ei', 'ia', 'io', 'ou', 'ou', 'oe', 'ee', 'ee', 'ie', 'ou', 'ea', 'io', 'ia', 'ou', 'oi', 'ee', 'ee', 'io', 'io', 'io', 'io', 'oi', 'ia', 'ai', 'ai', 'io', 'io', 'eo', 'oi', 'ou', 'ou', 'io', 'ea', 'ou', 'ia', 'ue', 'ou', 'ai', 'ue', 'io', 'ou', 'oe', 'ou', 'oa', 'ue', 'io', 'ou', 'ea', 'ee', 'oo', 'ou', 'ai', 'ou', 'ou', 'ie', 'ie', 'ou', 'oo', 'au', 'ea', 'ie', 'ia', 'ea', 'ie', 'oa', 'ea', 'ee', 'ea', 'ou', 'oo', 'io', 'ie', 'ee', 'ea', 'io', 'ea', 'ea', 'ai', 'oo', 'ia', 'ee', 'ie', 'ou', 'ee', 'ea', 'eo', 'io', 'io', 'ea', 'ea', 'ea', 'oo', 'ai', 'ea', 'oo', 'ou', 'ou', 'ia', 'ui', 'io', 'ee', 'io', 'io', 'ui', 'ei', 'au', 'io', 'ie', 'au', 'ea', 'ai', 'oo', 'ee', 'io', 'ie', 'oi', 'ea', 'io', 'oi', 'ie', 'ai', 'ou', 'ie', 'ee', 'oa', 'oo', 'io', 'oo', 'ie', 'oa', 'ei', 'ou', 'ie', 'ei', 'ui', 'oo', 'io', 'ai', 'ea', 'ou', 'ea', 'ou', 'ai', 'ea', 'eo', 'io', 'ee', 'oi', 'ia', 'oa', 'ie', 'ia', 'ai', 'ai', 'uo', 'io', 'ea', 'ea', 'eo', 'ia', 'oa', 'ee', 'ee', 'ai', 'ai', 'ea', 'ea', 'io', 'ai', 'io', 'ua', 'ee', 'ei', 'ou', 'io', 'io', 'ua', 'io', 'ai', 'ea', 'io', 'io', 'ea', 'io', 'io', 'ai', 'au', 'ai', 'ea', 'ou', 'ai', 'au', 'ou', 'au', 'oa', 'ei', 'oo', 'ea', 'ou', 'ea', 'ai', 'oa', 'ou', 'uo', 'ea', 'ea', 'ie', 'au', 'ai', 'oo', 'ou', 'oo', 'oo', 'au', 'io', 'ee', 'ea', 'ea', 'au', 'ai', 'ie', 'ea', 'ua', 'oo', 'ee', 'ou', 'io', 'ou', 'ai', 'au', 'ei', 'ua', 'ui', 'ua', 'io', 'oa', 'ia', 'ea', 'ia', 'ou', 'io', 'ou', 'oa', 'io', 'oa', 'ou', 'ea', 'io', 'ee', 'ea', 'ai', 'ue', 'ia', 'ua', 'ou', 'io', 'ee', 'ia', 'ee', 'ou', 'ee', 'ea', 'uo', 'io', 'ai', 'io', 'io', 'au', 'io', 'ou', 'ue', 'io', 'ee', 'ee', 'ie', 'ie', 'ea', 'io', 'ea', 'ou', 'ie', 'ae', 'ie', 'ea', 'io', 'ea', 'ou', 'ua', 'ei', 'ai', 'ou', 'ou', 'io', 'ou', 'ea', 'ue', 'io', 'ei', 'ou', 'io', 'ou', 'ea', 'ou', 'ie', 'ei', 'ai', 'ou', 'io', 'ou', 'io', 'ea', 'ee', 'ou', 'ou', 'ei', 'ai', 'oo', 'ou', 'ea', 'ei', 'ou', 'ou', 'ai', 'ua', 'ea', 'io', 'io', 'ei', 'ao', 'ui', 'ia', 'ai', 'ou', 'oi', 'oo', 'eo', 'ee', 'ia', 'ie', 'ou', 'oo', 'ui', 'io', 'ea', 'ee', 'ea', 'ou', 'ui', 'ea', 'ai', 'oi', 'ou', 'oe', 'ea', 'ei', 'ee', 'ee', 'ou', 'ou', 'io', 'io', 'ea', 'ou', 'ou', 'io', 'ee', 'ea', 'ui', 'ou', 'io', 'ou', 'ou', 'ou', 'ou', 'io', 'ie', 'ou', 'ou', 'ui', 'ea', 'oo', 'ou', 'io', 'oo', 'io', 'au', 'ie', 'ia', 'ia', 'ei', 'ea', 'ue', 'ea', 'ea', 'io', 'ou', 'ai', 'ai', 'ai', 'ou', 'ou', 'ou', 'ia', 'io', 'ou', 'ua', 'ai', 'ie', 'ie', 'io', 'ie', 'io', 'io', 'io', 'ia', 'io', 'au', 'eo', 'io', 'ia', 'io', 'au', 'ea', 'ue', 'ia', 'io', 'ai', 'io', 'au', 'ei', 'io', 'ou', 'io', 'ia', 'io', 'oa', 'ue', 'ou', 'io', 'io', 'ia', 'io', 'au', 'io', 'io', 'ei', 'ou', 'eo', 'ie', 'io', 'ee', 'ou', 'io', 'io', 'oo', 'io', 'ou', 'ia', 'io', 'au', 'io', 'ou', 'ea', 'ea', 'ia', 'io', 'ai', 'ea', 'io', 'ee', 'ai', 'ei', 'io', 'io', 'io', 'oi', 'ia', 'io', 'io', 'ai', 'oi', 'oi', 'oi', 'ou', 'ie', 'io', 'ei', 'io', 'io', 'ia', 'io', 'ia', 'io', 'ea', 'ai', 'ai', 'io', 'ee', 'io', 'ai', 'ie', 'ia', 'io', 'ea', 'oi', 'io', 'io', 'io', 'oo', 'ua', 'ia', 'io', 'ie', 'io', 'io', 'ee', 'ei', 'ie', 'ou', 'oi', 'io', 'oo', 'eo', 'ou', 'au', 'ie', 'ia', 'io', 'ai', 'io', 'io', 'io', 'au', 'io', 'io', 'oo', 'ai', 'io', 'io', 'io', 'ui', 'io', 'io', 'io', 'ee', 'ia', 'ui', 'ai', 'ie', 'io', 'io', 'ia', 'io', 'ou', 'ei', 'io', 'io', 'ai', 'ia', 'io', 'io', 'ai', 'ua', 'io', 'io', 'ee', 'ua', 'io', 'io', 'ou', 'io', 'ou', 'io', 'ou', 'ai', 'ou', 'ou', 'ui', 'ei', 'io', 'io', 'ou', 'io', 'oe', 'io', 'ou', 'ia', 'io', 'ai', 'io', 'io', 'ie', 'ai', 'ea', 'ai', 'io', 'ui', 'io', 'ea', 'ea', 'ea', 'ai', 'ou', 'ia', 'io', 'ea', 'ie', 'ou', 'ie', 'au', 'ou', 'ea', 'ou', 'ia', 'io', 'io', 'io', 'io', 'oe', 'oe', 'io', 'io', 'ue', 'io', 'ea', 'io', 'ia', 'io', 'ie', 'ou', 'io', 'io', 'io', 'au', 'io', 'io', 'io', 'ia', 'io', 'ou', 'ou', 'ue', 'io', 'io', 'io', 'io', 'io', 'io', 'io', 'io', 'io', 'io', 'ia', 'io', 'oe', 'ou', 'ue', 'ei', 'io', 'ou', 'io', 'ie', 'ou', 'ou', 'ou', 'oi', 'ea', 'io', 'ou', 'eo', 'ou', 'ei', 'ua', 'io', 'ea', 'io', 'ou', 'io', 'io', 'ia', 'io', 'ou', 'ai', 'oe', 'ea', 'ea', 'uo', 'ea', 'io', 'ia', 'io', 'au', 'ea', 'ou', 'ea', 'ou', 'io', 'ea', 'io', 'io', 'ou', 'ea', 'ou', 'ie', 'ea', 'ea', 'ai', 'ea', 'ai', 'ua', 'ie', 'ai', 'oa', 'oa', 'ai', 'ie', 'ai', 'ea', 'ea', 'io', 'ea', 'ia', 'oi', 'ea', 'io', 'ea', 'ou', 'io', 'ea', 'ai', 'ie', 'ea', 'ee', 'ea', 'ea', 'ea', 'ie', 'ea', 'ai', 'io', 'ea', 'ie', 'ai', 'ei', 'io', 'ea', 'ai', 'ia', 'io', 'io', 'ea', 'io', 'io', 'io', 'io', 'ie', 'ou', 'ia', 'ei', 'oo', 'ea', 'ee', 'ea', 'ea', 'io', 'ou', 'oo', 'io', 'ea', 'ie', 'au', 'ee', 'io', 'ea', 'ai', 'ie', 'ea', 'io', 'io', 'ee', 'io', 'io', 'ea', 'ea', 'io', 'ea', 'io', 'io', 'oo', 'io', 'ee', 'ou', 'ea', 'io', 'io', 'io', 'io', 'ou', 'ou', 'ie', 'ai', 'ea', 'ie', 'ea', 'ai', 'ie', 'ea', 'io', 'io', 'io', 'ai', 'ou', 'io', 'ea', 'ai', 'ea', 'ua', 'ou', 'ie', 'ia', 'ea', 'oo', 'ee', 'oo', 'ou', 'ea', 'ee', 'ee', 'ee', 'ou', 'ea', 'io', 'ai', 'ie', 'ee', 'ia', 'ee', 'ee', 'ea', 'ea', 'ue', 'ie', 'ai', 'ea', 'io', 'oi', 'ea', 'oi', 'ea', 'ea', 'au', 'ia', 'ui', 'ea', 'eo', 'ia', 'ea', 'ai', 'ui', 'ai', 'oe', 'io', 'ai', 'ia', 'ai', 'ua', 'io', 'io', 'ai', 'oo', 'ea', 'ou', 'ea', 'io', 'ia', 'ia', 'ea', 'ia', 'ia', 'ou', 'ea', 'ee', 'ou', 'ea', 'ou', 'ia', 'ea', 'ea', 'oo', 'oo', 'ou', 'ou', 'ee', 'ou', 'ea', 'ai', 'ou', 'ee', 'ee', 'ei', 'io', 'ai', 'ou', 'ou', 'ou', 'ee', 'ui', 'ea', 'io', 'oo', 'io', 'ee', 'eo', 'ai', 'ea', 'oi', 'ai', 'ea', 'ee', 'ai', 'ea', 'ou', 'ou', 'io', 'ea', 'ea', 'ua', 'ai', 'oe', 'ia', 'oa', 'ai', 'io', 'ia', 'ua', 'ue', 'io', 'io', 'io', 'io', 'ai', 'ai', 'io', 'io', 'ia', 'io', 'ai', 'ee', 'oi', 'au', 'ou', 'ea', 'io', 'ai', 'ee', 'io', 'io', 'ou', 'ea', 'ui', 'ea', 'ou', 'ea', 'ue', 'ui', 'io', 'oi', 'io', 'ai', 'oo', 'ui', 'ou', 'oa', 'ie', 'ou', 'io', 'ui', 'ei', 'ee', 'ai', 'ou', 'io', 'ei', 'ou', 'ui', 'oa', 'ou', 'oi', 'io', 'au', 'oo', 'oo', 'io', 'ui', 'ee', 'ee', 'ea', 'io', 'io', 'ou', 'ea', 'ea', 'ea', 'ie', 'ou', 'ea', 'ui', 'io', 'oa', 'ai', 'io', 'ee', 'ai', 'ai', 'ie', 'io', 'ui', 'au', 'ee', 'ee', 'ie', 'ai', 'ie', 'ea', 'au', 'ea', 'ei', 'ea', 'ie', 'ou', 'ou', 'ei', 'au', 'ui', 'au', 'ee', 'ui', 'oe', 'ie', 'ui', 'ai', 'oi', 'ou', 'ai', 'io', 'ui', 'ai', 'ou', 'io', 'ou', 'ui', 'ou', 'io', 'ee', 'ee', 'ea', 'ou', 'ui', 'io', 'io', 'ea', 'io', 'eo', 'oi', 'ea', 'oa', 'io', 'ia', 'io', 'ea', 'oe', 'ie', 'ui', 'ee', 'io', 'ui', 'io', 'io', 'ie', 'io', 'io', 'io', 'io', 'ou', 'io', 'ea', 'io', 'ia', 'ea', 'ea', 'oo', 'io', 'io', 'ee', 'ie', 'io', 'oo', 'eo', 'eo', 'ei', 'ee', 'ui', 'ai', 'io', 'ui', 'ui', 'io', 'ea', 'ou', 'ie', 'io', 'ie', 'ee', 'io', 'ui', 'ai', 'ou', 'ie', 'io', 'io', 'ea', 'ee', 'ou', 'ou', 'ia', 'ou', 'ea', 'io', 'ou', 'ea', 'io', 'io', 'io', 'ou', 'ou', 'io', 'ie', 'ea', 'oi', 'io', 'ia', 'ou', 'oi', 'ou', 'ea', 'ue', 'io', 'io', 'io', 'ou', 'ou', 'ea', 'oi', 'ou', 'ea', 'ie', 'ai', 'ea', 'io', 'oa', 'io', 'ie', 'ee', 'oa', 'ou', 'ie', 'ou', 'ea', 'ea', 'ue', 'au', 'ue', 'ou', 'io', 'au', 'ie', 'ou', 'au', 'io', 'io', 'ou', 'ou', 'au', 'io', 'ou', 'io', 'ou', 'io', 'ou', 'ou', 'io', 'ua', 'ai', 'ea', 'ou', 'ee', 'io', 'ea', 'ia', 'io', 'io', 'au', 'ue', 'ea', 'ou', 'ee', 'ou', 'ai', 'ou', 'ee', 'au', 'ie', 'ou', 'ia', 'io', 'ee', 'au', 'ie', 'ou', 'ue', 'io', 'ea', 'ai', 'oi', 'ea', 'ou', 'ai', 'ai', 'ua', 'ou', 'ei', 'ei', 'ea', 'ee', 'ee', 'io', 'ai', 'ee', 'ea', 'ou', 'ea', 'ea', 'ie', 'au', 'ai', 'au', 'ou', 'ee', 'ua', 'ei', 'io', 'ie', 'oo', 'ai', 'ei', 'ee', 'ua', 'io', 'ou', 'ie', 'oo', 'ia', 'ei', 'ee', 'ua', 'ee', 'io', 'io', 'eo', 'ei', 'ou', 'io', 'oa', 'io', 'io', 'ei', 'ee', 'oo', 'ou', 'ei', 'ou', 'ia', 'ie', 'ua', 'au', 'io', 'ee', 'ie', 'oa', 'au', 'ua', 'ee', 'ei', 'oo', 'io', 'eu', 'ou', 'io', 'ee', 'oa', 'ia', 'ie', 'oa', 'ai', 'au', 'ei', 'ou', 'ai', 'ou', 'io', 'ee', 'ua', 'ue', 'ee', 'ai', 'ou', 'ou', 'ee', 'ai', 'ou', 'ai', 'ea', 'ua', 'ei', 'ee', 'ua', 'ee', 'oa', 'oo', 'ea', 'io', 'ea', 'oa', 'ai', 'ai', 'oa', 'oo', 'eo', 'ai', 'ea', 'ea', 'io', 'au', 'io', 'ee', 'ai', 'ee', 'ei', 'oo', 'io', 'ou', 'io', 'oa', 'io', 'ie', 'ee', 'oo', 'ia', 'oo', 'ai', 'ai', 'oa', 'ea', 'ia', 'ee', 'eo', 'ou', 'ai', 'ee', 'ou', 'oi', 'ai', 'ai', 'ai', 'ee', 'io', 'ee', 'ea', 'ai', 'ea', 'ai', 'ea', 'ie', 'io', 'io', 'ea', 'oo', 'eo', 'ie', 'oo', 'ie', 'io', 'ea', 'au', 'io', 'ou', 'ia', 'ee', 'ie', 'ee', 'ia', 'oo', 'ea', 'io', 'io', 'ea', 'ee', 'io', 'ei', 'ei', 'ee', 'au', 'ou', 'ue', 'ua', 'io', 'eu', 'ai', 'ea', 'io', 'ee', 'io', 'io', 'au', 'oa', 'ea', 'io', 'ou', 'oa', 'ai', 'eo', 'ue', 'ui', 'ea', 'ea', 'eo', 'ou', 'oo', 'ua', 'ee', 'io', 'ee', 'ou', 'ua', 'ea', 'io', 'io', 'io', 'ee', 'ai', 'ee', 'ea', 'ee', 'ie', 'ia', 'io', 'ie', 'ou', 'io', 'io', 'ee', 'au', 'ea', 'au', 'oa', 'ia', 'ue', 'ia', 'oo', 'ea', 'ea', 'ei', 'ue', 'ei', 'ua', 'ia', 'ee', 'ea', 'ie', 'oa', 'ei', 'ia', 'ee', 'ea', 'ue', 'ee', 'ei', 'ea', 'ea', 'ia', 'ou', 'ea', 'oa', 'oo', 'ia', 'ia', 'io', 'oo', 'ee', 'ai', 'ea', 'ai', 'io', 'ee', 'ea', 'ea', 'ei', 'ee', 'ie', 'ie', 'ua', 'ai', 'ai', 'io', 'io', 'ou', 'ea', 'ou', 'ea', 'io', 'io', 'oi', 'oa', 'ai', 'io', 'ee', 'ue', 'oo', 'ea', 'ai', 'ou', 'ua', 'ai', 'ie', 'ia', 'ee', 'ee', 'ee', 'oo', 'ea', 'au', 'io', 'ai', 'ei', 'oo', 'oa', 'ou', 'ea', 'ea', 'ei', 'ou', 'ou', 'ia', 'eo', 'io', 'oo', 'eo', 'oa', 'oo', 'ie', 'oa', 'ee', 'io', 'ei', 'oa', 'ia', 'ou', 'oi', 'ea', 'ee', 'ou', 'ou', 'ai', 'ea', 'ui', 'oo', 'ai', 'ee', 'ou', 'ui', 'ou', 'ia', 'oa', 'ee', 'ei', 'ou', 'ea', 'ai', 'ei', 'ea', 'ee', 'oa', 'ei', 'ou', 'io', 'ai', 'ua', 'io', 'ea', 'ie', 'ei', 'ou', 'ei', 'ue', 'ei', 'ou', 'ie', 'oa', 'ai', 'ai', 'ou', 'ua', 'io', 'ee', 'eo', 'ea', 'ei', 'ai', 'ie', 'ea', 'ai', 'ua', 'io', 'ou', 'ee', 'ea', 'ee', 'ua', 'ai', 'ai', 'ee', 'ei', 'ai', 'ea', 'ia', 'ou', 'ue', 'ue', 'ie', 'ee', 'ua', 'ie', 'au', 'ua', 'io', 'ea', 'io', 'ie', 'ie', 'ee', 'ea', 'ai', 'ou', 'ee', 'ie', 'ee', 'ie', 'ee', 'io', 'oe', 'au', 'ou', 'au', 'ee', 'ua', 'ia', 'au', 'io', 'eo', 'ea', 'ea', 'oe', 'ea', 'ui', 'ai', 'io', 'io', 'ei', 'ea', 'ou', 'au', 'au', 'io', 'io', 'ui', 'ui', 'ea', 'ea', 'ea', 'ee', 'io', 'ea', 'ei', 'au', 'ea', 'io', 'oa', 'ou', 'ou', 'ou', 'au', 'io', 'ou', 'ie', 'ou', 'oa', 'oo', 'ea', 'oa', 'ou', 'ie', 'ee', 'ea', 'ui', 'oi', 'ea', 'ua', 'ia', 'io', 'ai', 'ue', 'ee', 'io', 'ua', 'io', 'oi', 'ee', 'ea', 'ou', 'ai', 'ea', 'ue', 'ou', 'ou', 'ai', 'ou', 'ea', 'ee', 'ou', 'ei', 'ai', 'ou', 'oo', 'ei', 'io', 'ou', 'oe', 'ia', 'io', 'ou', 'ou', 'ie', 'au', 'au', 'io', 'au', 'ou', 'ua', 'ei', 'ie', 'ua', 'ei', 'ie', 'ue', 'io', 'ua', 'ue', 'ee', 'io', 'oo', 'ee', 'io', 'ou', 'io', 'ou', 'ea', 'io', 'ia', 'ea', 'ue', 'ea', 'ai', 'ou', 'ua', 'ou', 'ea', 'ai', 'ue', 'ue', 'ea', 'io', 'oi', 'ua', 'ua', 'ou', 'ee', 'io', 'ai', 'ue', 'io', 'oa', 'ea', 'io', 'ee', 'ei', 'ie', 'ea', 'ie', 'ie', 'ea', 'ie', 'ea', 'oo', 'ai', 'ea', 'io', 'ee', 'ie', 'io', 'ui', 'io', 'ea', 'ou', 'ui', 'ea', 'io', 'ie', 'ou', 'ea', 'ea', 'ea', 'ei', 'io', 'ou', 'io', 'io', 'io', 'io', 'ue', 'io', 'ee', 'ie', 'ea', 'ui', 'ou', 'ui', 'io', 'ai', 'io', 'oo', 'ea', 'au', 'ea', 'ee', 'ia', 'ai', 'ee', 'io', 'ee', 'ou', 'au', 'ou', 'ie', 'ai', 'ie', 'ea', 'ou', 'io', 'ue', 'io', 'io', 'ou', 'io', 'ue', 'io', 'ou', 'io', 'ou', 'ou', 'io', 'io', 'ue', 'ou', 'ou', 'ia', 'ee', 'ou', 'ie', 'ui', 'io', 'ue', 'io', 'io', 'ea', 'ee', 'ie', 'ea', 'io', 'ea', 'io', 'ou', 'ea', 'io', 'ea', 'ea', 'ai', 'ou', 'io', 'ou', 'ou', 'ee', 'ea', 'io', 'io', 'io', 'ue', 'io', 'ee', 'ou', 'ea', 'ai', 'ee', 'ou', 'io', 'ou', 'ui', 'ee', 'ia', 'ai', 'ea', 'io', 'ea', 'io', 'ue', 'ea', 'ia', 'ui', 'ue', 'ea', 'ue', 'io', 'ai', 'ia', 'ui', 'ea', 'io', 'ea', 'io', 'ia', 'io', 'ea', 'io', 'ia', 'au', 'ui', 'ee', 'io', 'ue', 'ia', 'ia', 'au', 'ei', 'ai', 'ia', 'ou', 'ai', 'ei', 'au', 'io', 'ee', 'ie', 'io', 'ie', 'ui', 'ie', 'ee', 'ee', 'ia', 'io', 'oo', 'io', 'eu', 'io', 'ea', 'ee', 'oi', 'io', 'oi', 'ie', 'ea', 'ea', 'io', 'io', 'ea', 'io', 'ea', 'ea', 'io', 'ue', 'oe', 'io', 'io', 'ee', 'io', 'ea', 'ia', 'ei', 'io', 'ou', 'ie', 'ie', 'ai', 'ea', 'ea', 'ie', 'ia', 'au', 'ee', 'ie', 'ei', 'ou', 'oo', 'ou', 'oo', 'ee', 'ee', 'ee', 'uo', 'ae', 'ua', 'io', 'io', 'ou', 'ia', 'ea', 'ai', 'ea', 'ee', 'ea', 'ee', 'io', 'io', 'ia', 'io', 'ia', 'ia', 'ua', 'ui', 'ie', 'eo', 'ia', 'au', 'ia', 'ea', 'au', 'ia', 'ia', 'ie', 'ia', 'ee', 'ie', 'ou', 'ou', 'io', 'eu', 'ea', 'eu', 'oo', 'ou', 'ai', 'ai', 'ou', 'ou', 'ou', 'oe', 'ie', 'ee', 'ou', 'ou', 'ou', 'ou', 'ai', 'ua', 'eo', 'ie', 'io', 'au', 'ua', 'ei', 'ui', 'ua', 'ou', 'ea', 'ie', 'ea', 'ue', 'ou', 'io', 'oo', 'io', 'oo', 'ie', 'ea', 'ia', 'ou', 'ue', 'io', 'ou', 'oo', 'ea', 'ea', 'ou', 'oi', 'ia', 'ou', 'ea', 'ea', 'ua', 'io', 'io', 'ee', 'ie', 'ee', 'ie', 'oe', 'ee', 'oi', 'ou', 'ou', 'ea', 'ea', 'ou', 'ee', 'ea', 'au', 'ee', 'oe', 'ou', 'io', 'ou', 'ie', 'ee', 'ea', 'ie', 'ou', 'ou', 'au', 'ou', 'ou', 'ou', 'ai', 'ee', 'ea', 'ea', 'ia', 'io', 'ou', 'io', 'ea', 'ui', 'ou', 'ou', 'au', 'ae', 'ea', 'ou', 'ie', 'ee', 'ia', 'ua', 'ou', 'ou', 'ee', 'ou', 'au', 'ie', 'ea', 'ou', 'ai', 'ou', 'ou', 'ou', 'ou', 'ou', 'oi', 'ou', 'ua', 'au', 'ie', 'ua', 'ea', 'ea', 'ou', 'oo', 'ai', 'ue', 'oe', 'oe', 'ou', 'ou', 'oo', 'ou', 'ou', 'oo', 'ai', 'io', 'oo', 'ou', 'ee', 'oo', 'ei', 'oo', 'ai', 'io', 'ea', 'ie', 'ai', 'ia', 'ia', 'ie', 'ai', 'ea', 'ai', 'ou', 'ou', 'ua', 'ie', 'ie', 'ai', 'iu', 'ai', 'oo', 'ui', 'ee', 'ei', 'ei', 'ea', 'ue', 'ou', 'ea', 'ai', 'io', 'ie', 'ai', 'ea', 'ou', 'ou', 'ou', 'oo', 'ee', 'ea', 'ie', 'ea', 'io', 'ei', 'ai', 'ea', 'au', 'io', 'ea', 'ai', 'oo', 'au', 'ea', 'ee', 'ia', 'ee', 'ia', 'io', 'ai', 'ea', 'ea', 'eu', 'ea', 'io', 'ea', 'ia', 'ie', 'ea', 'ie', 'ou', 'au', 'ea', 'ie', 'ea', 'ia', 'io', 'ie', 'ei', 'ai', 'ea', 'ie', 'ea', 'ee', 'ea', 'ei', 'ea', 'ie', 'ie', 'ai', 'ia', 'io', 'ie', 'oi', 'ee', 'ai', 'ie', 'ea', 'ea', 'ee', 'ai', 'ua', 'io', 'io', 'ea', 'ea', 'ie', 'ua', 'io', 'ia', 'ia', 'oa', 'ia', 'io', 'ui', 'io', 'io', 'ea', 'oa', 'ea', 'io', 'io', 'ue', 'ie', 'ea', 'ue', 'ea', 'oi', 'ea', 'oo', 'oo', 'ue', 'ou', 'ue', 'ea', 'io', 'oi', 'io', 'io', 'ai', 'ue', 'ie', 'ou', 'ie', 'io', 'ue', 'ie', 'ia', 'ie', 'io', 'io', 'ie', 'ue', 'ie', 'ou', 'ie', 'ue', 'ie', 'ue', 'ie', 'ia', 'ie', 'ea', 'io', 'ou', 'io', 'ou', 'ie', 'ou', 'ie', 'ou', 'ie', 'ie', 'io', 'ou', 'ie', 'ou', 'ie', 'ia', 'ie', 'ue', 'ie', 'ue', 'ie', 'io', 'ie', 'ue', 'ou', 'ue', 'ie', 'ue', 'ie', 'ou', 'oo', 'ei', 'io', 'ue', 'ui', 'ou', 'ia', 'ai', 'ie', 'ou', 'iu', 'ue', 'ee', 'ie', 'io', 'ue', 'ie', 'ee', 'ia', 'ui', 'io', 'ua', 'ee', 'ee', 'io', 'ue', 'ou', 'ia', 'ai', 'io', 'ie', 'iu', 'ee', 'io', 'ue', 'ou', 'ia', 'io', 'io', 'ie', 'iu', 'ue', 'ee', 'oi', 'io', 'ue', 'ia', 'ai', 'ei', 'ua', 'ee', 'ai', 'ee', 'ou', 'ea', 'ie', 'ia', 'ie', 'io', 'ee', 'ui', 'io', 'iu', 'ou', 'iu', 'iu', 'ee', 'ou', 'ue', 'ea', 'ea', 'ue', 'ea', 'io', 'ie', 'ou', 'iu', 'io', 'oo', 'ai', 'ei', 'ea', 'ai', 'oo', 'oo', 'iu', 'ou', 'iu', 'ou', 'oo', 'ou', 'iu', 'ea', 'ea', 'ee', 'ei', 'iu', 'ea', 'oe', 'io', 'iu', 'io', 'ie', 'ei', 'ea', 'ia', 'io', 'iu', 'oo', 'ea', 'eo', 'ou', 'ui', 'eo', 'ui', 'ia', 'ui', 'au', 'ia', 'ai', 'ee', 'ei', 'iu', 'oo', 'ai', 'ou', 'ou', 'ui', 'ia', 'oe', 'ie', 'ee', 'ea', 'ua', 'ia', 'ea', 'ui', 'io', 'eu', 'ee', 'ou', 'ui', 'ou', 'ea', 'iu', 'ie', 'oo', 'ie', 'ea', 'ui', 'ou', 'ue', 'io', 'ai', 'ai', 'ui', 'ia', 'ao', 'ou', 'ie', 'io', 'ui', 'ou', 'ao', 'ou', 'io', 'ee', 'io', 'ai', 'io', 'io', 'io', 'io', 'ai', 'ui', 'io', 'io', 'ai', 'io', 'ai', 'io', 'io', 'ea', 'ue', 'io', 'ea', 'io', 'io', 'io', 'io', 'io', 'io', 'ea', 'ee', 'ea', 'ea', 'ie', 'io', 'io', 'ee', 'ai', 'ee', 'ie', 'ei', 'ea', 'ie', 'ue', 'io', 'ue', 'oo', 'ou', 'oo', 'ou', 'ea', 'ie', 'ou', 'ee', 'ea', 'io', 'ee', 'ai', 'ai', 'ui', 'ei', 'ie', 'ie', 'ue', 'ia', 'ei', 'ai', 'io', 'ai', 'ei', 'ia', 'oo', 'ea', 'ia', 'ou', 'oo', 'ou', 'ea', 'ou', 'ea', 'ea', 'ie', 'oo', 'oo', 'ee', 'oo', 'ea', 'ei', 'ea', 'ie', 'ee', 'ei', 'ia', 'ou', 'ei', 'io', 'ea', 'io', 'ie', 'ui', 'ee', 'ou', 'ou', 'ea', 'ei', 'ai', 'ee', 'ua', 'io', 'oo', 'ei', 'ie', 'ou', 'io', 'ou', 'au', 'ea', 'ou', 'ou', 'ui', 'io', 'io', 'ai', 'ui', 'io', 'oo', 'ai', 'io', 'ou', 'ie', 'ea', 'oo', 'ai', 'io', 'ea', 'ea', 'io', 'oo', 'ia', 'ea', 'ee', 'io', 'ue', 'ea', 'ie', 'au', 'io', 'ie', 'ea', 'io', 'oa', 'io', 'ai', 'io', 'ou', 'ia', 'io', 'ui', 'oo', 'ai', 'ui', 'ui', 'ea', 'ee', 'ou', 'ea', 'oi', 'io', 'ai', 'ua', 'ou', 'io', 'ea', 'io', 'au', 'io', 'oo', 'ea', 'ea', 'io', 'ea', 'ai', 'ie', 'ea', 'oo', 'ea', 'ie', 'ai', 'ou', 'ai', 'ai', 'ea', 'ea', 'ee', 'au', 'ia', 'io', 'ei', 'ea', 'ee', 'ia', 'ui', 'ea', 'ie', 'ea', 'ai', 'ua', 'ia', 'ie', 'ea', 'ea', 'io', 'ea', 'eo', 'ia', 'ai', 'io', 'io', 'ai', 'ea', 'ai', 'ie', 'ai', 'ou', 'ie', 'eo', 'ee', 'ee', 'ou', 'ea', 'ea', 'au', 'ea', 'ie', 'ea', 'ea', 'ee', 'ee', 'au', 'ea', 'ea', 'oa', 'au', 'ea', 'io', 'io', 'ea', 'au', 'oa', 'ou', 'ie', 'au', 'ia', 'ia', 'oa', 'ea', 'ie', 'ou', 'ai', 'ai', 'io', 'ea', 'ie', 'ee', 'io', 'ee', 'ou', 'ea', 'ea', 'ou', 'au', 'io', 'ai', 'ee', 'ai', 'io', 'ou', 'ou', 'io', 'oo', 'ou', 'io', 'io', 'oo', 'ie', 'ia', 'oo', 'io', 'eu', 'ie', 'ie', 'au', 'ui', 'ou', 'ou', 'ai', 'ou', 'ou', 'ia', 'ai', 'ia', 'ou', 'io', 'ia', 'ea', 'ou', 'ai', 'io', 'ei', 'ou', 'ia', 'au', 'eo', 'ou', 'ou', 'ui', 'ai', 'ou', 'ie', 'ou', 'oa', 'ou', 'ei', 'ei', 'ia', 'ea', 'ou', 'ia', 'ia', 'ou', 'ea', 'io', 'io', 'ue', 'ue', 'ua', 'ee', 'ea', 'oe', 'ia', 'ou', 'ea', 'io', 'au', 'eu', 'io', 'io', 'ou', 'ia', 'io', 'ia', 'ia', 'ou', 'io', 'ei', 'io', 'au', 'ai', 'ou', 'ou', 'ai', 'ia', 'ea', 'io', 'ea', 'ai', 'ai', 'ue', 'ou', 'eo', 'io', 'ie', 'ia', 'ia', 'ea', 'ai', 'ia', 'ia', 'ou', 'ee', 'ei', 'au', 'ou', 'ei', 'ou', 'ou', 'ou', 'ea', 'io', 'io', 'ou', 'ui', 'io', 'io', 'io', 'eo', 'ou', 'io', 'ou', 'ea', 'ou', 'ou', 'ai', 'io', 'io', 'io', 'ea', 'ue', 'io', 'ea', 'ou', 'ai', 'ua', 'ia', 'ao', 'ou', 'ou', 'ai', 'ai', 'io', 'ui', 'io', 'ui', 'io', 'ui', 'ui', 'ea', 'ei', 'io', 'ui', 'ao', 'ua', 'ai', 'io', 'io', 'ai', 'io', 'io', 'ea', 'io', 'ui', 'ao', 'io', 'ea', 'ue', 'ou', 'io', 'ui', 'ia', 'ee', 'ou', 'ea', 'io', 'ui', 'io', 'ui', 'ai', 'ei', 'oo', 'io', 'ao', 'ai', 'io', 'ai', 'ou', 'io', 'ou', 'ee', 'ou', 'io', 'io', 'oo', 'ai', 'ee', 'ie', 'ee', 'oo', 'oo', 'ai', 'io', 'oo', 'ie', 'ou', 'eo', 'ie', 'ou', 'ee', 'ea', 'ei', 'ie', 'ai', 'ea', 'ai', 'ea', 'io', 'ai', 'ia', 'ue', 'ea', 'io', 'ou', 'ea', 'ou', 'ua', 'ea', 'ea', 'ie', 'io', 'ai', 'ea', 'ea', 'ea', 'io', 'ue', 'io', 'ea', 'io', 'ia', 'io', 'ai', 'ou', 'ee', 'ou', 'io', 'io', 'ai', 'ee', 'ui', 'ou', 'io', 'io', 'ei', 'ue', 'ai', 'oi', 'ue', 'oi', 'ea', 'ei', 'oi', 'io', 'io', 'ue', 'io', 'ue', 'ou', 'ue', 'ui', 'ue', 'ai', 'ou', 'ue', 'ai', 'io', 'ai', 'ue', 'ou', 'ua', 'ue', 'ai', 'ui', 'ai', 'io', 'ea', 'ei', 'ou', 'ai', 'io', 'ai', 'au', 'ai', 'ue', 'io', 'ai', 'oi', 'ue', 'oi', 'io', 'oi', 'ue', 'oi', 'io', 'io', 'io', 'ue', 'io', 'ai', 'ou', 'io', 'ou', 'ui', 'ea', 'ea', 'io', 'ou', 'ue', 'ue', 'ue', 'ue', 'ui', 'ie', 'ai', 'ou', 'oi', 'io', 'ue', 'io', 'ei', 'ai', 'ai', 'ue', 'ai', 'ee', 'ue', 'ia', 'oi', 'ou', 'ou', 'io', 'ea', 'io', 'ou', 'ea', 'ai', 'ue', 'ue', 'au', 'ue', 'ea', 'ee', 'ea', 'ai', 'ea', 'ee', 'ai', 'ue', 'ue', 'oi', 'io', 'io', 'ue', 'ea', 'ai', 'io', 'ea', 'ee', 'ea', 'io', 'io', 'io', 'au', 'io', 'ua', 'au', 'ei', 'ue', 'ai', 'ou', 'ea', 'ai', 'oi', 'ea', 'ai', 'io', 'ue', 'ai', 'au', 'ai', 'ee', 'au', 'ia', 'ai', 'ee', 'au', 'ai', 'ua', 'ea', 'ai', 'io', 'io', 'ie', 'ei', 'ue', 'io', 'ee', 'ea', 'ai', 'ua', 'ea', 'oo', 'ea', 'ee', 'io', 'ou', 'ai', 'ai', 'ue', 'ou', 'ai', 'ea', 'ai', 'ee', 'oo', 'oo', 'ui', 'io', 'ie', 'ai', 'ea', 'io', 'ue', 'ua', 'ie', 'ai', 'io', 'eu', 'ou', 'ai', 'ei', 'eo', 'io', 'ea', 'ua', 'ea', 'ue', 'ie', 'io', 'ia', 'oo', 'ia', 'oo', 'ei', 'ou', 'ie', 'ou', 'ia', 'ia', 'io', 'eu', 'io', 'io', 'ie', 'io', 'ou', 'ia', 'ie', 'io', 'ia', 'oe', 'ou', 'ia', 'ia', 'ia', 'io', 'ea', 'ea', 'ea', 'ee', 'ai', 'ou', 'ai', 'eo', 'ia', 'io', 'io', 'ou', 'ea', 'ou', 'ea', 'ea', 'ea', 'ui', 'oa', 'au', 'ea', 'ou', 'ia', 'ea', 'ai', 'ie', 'ia', 'ai', 'au', 'ie', 'ea', 'io', 'ou', 'io', 'oe', 'ee', 'ua', 'io', 'io', 'ou', 'ai', 'io', 'ea', 'ai', 'ia', 'oa', 'ea', 'ei', 'ou', 'ie', 'io', 'ou', 'ai', 'ea', 'eo', 'ai', 'io', 'oo', 'ua', 'ea', 'ai', 'io', 'oo', 'ie', 'io', 'eo', 'ai', 'io', 'io', 'ai', 'io', 'ai', 'io', 'ou', 'ai', 'ea', 'ai', 'ou', 'ea', 'ai', 'ue', 'ai', 'ue', 'io', 'ee', 'ea', 'ou', 'ee', 'ea', 'oa', 'io', 'io', 'io', 'ea', 'ou', 'ia', 'ai', 'ea', 'ai', 'ou', 'ea', 'ai', 'ou', 'ou', 'ai', 'ia', 'ea', 'ai', 'ui', 'io', 'ou', 'ai', 'ee', 'ai', 'ia', 'io', 'ea', 'ie', 'ou', 'oi', 'ie', 'ea', 'ea', 'ue', 'ea', 'io', 'ou', 'oa', 'ea', 'ea', 'ai', 'ie', 'ia', 'ea', 'au', 'ue', 'ie', 'ue', 'ia', 'ea', 'ai', 'io', 'ie', 'io', 'ea', 'ai', 'io', 'ie', 'ou', 'ou', 'ea', 'ea', 'ou', 'io', 'ai', 'ie', 'ie', 'oo', 'ia', 'io', 'ie', 'io', 'ia', 'io', 'ia', 'io', 'ee', 'ee', 'io', 'ou', 'ea', 'ee', 'ou', 'ie', 'ie', 'ia', 'ou', 'ai', 'ea', 'ea', 'ie', 'ai', 'au', 'ue', 'ou', 'ea', 'ie', 'ou', 'ea', 'ai', 'eo', 'ou', 'ea', 'ea', 'ee', 'ua', 'ea', 'ai', 'io', 'io', 'ie', 'io', 'ee', 'ea', 'io', 'ea', 'ea', 'ea', 'ue', 'io', 'ea', 'ia', 'ea', 'ea', 'io', 'ai', 'io', 'eo', 'ue', 'ua', 'au', 'ue', 'iu', 'ou', 'ea', 'ai', 'ea', 'ea', 'au', 'ie', 'ai', 'ie', 'ou', 'au', 'io', 'ea', 'ai', 'io', 'ia', 'ea', 'ei', 'io', 'ea', 'ue', 'ea', 'ea', 'ui', 'ea', 'ou', 'oi', 'ea', 'ou', 'ie', 'ie', 'ue', 'ea', 'uo', 'ie', 'ie', 'ou', 'ee', 'ea', 'ia', 'ue', 'ue', 'io', 'ea', 'oi', 'io', 'oo', 'ou', 'oo', 'ai', 'ea', 'ea', 'ea', 'oo', 'ai', 'ea', 'ue', 'ai', 'ou', 'ai', 'ee', 'ee', 'ea', 'ea', 'ou', 'oo', 'ee', 'ou', 'ai', 'oo', 'ai', 'ue', 'ua', 'ue', 'ie', 'ai', 'ai', 'ea', 'ie', 'ae', 'ue', 'ue', 'ie', 'ae', 'ie', 'ie', 'ea', 'ue', 'ue', 'oi', 'au', 'io', 'io', 'io', 'ue', 'ea', 'ue', 'ia', 'ea', 'ie', 'ei', 'ou', 'ia', 'ea', 'ea', 'ue', 'ou', 'au', 'ea', 'ee', 'ea', 'io', 'io', 'ia', 'ea', 'ie', 'ie', 'ue', 'io', 'io', 'ai', 'oi', 'ie', 'ei', 'ea', 'ai', 'ea', 'ea', 'ue', 'ai', 'ea', 'ia', 'ou', 'ue', 'ai', 'ou', 'ua', 'ea', 'ou', 'io', 'ue', 'ee', 'ou', 'io', 'ue', 'ue', 'ue', 'ou', 'ea', 'io', 'ue', 'ue', 'ee', 'ie', 'ai', 'ue', 'ie', 'ue', 'ie', 'oo', 'ou', 'ou', 'io', 'ai', 'ee', 'io', 'ea', 'ua', 'ou', 'ai', 'io', 'io', 'io', 'ea', 'ai', 'io', 'io', 'ea', 'ue', 'io', 'io', 'ia', 'ea', 'ua', 'ou', 'ua', 'io', 'ea', 'ia', 'ua', 'ua', 'io', 'ua', 'ea', 'io', 'ea', 'ee', 'ou', 'ou', 'ea', 'io', 'ea', 'io', 'io', 'ea', 'io', 'io', 'io', 'ea', 'io', 'ua', 'ea', 'oa', 'io', 'ui', 'io', 'io', 'ai', 'eo', 'ie', 'io', 'au', 'io', 'ia', 'ai', 'io', 'io', 'io', 'ia', 'ou', 'ia', 'ea', 'ee', 'io', 'ou', 'ou', 'io', 'ea', 'ai', 'ei', 'ou', 'ea', 'ou', 'ie', 'ue', 'ai', 'ou', 'ea', 'io', 'io', 'ea', 'ai', 'io', 'ou', 'ie', 'ai', 'oa', 'io', 'ea', 'io', 'ia', 'ao', 'ou', 'ea', 'ai', 'io', 'ai', 'ou', 'ee', 'ea', 'ai', 'io', 'eo', 'ai', 'ea', 'ua', 'ee', 'io', 'ua', 'io', 'io', 'ea', 'ai', 'ou', 'io', 'ou', 'io', 'io', 'ea', 'ou', 'ai', 'ai', 'ou', 'ai', 'ou', 'ie', 'io', 'io', 'ee', 'ai', 'ie', 'au', 'ea', 'ou', 'ei', 'ou', 'io', 'io', 'ie', 'ou', 'ea', 'ie', 'oa', 'ie', 'ou', 'ei', 'ei', 'io', 'oi', 'ea', 'au', 'ai', 'ee', 'ea', 'ea', 'oa', 'ou', 'io', 'ou', 'ai', 'ea', 'ie', 'ie', 'ie', 'ea', 'ea', 'ui', 'ea', 'ue', 'ea', 'ie', 'ee', 'ui', 'ou', 'io', 'ei', 'ai', 'ou', 'ai', 'ae', 'ea', 'ua', 'ou', 'io', 'ai', 'ou', 'ea', 'ee', 'ie', 'ea', 'ui', 'ee', 'ui', 'ea', 'ai', 'ai', 'ou', 'ie', 'ou', 'ea', 'oo', 'oo', 'oo', 'ei', 'oa', 'oi', 'ou', 'ia', 'oi', 'io', 'ou', 'oi', 'io', 'ou', 'oa', 'ou', 'ia', 'oi', 'ou', 'io', 'oi', 'ou', 'au', 'au', 'ee', 'io', 'au', 'ou', 'io', 'ua', 'ia', 'ee', 'ai', 'ie', 'ue', 'ai', 'io', 'oa', 'io', 'ei', 'io', 'ie', 'eo', 'ua', 'ee', 'ua', 'ea', 'ue', 'ee', 'ie', 'au', 'ei', 'ou', 'ie', 'io', 'ee', 'ie', 'ee', 'io', 'ea', 'ue', 'ai', 'ue', 'ie', 'ou', 'oo', 'ia', 'oa', 'io', 'oa', 'io', 'io', 'io', 'io', 'ie', 'ou', 'ue', 'io', 'io', 'io', 'io', 'io', 'ie', 'au', 'ei', 'ou', 'io', 'ee', 'io', 'ai', 'ou', 'eo', 'ai', 'ou', 'ei', 'io', 'ia', 'ou', 'ou', 'ai', 'io', 'ea', 'ee', 'oo', 'ue', 'ei', 'ou', 'eo', 'ia', 'au', 'io', 'oe', 'ea', 'ei', 'ee', 'ai', 'eo', 'ai', 'ei', 'io', 'ie', 'ou', 'ai', 'ai', 'ei', 'ou', 'ou', 'ou', 'ia', 'ea', 'ou', 'ou', 'io', 'ou', 'ia', 'ui', 'ea', 'ea', 'ou', 'ai', 'ia', 'ea', 'ou', 'ea', 'io', 'oo', 'ue', 'ou', 'ia', 'ee', 'io', 'ou', 'oa', 'io', 'ee', 'ai', 'io', 'ou', 'au', 'ou', 'ou', 'ou', 'ee', 'ie', 'ia', 'ia', 'ou', 'eo', 'ei', 'oo', 'ue', 'ai', 'ia', 'ei', 'ou', 'ie', 'ai', 'io', 'ia', 'ui', 'ea', 'ee', 'io', 'eo', 'ia', 'ia', 'ee', 'ia', 'ea', 'io', 'ie', 'ai', 'ea', 'ia', 'ou', 'io', 'ue', 'io', 'ia', 'ia', 'ea', 'ia', 'ia', 'ia', 'ia', 'ia', 'ie', 'ia', 'ia', 'ui', 'ai', 'ai', 'ia', 'ie', 'io', 'ai', 'ou', 'io', 'ou', 'ia', 'io', 'oo', 'ai', 'ea', 'ee', 'ou', 'ai', 'oi', 'ia', 'io', 'ou', 'ai', 'ue', 'ea', 'ai', 'ai', 'ai', 'ue', 'ou', 'io', 'oe', 'ea', 'ee', 'ou', 'io', 'io', 'ou', 'ai', 'ou', 'ee', 'ua', 'ia', 'io', 'ee', 'ou', 'ia', 'io', 'ea', 'ou', 'ua', 'ae', 'au', 'ou', 'ou', 'ie', 'ea', 'ai', 'ai', 'ai', 'ou', 'ai', 'ea', 'au', 'ea', 'ea', 'ia', 'ai', 'ou', 'ou', 'ua', 'io', 'ou', 'ua', 'io', 'ea', 'io', 'ea', 'ea', 'ie', 'io', 'ea', 'io', 'ai', 'ia', 'io', 'io', 'io', 'ea', 'ai', 'ea', 'ea', 'oa', 'io', 'io', 'ou', 'ea', 'ue', 'ee', 'ea', 'ea', 'ou', 'ae', 'ou', 'ai', 'ea', 'ua', 'io', 'io', 'ea', 'io', 'ea', 'ou', 'ea', 'ua', 'ea', 'ue', 'ou', 'ia', 'io', 'ea', 'au', 'oo', 'ou', 'ua', 'ea', 'io', 'io', 'io', 'io', 'ea', 'ea', 'ea', 'ea', 'io', 'io', 'ai', 'ia', 'ie', 'ai', 'io', 'ou', 'ou', 'ee', 'oa', 'ea', 'oo', 'ua', 'ua', 'ou', 'ai', 'ou', 'ia', 'ou', 'ai', 'ei', 'ou', 'ou', 'ai', 'ai', 'ai', 'ou', 'ea', 'ie', 'io', 'ia', 'ea', 'ea', 'au', 'ue', 'ia', 'ie', 'au', 'oi', 'ai', 'ee', 'ue', 'ee', 'ea', 'io', 'io', 'io', 'ue', 'io', 'ea', 'ai', 'ea', 'ea', 'ie', 'ea', 'ue', 'ai', 'ie', 'ee', 'ou', 'ea', 'oe', 'io', 'ee', 'ee', 'ea', 'io', 'ei', 'ai', 'ia', 'ia', 'ai', 'io', 'ee', 'io', 'ai', 'ai', 'ai', 'ou', 'ua', 'io', 'io', 'eo', 'ia', 'ee', 'ou', 'io', 'ua', 'io', 'ai', 'ou', 'ou', 'ua', 'io', 'ou', 'ea', 'ue', 'io', 'io', 'ee', 'ei', 'ea', 'io', 'ai', 'io', 'ea', 'ai', 'ea', 'ee', 'ea', 'ai', 'ee', 'ou', 'ee', 'ee', 'ai', 'eu', 'ea', 'oi', 'ea', 'ea', 'oi', 'ea', 'ea', 'oi', 'oi', 'ia', 'ea', 'oi', 'ea', 'ee', 'eu', 'ie', 'ue', 'ue', 'ei', 'au', 'ai', 'ue', 'ai', 'ua', 'io', 'ai', 'ue', 'ai', 'ua', 'ea', 'ai', 'ea', 'ai', 'ea', 'ie', 'io', 'ei', 'io', 'io', 'ou', 'ou', 'ie', 'ou', 'ai', 'ie', 'ie', 'ee', 'io', 'ie', 'io', 'ue', 'ai', 'ou', 'ie', 'io', 'io', 'ea', 'ai', 'ee', 'ea', 'ea', 'ui', 'ia', 'io', 'ai', 'eu', 'ua', 'ui', 'ea', 'ia', 'ou', 'ai', 'ou', 'ai', 'ee', 'au', 'ou', 'ai', 'ua', 'ui', 'ea', 'ou', 'ai', 'ai', 'ai', 'ai', 'ai', 'ui', 'oi', 'ee', 'ee', 'ou', 'ai', 'ou', 'io', 'ee', 'ui', 'ai', 'ai', 'ue', 'ou', 'au', 'oi', 'ai', 'ou', 'io', 'ou', 'ai', 'ua', 'ai', 'ui', 'ie', 'ai', 'ui', 'ua', 'ou', 'ai', 'uu', 'io', 'uu', 'uu', 'ou', 'ou', 'ui', 'io', 'ea', 'io', 'ou', 'io', 'io', 'oo', 'ea', 'ie', 'ai', 'ou', 'ue', 'ou', 'ai', 'ea', 'ou', 'ee', 'ea', 'ei', 'uu', 'ea', 'ou', 'ea', 'ai', 'ou', 'ia', 'ee', 'oa', 'eu', 'ai', 'ae', 'eu', 'ue', 'ie', 'io', 'io', 'eu', 'ea', 'ea', 'eu', 'ee', 'io', 'oi', 'io', 'ie', 'ea', 'eu', 'ie', 'eu', 'ie', 'ee', 'io', 'eu', 'ai', 'ie', 'eu', 'ai', 'ea', 'ea', 'ee', 'oi', 'oa', 'io', 'eu', 'ee', 'eu', 'ei', 'ee', 'oa', 'oo', 'eo', 'ou', 'eo', 'oa', 'ai', 'eu', 'ai', 'ai', 'ai', 'ou', 'io', 'eu', 'ou', 'eu', 'ea', 'ee', 'io', 'ee', 'eu', 'ie', 'eu', 'oa', 'ai', 'io', 'ou', 'ua', 'ui', 'io', 'ou', 'io', 'ou', 'ue', 'io', 'ei', 'oi', 'ui', 'io', 'au', 'ui', 'ou', 'ee', 'oi', 'ee', 'ai', 'ui', 'io', 'ai', 'io', 'ou', 'ou', 'ee', 'ai', 'ea', 'ou', 'ea', 'ei', 'ui', 'io', 'ai', 'io', 'oo', 'ai', 'ua', 'io', 'ea', 'ea', 'ie', 'io', 'ai', 'io', 'io', 'ua', 'io', 'ie', 'io', 'io', 'ua', 'io', 'ua', 'io', 'ai', 'oi', 'ai', 'ue', 'io', 'io', 'ea', 'ea', 'ie', 'ai', 'ua', 'io', 'io', 'au', 'ia', 'ue', 'ai', 'io', 'ou', 'io', 'io', 'ea', 'ei', 'io', 'ai', 'ou', 'io', 'io', 'io', 'ea', 'io', 'ee', 'io', 'oo', 'ea', 'ea', 'ie', 'io', 'ue', 'io', 'ia', 'ue', 'ai', 'ou', 'ou', 'oo', 'eo', 'oo', 'ea', 'ai', 'ei', 'ue', 'ea', 'ia', 'oi', 'ue', 'ei', 'io', 'ai', 'oo', 'ui', 'ai', 'ou', 'oi', 'ia', 'ui', 'ai', 'oa', 'ou', 'io', 'ue', 'ai', 'ue', 'oo', 'ea', 'ou', 'oi', 'ou', 'ai', 'ai', 'io', 'ea', 'ui', 'ia', 'ie', 'oi', 'ai', 'ou', 'io', 'ai', 'io', 'io', 'ai', 'io', 'ou', 'ea', 'ue', 'ai', 'ue', 'ai', 'ea', 'oi', 'eo', 'ei', 'ou', 'ou', 'ai', 'ia', 'ai', 'ou', 'io', 'ie', 'ou', 'eo', 'ia', 'ie', 'oo', 'ai', 'ie', 'ia', 'ie', 'eo', 'oo', 'ou', 'io', 'ai', 'ou', 'ua', 'ea', 'ee', 'ou', 'ae', 'ai', 'ee', 'ai', 'ou', 'ui', 'eo', 'ia', 'ie', 'ui', 'oe', 'ea', 'ea', 'oo', 'ue', 'eo', 'ia', 'au', 'io', 'oa', 'io', 'eo', 'ia', 'ue', 'ea', 'oa', 'ai', 'io', 'io', 'io', 'ou', 'ia', 'io', 'ie', 'oe', 'ea', 'ou', 'io', 'au', 'ei', 'ue', 'ou', 'ua', 'ui', 'io', 'ou', 'ea', 'ea', 'ie', 'oo', 'io', 'ie', 'ue', 'ai', 'ou', 'ua', 'ou', 'ea', 'ee', 'ai', 'ee', 'ou', 'ai', 'ia', 'ee', 'ea', 'ie', 'ai', 'ee', 'ui', 'ei', 'io', 'io', 'ui', 'ea', 'ai', 'ua', 'ou', 'ou', 'io', 'ue', 'ua', 'ee', 'ou', 'ou', 'ou', 'ea', 'io', 'io', 'io', 'ea', 'ea', 'ie', 'ai', 'uo', 'io', 'io', 'io', 'io', 'io', 'ea', 'ea', 'ie', 'io', 'ie', 'ia', 'ai', 'ie', 'ou', 'ea', 'ia', 'io', 'au', 'ie', 'ai', 'ia', 'ee', 'ia', 'ai', 'io', 'oe', 'ea', 'io', 'ou', 'ai', 'ea', 'oe', 'ea', 'io', 'io', 'io', 'io', 'ou', 'ue', 'ee', 'io', 'io', 'io', 'ou', 'ou', 'ea', 'ou', 'ou', 'ea', 'io', 'ou', 'io', 'io', 'io', 'io', 'io', 'io', 'io', 'ai', 'ou', 'ua', 'ui', 'io', 'ea', 'io', 'ai', 'io', 'ai', 'ea', 'ui', 'io', 'ea', 'io', 'ea', 'io', 'ua', 'au', 'ae', 'ea', 'ee', 'ea', 'io', 'au', 'io', 'ai', 'ue', 'io', 'ai', 'ai', 'ua', 'ia', 'ai', 'ea', 'ea', 'ie', 'ia', 'ai', 'ua', 'io', 'io', 'ea', 'ea', 'ie', 'ai', 'io', 'ai', 'ua', 'ai', 'io', 'io', 'ea', 'ea', 'ie', 'ai', 'io', 'ea', 'ua', 'ia', 'ou', 'io', 'ou', 'ou', 'ua', 'io', 'ou', 'ei', 'ue', 'ai', 'ee', 'ou', 'ai', 'ai', 'au', 'ia', 'ui', 'ai', 'ai', 'io', 'ie', 'ai', 'ua', 'ea', 'ea', 'ie', 'io', 'io', 'ea', 'ea', 'ie', 'io', 'io', 'ia', 'io', 'ai', 'io', 'ia', 'ou', 'io', 'ie', 'ee', 'io', 'ia', 'io', 'ou', 'ia', 'ea', 'oa', 'ou', 'io', 'ea', 'ea', 'io', 'ia', 'ea', 'ia', 'io', 'ai', 'ia', 'ie', 'io', 'ia', 'ou', 'ui', 'io', 'ai', 'ea', 'ia', 'ei', 'ie', 'io', 'io', 'ai', 'ou', 'ou', 'ia', 'ie', 'ai', 'ai', 'ea', 'ai', 'ia', 'oo', 'ee', 'ei', 'ie', 'io', 'ui', 'io', 'ei', 'ie', 'ai', 'ou', 'ea', 'ui', 'ai', 'ia', 'io', 'ui', 'ee', 'ee', 'ia', 'ae', 'ae', 'ie', 'ui', 'ui', 'ai', 'ee', 'ae', 'ae', 'ui', 'io', 'ai', 'ai', 'ua', 'ea', 'ea', 'ui', 'ui', 'ai', 'oa', 'ia', 'io', 'oo', 'io', 'ua', 'io', 'ee', 'ea', 'io', 'ia', 'ai', 'ee', 'ai', 'ea', 'ai', 'io', 'ou', 'ia', 'io', 'ea', 'oa', 'io', 'oo', 'ai', 'ua', 'io', 'ia', 'io', 'ie', 'ea', 'ea', 'ei', 'oa', 'ue', 'io', 'ua', 'io', 'ea', 'io', 'ai', 'ui', 'io', 'ia', 'ou', 'ou', 'io', 'io', 'ou', 'ee', 'ui', 'eo', 'ia', 'ua', 'ia', 'io', 'ei', 'ia', 'ia', 'ue', 'ei', 'ea', 'ea', 'oo', 'ai', 'io', 'ia', 'ai', 'ai', 'io', 'io', 'ie', 'ea', 'ea', 'eo', 'io', 'ou', 'io', 'ou', 'ei', 'ou', 'io', 'ea', 'io', 'ei', 'eo', 'ie', 'ou', 'ai', 'io', 'ou', 'ei', 'ue', 'ou', 'io', 'io', 'ie', 'ai', 'io', 'oi', 'ou', 'ou', 'ai', 'io', 'ea', 'ua', 'ea', 'ea', 'ea', 'ou', 'io', 'ai', 'ou', 'ai', 'ou', 'ou', 'io', 'ai', 'oo', 'au', 'ai', 'ea', 'ou', 'oo', 'ee', 'io', 'ia', 'ie', 'ie', 'ia', 'ai', 'ou', 'ou', 'ia', 'io', 'ia', 'ai', 'ou', 'io', 'ea', 'ia', 'iu', 'ea', 'ue', 'ai', 'ou', 'ue', 'ea', 'ie', 'ou', 'ea', 'ea', 'ei', 'io', 'ea', 'ei', 'ou', 'ea', 'ea', 'ai', 'ue', 'io', 'ea', 'ai', 'ou', 'ea', 'io', 'ou', 'ee', 'io', 'io', 'ai', 'ie', 'ea', 'io', 'oa', 'ua', 'ee', 'ou', 'ia', 'io', 'ue', 'ei', 'io', 'ea', 'ia', 'ou', 'oo', 'ue', 'ea', 'ai', 'ia', 'ee', 'io', 'ia', 'au', 'ia', 'ee', 'ia', 'oo', 'ea', 'ei', 'ou', 'ei', 'oa', 'ea', 'ei', 'ai', 'ea', 'ai', 'ie', 'au', 'ai', 'ei', 'ai', 'ou', 'ai', 'ai', 'ou', 'io', 'ai', 'io', 'ue', 'io', 'io', 'ia', 'ou', 'ea', 'io', 'io', 'ea', 'ou', 'ou', 'ai', 'ea', 'ou', 'ai', 'oa', 'ee', 'ee', 'ie', 'ea', 'io', 'ue', 'ei', 'ia', 'ea', 'io', 'ou', 'ia', 'io', 'ee', 'ee', 'oe', 'ae', 'ie', 'ee', 'oa', 'eo', 'ai', 'ae', 'ou', 'ie', 'oo', 'ai', 'ua', 'ue', 'io', 'ia', 'ai', 'ia', 'ou', 'ue', 'ea', 'ia', 'ui', 'io', 'ia', 'ea', 'ie', 'io', 'ai', 'io', 'io', 'io', 'ui', 'io', 'ai', 'io', 'ee', 'io', 'io', 'ou', 'io', 'ee', 'io', 'ou', 'eo', 'ai', 'ee', 'ea', 'ee', 'ou', 'io', 'oi', 'ai', 'ou', 'io', 'ea', 'ee', 'ua', 'ea', 'io', 'ue', 'io', 'ia', 'io', 'ua', 'au', 'ai', 'ua', 'ee', 'ou', 'ua', 'ee', 'oa', 'ia', 'ea', 'ua', 'io', 'ai', 'io', 'ea', 'io', 'io', 'io', 'ea', 'io', 'io', 'io', 'io', 'ue', 'ea', 'io', 'ia', 'io', 'io', 'io', 'io', 'ou', 'ea', 'ia', 'ue', 'ea', 'io', 'ea', 'ea', 'io', 'io', 'io', 'io', 'io', 'io', 'ea', 'ea', 'ie', 'io', 'ou', 'ai', 'io', 'oo', 'ue', 'ea', 'ou', 'ou', 'ie', 'io', 'ou', 'oo', 'ea', 'io', 'io', 'ui', 'ea', 'oa', 'ai', 'ai', 'ou', 'eo', 'ia', 'ei', 'eo', 'ie', 'ou', 'io', 'ou', 'ea', 'ou', 'oo', 'ea', 'oo', 'ei', 'ou', 'ea', 'ee', 'eo', 'ai', 'ou', 'ie', 'ou', 'ai', 'ou', 'ou', 'ea', 'ou', 'ea', 'ie', 'io', 'ou', 'ea', 'io', 'io', 'ia', 'io', 'ou', 'ai', 'ei', 'ai', 'ou', 'ea', 'ea', 'ea', 'ai', 'ie', 'ou', 'ui', 'au', 'io', 'ea', 'io', 'ee', 'au', 'io', 'ui', 'ai', 'ei', 'io', 'ea', 'ou', 'ie', 'au', 'ia', 'io', 'ie', 'ea', 'ea', 'ie', 'oi', 'ie', 'io', 'io', 'io', 'ou', 'ia', 'oa', 'ia', 'io', 'ea', 'ai', 'ie', 'ui', 'io', 'ie', 'ea', 'ia', 'au', 'au', 'ie', 'ea', 'io', 'ea', 'ie', 'ou', 'ia', 'ia', 'ea', 'ea', 'ie', 'ea', 'ie', 'ou', 'eo', 'io', 'ia', 'ua', 'io', 'io', 'ou', 'ea', 'ou', 'ia', 'io', 'ie', 'ia', 'ou', 'ia', 'io', 'ui', 'ui', 'ea', 'ia', 'ou', 'ou', 'io', 'ia', 'ou', 'io', 'ie', 'ia', 'ia', 'ea', 'ou', 'ou', 'ia', 'ie', 'ia', 'ee', 'ia', 'ea', 'ia', 'ia', 'io', 'ee', 'ea', 'ue', 'ee', 'ei', 'ue', 'ea', 'ia', 'io', 'io', 'ia', 'ou', 'ee', 'ue', 'ue', 'oe', 'io', 'ia', 'ie', 'ea', 'ee', 'ea', 'ie', 'io', 'io', 'ou', 'ia', 'io', 'ue', 'ia', 'ea', 'ai', 'ui', 'io', 'ai', 'io', 'ui', 'ou', 'ia', 'oo', 'ie', 'ai', 'oa', 'ia', 'oo', 'ia', 'oo', 'ou', 'ou', 'ia', 'ea', 'ui', 'ia', 'ee', 'ie', 'io', 'ia', 'ia', 'ou', 'ue', 'ui', 'ia', 'ea', 'ia', 'ie', 'ee', 'ea', 'ou', 'ia', 'ou', 'oo', 'oi', 'io', 'ee', 'ia', 'ie', 'ie', 'ia', 'ie', 'ee', 'io', 'ee', 'eo', 'ie', 'ea', 'ou', 'ia', 'ea', 'ei', 'ou', 'ou', 'ia', 'eo', 'io', 'ea', 'ie', 'au', 'ia', 'oa', 'oa', 'ea', 'io', 'ua', 'ai', 'ou', 'io', 'ai', 'eu', 'ei', 'eu', 'ia', 'oo', 'ia', 'ai', 'eu', 'ie', 'eu', 'ea', 'oo', 'ie', 'ie', 'ia', 'ea', 'oo', 'ai', 'ei', 'io', 'ei', 'eu', 'io', 'ea', 'ai', 'io', 'ei', 'ei', 'ea', 'ea', 'ia', 'io', 'ea', 'ai', 'ai', 'io', 'io', 'ea', 'ea', 'ou', 'ei', 'ee', 'ia', 'io', 'ua', 'ie', 'ua', 'ie', 'eo', 'ia', 'ia', 'ee', 'io', 'ai', 'ue', 'io', 'ea', 'ai', 'ua', 'io', 'ou', 'oi', 'ou', 'ou', 'ie', 'io', 'ie', 'ou', 'ee', 'ou', 'io', 'ai', 'io', 'au', 'io', 'ue', 'io', 'ou', 'io', 'ia', 'ai', 'io', 'ie', 'ou', 'ea', 'ua', 'ie', 'ie', 'ai', 'ie', 'ua', 'ie', 'ee', 'ie', 'ou', 'ia', 'io', 'ua', 'ie', 'ai', 'ai', 'ee', 'ui', 'ou', 'io', 'ie', 'ou', 'ai', 'ia', 'ee', 'io', 'ie', 'ia', 'oi', 'oo', 'ee', 'ai', 'ee', 'ie', 'ai', 'io', 'io', 'io', 'ia', 'ea', 'ea', 'io', 'io', 'ue', 'ea', 'ai', 'ou', 'ea', 'au', 'ue', 'ai', 'ea', 'ea', 'ai', 'io', 'io', 'ai', 'io', 'ia', 'ai', 'ie', 'io', 'io', 'ou', 'ie', 'ea', 'uo', 'ee', 'ea', 'ou', 'io', 'ai', 'io', 'ou', 'ea', 'io', 'io', 'ai', 'ai', 'eo', 'ou', 'io', 'ea', 'ai', 'ea', 'ee', 'ou', 'ua', 'ia', 'ai', 'ou', 'ee', 'eu', 'ai', 'io', 'ai', 'ee', 'ea', 'ou', 'ea', 'ua', 'io', 'ua', 'ai', 'eo', 'oo', 'ea', 'ai', 'ea', 'ou', 'ue', 'io', 'au', 'ei', 'ai', 'ei', 'ee', 'ou', 'ee', 'ea', 'ea', 'ou', 'ie', 'ai', 'ea', 'ea', 'ia', 'io', 'ee', 'eo', 'io', 'ea', 'ie', 'ea', 'ui', 'ai', 'ea', 'ea', 'ie', 'io', 'ou', 'ai', 'ia', 'io', 'ea', 'oa', 'ee', 'ai', 'ou', 'ea', 'au', 'ia', 'ee', 'ea', 'ue', 'ou', 'ue', 'io', 'au', 'ou', 'ie', 'ai', 'ea', 'oo', 'ou', 'ea', 'au', 'ea', 'io', 'ui', 'oo', 'ou', 'io', 'ou', 'eu', 'oo', 'ea', 'io', 'ou', 'ea', 'eu', 'io', 'ea', 'ie', 'ea', 'io', 'ai', 'eu', 'ea', 'ou', 'ia', 'io', 'ou', 'ua', 'ue', 'ue', 'io', 'ea', 'io', 'eu', 'ei', 'ou', 'ea', 'ou', 'ia', 'ai', 'ai', 'ou', 'ui', 'ou', 'ou', 'ou', 'ea', 'io', 'ia', 'ai', 'ee', 'ia', 'ia', 'ie', 'ee', 'io', 'ue', 'ue', 'ai', 'ea', 'ou', 'ei', 'ou', 'ia', 'ou', 'ei', 'ui', 'ou', 'oo', 'ou', 'ou', 'ou', 'ou', 'ua', 'io', 'io', 'io', 'ee', 'ea', 'ea', 'oi', 'ee', 'ea', 'ui', 'ou', 'oo', 'ie', 'uo', 'ou', 'ea', 'oo', 'ia', 'ea', 'ou', 'ia', 'ia', 'au', 'oo', 'ou', 'ee', 'au', 'oo', 'au', 'io', 'au', 'oo', 'ea', 'ou', 'ou', 'io', 'io', 'ea', 'ee', 'ie', 'oo', 'ou', 'ee', 'ai', 'io', 'ee', 'oe', 'ue', 'ou', 'ou', 'eo', 'ia', 'ea', 'ai', 'ai', 'ue', 'io', 'ou', 'io', 'ee', 'ie', 'au', 'ea', 'ue', 'ai', 'ai', 'ie', 'ae', 'ae', 'ie', 'ee', 'ou', 'ai', 'ua', 'io', 'ou', 'ou', 'ui', 'ai', 'ia', 'ae', 'ae', 'ae', 'ae', 'oi', 'ei', 'ea', 'ae', 'ae', 'ie', 'io', 'ae', 'ae', 'ia', 'ai', 'io', 'ou', 'ea', 'io', 'aa', 'io', 'ae', 'ae', 'io', 'aa', 'ae', 'ae', 'ai', 'io', 'aa', 'ia', 'ai', 'ae', 'ae', 'ia', 'ui', 'ee', 'ae', 'ae', 'ai', 'io', 'ou', 'ee', 'ae', 'ae', 'ee', 'ue', 'ou', 'ui', 'ai', 'ia', 'ie', 'ia', 'io', 'ou', 'ai', 'io', 'ie', 'ea', 'ea', 'ee', 'ee', 'ai', 'oi', 'ui', 'io', 'io', 'io', 'eo', 'io', 'ou', 'oi', 'ea', 'ua', 'ou', 'ai', 'ai', 'ue', 'ai', 'ee', 'ui', 'ee', 'ou', 'ua', 'ea', 'oo', 'ou', 'ea', 'io', 'io', 'ea', 'ea', 'ie', 'io', 'io', 'ea', 'ea', 'io', 'ea', 'ea', 'io', 'io', 'ea', 'ai', 'io', 'ea', 'oo', 'io', 'ea', 'io', 'io', 'ai', 'ou', 'ee', 'io', 'ou', 'ou', 'ea', 'iu', 'ea', 'ai', 'ou', 'ua', 'ie', 'oo', 'ui', 'ea', 'oo', 'ai', 'ea', 'io', 'ea', 'ea', 'io', 'ea', 'ea', 'ai', 'ea', 'ui', 'ou', 'ie', 'ua', 'ia', 'ie', 'ea', 'ee', 'ua', 'ea', 'ua', 'ua', 'ea', 'ee', 'ue', 'ua', 'ai', 'io', 'ui', 'io', 'oo', 'ia', 'ie', 'io', 'au', 'io', 'ai', 'ie', 'ou', 'ai', 'oa', 'ie', 'oa', 'ea', 'ea', 'ie', 'ai', 'oa', 'ie', 'ea', 'ai', 'ou', 'ou', 'ee', 'ei', 'io', 'ie', 'ie', 'io', 'ou', 'ou', 'io', 'ie', 'io', 'ie', 'io', 'ua', 'ou', 'ai', 'ea', 'au', 'au', 'ea', 'io', 'ai', 'ia', 'io', 'oi', 'ea', 'au', 'ea', 'ai', 'io', 'ea', 'ei', 'ee', 'oa', 'ou', 'ou', 'au', 'ee', 'ou', 'ee', 'ou', 'ou', 'ee', 'ea', 'ie', 'au', 'oi', 'ee', 'io', 'ea', 'ai', 'ee', 'ia', 'ua', 'io', 'ee', 'ue', 'ou', 'ea', 'ee', 'ou', 'io', 'ee', 'ou', 'ai', 'ea', 'ou', 'ea', 'ai', 'ee', 'oa', 'ai', 'oa', 'ee', 'ie', 'au', 'ui', 'ou', 'io', 'io', 'ea', 'au', 'ou', 'ou', 'ei', 'ai', 'ai', 'ou', 'ea', 'ai', 'ee', 'ai', 'oa', 'oo', 'ea', 'ou', 'ai', 'ou', 'ou', 'ou', 'ea', 'ie', 'ai', 'ee', 'ia', 'io', 'ea', 'ai', 'ai', 'ie', 'ea', 'ou', 'ou', 'oe', 'ea', 'ou', 'ai', 'ea', 'oa', 'ie', 'ea', 'ai', 'oa', 'ea', 'ea', 'ai', 'au', 'ia', 'ea', 'ie', 'io', 'ie', 'au', 'ie', 'io', 'ua', 'ea', 'ie', 'eo', 'io', 'ea', 'oi', 'ea', 'io', 'ea', 'oi', 'ea', 'ea', 'ea', 'oi', 'ia', 'ue', 'ea', 'ea', 'ie', 'ou', 'ou', 'ua', 'ou', 'io', 'ei', 'ue', 'io', 'ee', 'ea', 'ia', 'ei', 'ea', 'io', 'ai', 'ui', 'ie', 'ai', 'ea', 'io', 'ai', 'ia', 'ea', 'ai', 'ie', 'ou', 'ai', 'ou', 'ou', 'ia', 'au', 'ea', 'ou', 'ai', 'ea', 'ou', 'ai', 'ue', 'ea', 'io', 'ai', 'ea', 'oo', 'au', 'ea', 'ea', 'ue', 'ou', 'io', 'ia', 'io', 'ee', 'io', 'ea', 'ea', 'ia', 'ea', 'oi', 'io', 'ai', 'io', 'ia', 'io', 'ou', 'ea', 'ei', 'ua', 'oi', 'ai', 'ea', 'ee', 'io', 'io', 'ee', 'ea', 'io', 'ea', 'ea', 'ie', 'io', 'ua', 'ai', 'io', 'ai', 'ea', 'ea', 'ie', 'ua', 'io', 'io', 'io', 'ai', 'io', 'io', 'ea', 'ea', 'ee', 'ea', 'ua', 'ua', 'oo', 'ua', 'ie', 'ee', 'io', 'ue', 'ou', 'ee', 'io', 'ue', 'oo', 'oi', 'ai', 'ai', 'ia', 'ou', 'au', 'eo', 'ee', 'ea', 'ee', 'ea', 'ee', 'ai', 'io', 'oi', 'ee', 'ee', 'io', 'io', 'ee', 'ou', 'ea', 'ua', 'ai', 'ee', 'ea', 'ee', 'ei', 'ee', 'ee', 'ie', 'ea', 'ee', 'io', 'ea', 'ee', 'ee', 'ai', 'ei', 'ea', 'ie', 'ea', 'ai', 'ea', 'ee', 'oa', 'ee', 'oo', 'ea', 'oi', 'oo', 'io', 'io', 'io', 'ue', 'ou', 'io', 'io', 'ou', 'oi', 'ee', 'io', 'ou', 'ou', 'io', 'ou', 'ua', 'ou', 'io', 'io', 'ou', 'ou', 'ea', 'ea', 'eo', 'io', 'ai', 'ie', 'ou', 'ee', 'io', 'io', 'io', 'io', 'ie', 'ia', 'ie', 'ee', 'eo', 'ie', 'ia', 'ua', 'oo', 'ea', 'oa', 'ai', 'io', 'io', 'ou', 'ia', 'ae', 'ee', 'ie', 'ea', 'io', 'ai', 'oe', 'au', 'au', 'oo', 'ai', 'ai', 'au', 'ou', 'io', 'au', 'ie', 'io', 'ou', 'io', 'ou', 'ea', 'ai', 'ou', 'ou', 'ai', 'ee', 'io', 'au', 'ui', 'oi', 'io', 'au', 'ai', 'io', 'au', 'ia', 'ea', 'eo', 'ai', 'ia', 'io', 'ea', 'io', 'ai', 'au', 'ie', 'ea', 'ai', 'io', 'ou', 'ou', 'io', 'ai', 'au', 'ou', 'io', 'ie', 'ai', 'ea', 'ee', 'ai', 'ai', 'ai', 'ai', 'ua', 'ea']\n"
          ]
        },
        {
          "output_type": "execute_result",
          "data": {
            "text/plain": [
              "[('io', 2618),\n",
              " ('ea', 2255),\n",
              " ('ou', 2129),\n",
              " ('ai', 1559),\n",
              " ('ie', 1110),\n",
              " ('ee', 1061),\n",
              " ('ia', 998),\n",
              " ('oo', 538),\n",
              " ('ue', 510),\n",
              " ('ei', 448),\n",
              " ('au', 383),\n",
              " ('ui', 366),\n",
              " ('ua', 358),\n",
              " ('oi', 264),\n",
              " ('oa', 202),\n",
              " ('eo', 197),\n",
              " ('oe', 88),\n",
              " ('ae', 62),\n",
              " ('eu', 50),\n",
              " ('iu', 41),\n",
              " ('uo', 23),\n",
              " ('ao', 10),\n",
              " ('aa', 5),\n",
              " ('uu', 4)]"
            ]
          },
          "metadata": {},
          "execution_count": 393
        }
      ]
    },
    {
      "cell_type": "markdown",
      "metadata": {
        "id": "UyIIqwosCRZa"
      },
      "source": [
        "### Extract information (pos tag, named entity)"
      ]
    },
    {
      "cell_type": "markdown",
      "metadata": {
        "id": "Jy6xUpXzHY3e"
      },
      "source": [
        "pos(part of speech-품사)를 taging해줌"
      ]
    },
    {
      "cell_type": "code",
      "metadata": {
        "id": "8VBiObftCVwH"
      },
      "source": [
        "sent = \"I am Jhon from America and would like to go to Starbucks\"\n",
        "words = nltk.word_tokenize(sent)"
      ],
      "execution_count": 394,
      "outputs": []
    },
    {
      "cell_type": "code",
      "metadata": {
        "id": "f2HuyzFWCe3U",
        "outputId": "db8bce2e-fa4c-465f-b5bf-f0bad44756c2",
        "colab": {
          "base_uri": "https://localhost:8080/",
          "height": 148
        }
      },
      "source": [
        "'''\n",
        "POS tag list:\n",
        "\n",
        "CC\tcoordinating conjunction\n",
        "CD\tcardinal digit\n",
        "DT\tdeterminer\n",
        "EX\texistential there (like: \"there is\" ... think of it like \"there exists\")\n",
        "FW\tforeign word\n",
        "IN\tpreposition/subordinating conjunction\n",
        "JJ\tadjective\t'big'\n",
        "JJR\tadjective, comparative\t'bigger'\n",
        "JJS\tadjective, superlative\t'biggest'\n",
        "LS\tlist marker\t1)\n",
        "MD\tmodal\tcould, will\n",
        "NN\tnoun, singular 'desk'\n",
        "NNS\tnoun plural\t'desks'\n",
        "NNP\tproper noun, singular\t'Harrison'\n",
        "NNPS\tproper noun, plural\t'Americans'\n",
        "PDT\tpredeterminer\t'all the kids'\n",
        "POS\tpossessive ending\tparent's\n",
        "PRP\tpersonal pronoun\tI, he, she\n",
        "PRP$\tpossessive pronoun\tmy, his, hers\n",
        "RB\tadverb\tvery, silently,\n",
        "RBR\tadverb, comparative\tbetter\n",
        "RBS\tadverb, superlative\tbest\n",
        "RP\tparticle\tgive up\n",
        "TO\tto\tgo 'to' the store.\n",
        "UH\tinterjection\terrrrrrrrm\n",
        "VB\tverb, base form\ttake\n",
        "VBD\tverb, past tense\ttook\n",
        "VBG\tverb, gerund/present participle\ttaking\n",
        "VBN\tverb, past participle\ttaken\n",
        "VBP\tverb, sing. present, non-3d\ttake\n",
        "VBZ\tverb, 3rd person sing. present\ttakes\n",
        "WDT\twh-determiner\twhich\n",
        "WP\twh-pronoun\twho, what\n",
        "WP$\tpossessive wh-pronoun\twhose\n",
        "WRB\twh-abverb\twhere, when\n",
        "'''"
      ],
      "execution_count": 395,
      "outputs": [
        {
          "output_type": "execute_result",
          "data": {
            "application/vnd.google.colaboratory.intrinsic+json": {
              "type": "string"
            },
            "text/plain": [
              "'\\nPOS tag list:\\n\\nCC\\tcoordinating conjunction\\nCD\\tcardinal digit\\nDT\\tdeterminer\\nEX\\texistential there (like: \"there is\" ... think of it like \"there exists\")\\nFW\\tforeign word\\nIN\\tpreposition/subordinating conjunction\\nJJ\\tadjective\\t\\'big\\'\\nJJR\\tadjective, comparative\\t\\'bigger\\'\\nJJS\\tadjective, superlative\\t\\'biggest\\'\\nLS\\tlist marker\\t1)\\nMD\\tmodal\\tcould, will\\nNN\\tnoun, singular \\'desk\\'\\nNNS\\tnoun plural\\t\\'desks\\'\\nNNP\\tproper noun, singular\\t\\'Harrison\\'\\nNNPS\\tproper noun, plural\\t\\'Americans\\'\\nPDT\\tpredeterminer\\t\\'all the kids\\'\\nPOS\\tpossessive ending\\tparent\\'s\\nPRP\\tpersonal pronoun\\tI, he, she\\nPRP$\\tpossessive pronoun\\tmy, his, hers\\nRB\\tadverb\\tvery, silently,\\nRBR\\tadverb, comparative\\tbetter\\nRBS\\tadverb, superlative\\tbest\\nRP\\tparticle\\tgive up\\nTO\\tto\\tgo \\'to\\' the store.\\nUH\\tinterjection\\terrrrrrrrm\\nVB\\tverb, base form\\ttake\\nVBD\\tverb, past tense\\ttook\\nVBG\\tverb, gerund/present participle\\ttaking\\nVBN\\tverb, past participle\\ttaken\\nVBP\\tverb, sing. present, non-3d\\ttake\\nVBZ\\tverb, 3rd person sing. present\\ttakes\\nWDT\\twh-determiner\\twhich\\nWP\\twh-pronoun\\twho, what\\nWP$\\tpossessive wh-pronoun\\twhose\\nWRB\\twh-abverb\\twhere, when\\n'"
            ]
          },
          "metadata": {},
          "execution_count": 395
        }
      ]
    },
    {
      "cell_type": "code",
      "metadata": {
        "colab": {
          "base_uri": "https://localhost:8080/"
        },
        "id": "AwKdu36WCewv",
        "outputId": "66231a08-4c99-49a9-9d32-52f9501b10fc"
      },
      "source": [
        "nltk.download('averaged_perceptron_tagger')\n",
        "pos = nltk.pos_tag(words)"
      ],
      "execution_count": 396,
      "outputs": [
        {
          "output_type": "stream",
          "name": "stdout",
          "text": [
            "[nltk_data] Downloading package averaged_perceptron_tagger to\n",
            "[nltk_data]     /root/nltk_data...\n",
            "[nltk_data]   Package averaged_perceptron_tagger is already up-to-\n",
            "[nltk_data]       date!\n"
          ]
        }
      ]
    },
    {
      "cell_type": "code",
      "metadata": {
        "colab": {
          "base_uri": "https://localhost:8080/"
        },
        "id": "rnjGT1HpClE0",
        "outputId": "29566cbd-6a73-4874-cee5-b50720665562"
      },
      "source": [
        "nltk.download('maxent_ne_chunker')\n",
        "NE = nltk.ne_chunk(pos)\n",
        "# common Entity types: ORGANIZATION, PERSON, LOCATION, DATE, TIME, MONEY, and GPE (geo-political entity)"
      ],
      "execution_count": 397,
      "outputs": [
        {
          "output_type": "stream",
          "name": "stdout",
          "text": [
            "[nltk_data] Downloading package maxent_ne_chunker to\n",
            "[nltk_data]     /root/nltk_data...\n",
            "[nltk_data]   Package maxent_ne_chunker is already up-to-date!\n"
          ]
        }
      ]
    }
  ]
}